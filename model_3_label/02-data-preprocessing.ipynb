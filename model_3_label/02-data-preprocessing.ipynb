{
 "cells": [
  {
   "cell_type": "code",
   "execution_count": 1,
   "id": "8fa67dcd",
   "metadata": {
    "ExecuteTime": {
     "end_time": "2022-01-14T12:34:59.062018Z",
     "start_time": "2022-01-14T12:34:31.635447Z"
    }
   },
   "outputs": [],
   "source": [
    "# Import Library\n",
    "\n",
    "import pandas as pd\n",
    "from nltk.tokenize import word_tokenize\n",
    "from sklearn.feature_extraction.text import CountVectorizer\n",
    "from Sastrawi.Stemmer.StemmerFactory import StemmerFactory\n",
    "\n",
    "import re\n",
    "import warnings\n",
    "from tqdm.auto import tqdm\n",
    "warnings.filterwarnings('ignore')\n",
    "%matplotlib inline"
   ]
  },
  {
   "cell_type": "code",
   "execution_count": 2,
   "id": "9516f076",
   "metadata": {
    "ExecuteTime": {
     "end_time": "2022-01-14T12:35:02.794228Z",
     "start_time": "2022-01-14T12:34:59.257239Z"
    }
   },
   "outputs": [
    {
     "data": {
      "text/html": [
       "<div>\n",
       "<style scoped>\n",
       "    .dataframe tbody tr th:only-of-type {\n",
       "        vertical-align: middle;\n",
       "    }\n",
       "\n",
       "    .dataframe tbody tr th {\n",
       "        vertical-align: top;\n",
       "    }\n",
       "\n",
       "    .dataframe thead th {\n",
       "        text-align: right;\n",
       "    }\n",
       "</style>\n",
       "<table border=\"1\" class=\"dataframe\">\n",
       "  <thead>\n",
       "    <tr style=\"text-align: right;\">\n",
       "      <th></th>\n",
       "      <th>Tweet</th>\n",
       "      <th>HS</th>\n",
       "      <th>Abusive</th>\n",
       "      <th>Char_Length</th>\n",
       "    </tr>\n",
       "  </thead>\n",
       "  <tbody>\n",
       "    <tr>\n",
       "      <th>0</th>\n",
       "      <td>- disaat semua cowok berusaha melacak perhatia...</td>\n",
       "      <td>1</td>\n",
       "      <td>1</td>\n",
       "      <td>138</td>\n",
       "    </tr>\n",
       "    <tr>\n",
       "      <th>1</th>\n",
       "      <td>RT USER: USER siapa yang telat ngasih tau elu?...</td>\n",
       "      <td>0</td>\n",
       "      <td>1</td>\n",
       "      <td>120</td>\n",
       "    </tr>\n",
       "    <tr>\n",
       "      <th>2</th>\n",
       "      <td>41. Kadang aku berfikir, kenapa aku tetap perc...</td>\n",
       "      <td>0</td>\n",
       "      <td>0</td>\n",
       "      <td>254</td>\n",
       "    </tr>\n",
       "    <tr>\n",
       "      <th>3</th>\n",
       "      <td>USER USER AKU ITU AKU\\n\\nKU TAU MATAMU SIPIT T...</td>\n",
       "      <td>0</td>\n",
       "      <td>0</td>\n",
       "      <td>75</td>\n",
       "    </tr>\n",
       "    <tr>\n",
       "      <th>4</th>\n",
       "      <td>USER USER Kaum cebong kapir udah keliatan dong...</td>\n",
       "      <td>1</td>\n",
       "      <td>1</td>\n",
       "      <td>89</td>\n",
       "    </tr>\n",
       "  </tbody>\n",
       "</table>\n",
       "</div>"
      ],
      "text/plain": [
       "                                               Tweet  HS  Abusive  Char_Length\n",
       "0  - disaat semua cowok berusaha melacak perhatia...   1        1          138\n",
       "1  RT USER: USER siapa yang telat ngasih tau elu?...   0        1          120\n",
       "2  41. Kadang aku berfikir, kenapa aku tetap perc...   0        0          254\n",
       "3  USER USER AKU ITU AKU\\n\\nKU TAU MATAMU SIPIT T...   0        0           75\n",
       "4  USER USER Kaum cebong kapir udah keliatan dong...   1        1           89"
      ]
     },
     "execution_count": 2,
     "metadata": {},
     "output_type": "execute_result"
    }
   ],
   "source": [
    "# Load Dataset\n",
    "\n",
    "dataset = pd.read_csv('../dataset/data_modelling/data_preparation_notneutral.csv', index_col=None)\n",
    "dataset.head()"
   ]
  },
  {
   "cell_type": "code",
   "execution_count": null,
   "id": "3954cfe5",
   "metadata": {},
   "outputs": [],
   "source": []
  },
  {
   "cell_type": "markdown",
   "id": "ed8d6a7b",
   "metadata": {},
   "source": [
    "# Casefolding"
   ]
  },
  {
   "cell_type": "code",
   "execution_count": 3,
   "id": "c63f2fb2",
   "metadata": {
    "ExecuteTime": {
     "end_time": "2022-01-14T12:35:05.643347Z",
     "start_time": "2022-01-14T12:35:04.549172Z"
    }
   },
   "outputs": [
    {
     "data": {
      "application/vnd.jupyter.widget-view+json": {
       "model_id": "4b64c7e8a3cb4a72971bf352b7de65eb",
       "version_major": 2,
       "version_minor": 0
      },
      "text/plain": [
       "  0%|          | 0/13169 [00:00<?, ?it/s]"
      ]
     },
     "metadata": {},
     "output_type": "display_data"
    },
    {
     "data": {
      "text/html": [
       "<div>\n",
       "<style scoped>\n",
       "    .dataframe tbody tr th:only-of-type {\n",
       "        vertical-align: middle;\n",
       "    }\n",
       "\n",
       "    .dataframe tbody tr th {\n",
       "        vertical-align: top;\n",
       "    }\n",
       "\n",
       "    .dataframe thead th {\n",
       "        text-align: right;\n",
       "    }\n",
       "</style>\n",
       "<table border=\"1\" class=\"dataframe\">\n",
       "  <thead>\n",
       "    <tr style=\"text-align: right;\">\n",
       "      <th></th>\n",
       "      <th>Tweet</th>\n",
       "      <th>HS</th>\n",
       "      <th>Abusive</th>\n",
       "      <th>Char_Length</th>\n",
       "      <th>Casefolding</th>\n",
       "    </tr>\n",
       "  </thead>\n",
       "  <tbody>\n",
       "    <tr>\n",
       "      <th>0</th>\n",
       "      <td>- disaat semua cowok berusaha melacak perhatia...</td>\n",
       "      <td>1</td>\n",
       "      <td>1</td>\n",
       "      <td>138</td>\n",
       "      <td>disaat semua cowok berusaha melacak perhatian...</td>\n",
       "    </tr>\n",
       "    <tr>\n",
       "      <th>1</th>\n",
       "      <td>RT USER: USER siapa yang telat ngasih tau elu?...</td>\n",
       "      <td>0</td>\n",
       "      <td>1</td>\n",
       "      <td>120</td>\n",
       "      <td>siapa yang telat ngasih tau elu edan sarap gu...</td>\n",
       "    </tr>\n",
       "    <tr>\n",
       "      <th>2</th>\n",
       "      <td>41. Kadang aku berfikir, kenapa aku tetap perc...</td>\n",
       "      <td>0</td>\n",
       "      <td>0</td>\n",
       "      <td>254</td>\n",
       "      <td>41 kadang aku berfikir kenapa aku tetap percay...</td>\n",
       "    </tr>\n",
       "    <tr>\n",
       "      <th>3</th>\n",
       "      <td>USER USER AKU ITU AKU\\n\\nKU TAU MATAMU SIPIT T...</td>\n",
       "      <td>0</td>\n",
       "      <td>0</td>\n",
       "      <td>75</td>\n",
       "      <td>aku itu aku n nku tau matamu sipit tapi dilia...</td>\n",
       "    </tr>\n",
       "    <tr>\n",
       "      <th>4</th>\n",
       "      <td>USER USER Kaum cebong kapir udah keliatan dong...</td>\n",
       "      <td>1</td>\n",
       "      <td>1</td>\n",
       "      <td>89</td>\n",
       "      <td>kaum cebong kapir udah keliatan dongoknya dar...</td>\n",
       "    </tr>\n",
       "  </tbody>\n",
       "</table>\n",
       "</div>"
      ],
      "text/plain": [
       "                                               Tweet  HS  Abusive  \\\n",
       "0  - disaat semua cowok berusaha melacak perhatia...   1        1   \n",
       "1  RT USER: USER siapa yang telat ngasih tau elu?...   0        1   \n",
       "2  41. Kadang aku berfikir, kenapa aku tetap perc...   0        0   \n",
       "3  USER USER AKU ITU AKU\\n\\nKU TAU MATAMU SIPIT T...   0        0   \n",
       "4  USER USER Kaum cebong kapir udah keliatan dong...   1        1   \n",
       "\n",
       "   Char_Length                                        Casefolding  \n",
       "0          138   disaat semua cowok berusaha melacak perhatian...  \n",
       "1          120   siapa yang telat ngasih tau elu edan sarap gu...  \n",
       "2          254  41 kadang aku berfikir kenapa aku tetap percay...  \n",
       "3           75   aku itu aku n nku tau matamu sipit tapi dilia...  \n",
       "4           89   kaum cebong kapir udah keliatan dongoknya dar...  "
      ]
     },
     "execution_count": 3,
     "metadata": {},
     "output_type": "execute_result"
    }
   ],
   "source": [
    "def lowercase(text):\n",
    "    return text.lower()\n",
    "\n",
    "def remove_unnecessary_char(text):\n",
    "    text = re.sub('\\n',' ',text)\n",
    "    text = re.sub('rt',' ',text)\n",
    "    text = re.sub('user',' ',text)\n",
    "    text = re.sub('((www\\.[^\\s]+)|(https?://[^\\s]+)|(http?://[^\\s]+))',' ',text)\n",
    "    text = re.sub('  +', ' ', text)\n",
    "    return text\n",
    "    \n",
    "def remove_nonaplhanumeric(text):\n",
    "    text = re.sub('[^0-9a-zA-Z]+', ' ', text)\n",
    "    return text\n",
    "\n",
    "def casefold(text):\n",
    "    text = lowercase(text)\n",
    "    text = remove_nonaplhanumeric(text)\n",
    "    text = remove_unnecessary_char(text)\n",
    "    return text\n",
    "\n",
    "dataset['Casefolding'] = tqdm(dataset['Tweet'].apply(casefold))\n",
    "dataset.head()"
   ]
  },
  {
   "cell_type": "code",
   "execution_count": null,
   "id": "ddd42e05",
   "metadata": {},
   "outputs": [],
   "source": [
    "#data_casefolding = dataset[[\"Tweet\", \"Casefolding\"]][0:15]\n",
    "#data_casefolding.to_csv(\"../../../asset/data_casefolding.xlsx\", index=False)"
   ]
  },
  {
   "cell_type": "code",
   "execution_count": 4,
   "id": "0c977d52",
   "metadata": {},
   "outputs": [],
   "source": [
    "dataset.to_csv(\"../dataset/data_modelling/data_casefolding_not_neutral.csv\", index=False)"
   ]
  },
  {
   "cell_type": "code",
   "execution_count": 5,
   "id": "5555fa08",
   "metadata": {},
   "outputs": [
    {
     "name": "stdout",
     "output_type": "stream",
     "text": [
      "Review 1:\n",
      " prabowo sudah kalah menyebut bantuan jokowi hanya pencitraan adalah ratapan pilu\n",
      "Review 2:\n",
      "  dan yang takut dengan adzan adalah iblis \n",
      "Review 3:\n",
      "  yg goblog itu adalah bani cebong tukang tipu penjilat penguasa yg ketahuan gerakin masa yg dibayar pakai nasi bungkus propaganda nasi bungkus memang selalu gagal \n",
      "Review 4:\n",
      "  wuih cebong sewot n xf0 x9f x98 x82 xf0 x9f x98 x82 xf0 x9f x98 x82 \n",
      "Review 5:\n",
      " 2 gerakan ini menekankan pentingnya kerja keras secara total untuk tingkatkan potensi bangsa\n",
      "Review 6:\n",
      " padahal gubernur saat ini djarot mayoritas pa ai politik di dprd juga pendukung ahok djarot payah ya mereka url\n",
      "Review 7:\n",
      "  rezim rusak bukan memperbaiki systeamnya malah sibuk cari2 kesalahan klu itu pasti ketemu aja kpk alatnya besok pemerintah berganti berulang kembali engah pernah selesai siapapun organisasi orangnya \n",
      "Review 8:\n",
      " saat orang orang saling menuding antek aseng aseng sesungguhnya be epuk tangan \n",
      "Review 9:\n",
      "  nah loh katanya anti aseng \n",
      "Review 10:\n",
      " selamat pak semoga bisa terus berkiprah bahkan tingkat nasional \n"
     ]
    }
   ],
   "source": [
    "for index, text in enumerate(dataset['Casefolding'][100:110]):\n",
    "  print('Review %d:\\n'%(index+1),text)"
   ]
  },
  {
   "cell_type": "markdown",
   "id": "05fd4eb9",
   "metadata": {},
   "source": [
    "# Stopwords"
   ]
  },
  {
   "cell_type": "code",
   "execution_count": 6,
   "id": "a37813ae",
   "metadata": {
    "ExecuteTime": {
     "end_time": "2022-01-14T12:35:20.900606Z",
     "start_time": "2022-01-14T12:35:05.690324Z"
    }
   },
   "outputs": [
    {
     "data": {
      "application/vnd.jupyter.widget-view+json": {
       "model_id": "e985e0187db5466d8103675896c3be15",
       "version_major": 2,
       "version_minor": 0
      },
      "text/plain": [
       "  0%|          | 0/13169 [00:00<?, ?it/s]"
      ]
     },
     "metadata": {},
     "output_type": "display_data"
    },
    {
     "data": {
      "text/html": [
       "<div>\n",
       "<style scoped>\n",
       "    .dataframe tbody tr th:only-of-type {\n",
       "        vertical-align: middle;\n",
       "    }\n",
       "\n",
       "    .dataframe tbody tr th {\n",
       "        vertical-align: top;\n",
       "    }\n",
       "\n",
       "    .dataframe thead th {\n",
       "        text-align: right;\n",
       "    }\n",
       "</style>\n",
       "<table border=\"1\" class=\"dataframe\">\n",
       "  <thead>\n",
       "    <tr style=\"text-align: right;\">\n",
       "      <th></th>\n",
       "      <th>Tweet</th>\n",
       "      <th>HS</th>\n",
       "      <th>Abusive</th>\n",
       "      <th>Char_Length</th>\n",
       "      <th>Casefolding</th>\n",
       "      <th>Stopwords</th>\n",
       "    </tr>\n",
       "  </thead>\n",
       "  <tbody>\n",
       "    <tr>\n",
       "      <th>0</th>\n",
       "      <td>- disaat semua cowok berusaha melacak perhatia...</td>\n",
       "      <td>1</td>\n",
       "      <td>1</td>\n",
       "      <td>138</td>\n",
       "      <td>disaat semua cowok berusaha melacak perhatian...</td>\n",
       "      <td>cowok berusaha melacak perhatian lantas remehk...</td>\n",
       "    </tr>\n",
       "    <tr>\n",
       "      <th>1</th>\n",
       "      <td>RT USER: USER siapa yang telat ngasih tau elu?...</td>\n",
       "      <td>0</td>\n",
       "      <td>1</td>\n",
       "      <td>120</td>\n",
       "      <td>siapa yang telat ngasih tau elu edan sarap gu...</td>\n",
       "      <td>telat tau edan sarap bergaul licew</td>\n",
       "    </tr>\n",
       "    <tr>\n",
       "      <th>2</th>\n",
       "      <td>41. Kadang aku berfikir, kenapa aku tetap perc...</td>\n",
       "      <td>0</td>\n",
       "      <td>0</td>\n",
       "      <td>254</td>\n",
       "      <td>41 kadang aku berfikir kenapa aku tetap percay...</td>\n",
       "      <td>41 kadang berpikir percaya tuhan jatuh berkali...</td>\n",
       "    </tr>\n",
       "    <tr>\n",
       "      <th>3</th>\n",
       "      <td>USER USER AKU ITU AKU\\n\\nKU TAU MATAMU SIPIT T...</td>\n",
       "      <td>0</td>\n",
       "      <td>0</td>\n",
       "      <td>75</td>\n",
       "      <td>aku itu aku n nku tau matamu sipit tapi dilia...</td>\n",
       "      <td>ku tau matamu sipit</td>\n",
       "    </tr>\n",
       "    <tr>\n",
       "      <th>4</th>\n",
       "      <td>USER USER Kaum cebong kapir udah keliatan dong...</td>\n",
       "      <td>1</td>\n",
       "      <td>1</td>\n",
       "      <td>89</td>\n",
       "      <td>kaum cebong kapir udah keliatan dongoknya dar...</td>\n",
       "      <td>kaum cebong kafir dongoknya dungu haha</td>\n",
       "    </tr>\n",
       "  </tbody>\n",
       "</table>\n",
       "</div>"
      ],
      "text/plain": [
       "                                               Tweet  HS  Abusive  \\\n",
       "0  - disaat semua cowok berusaha melacak perhatia...   1        1   \n",
       "1  RT USER: USER siapa yang telat ngasih tau elu?...   0        1   \n",
       "2  41. Kadang aku berfikir, kenapa aku tetap perc...   0        0   \n",
       "3  USER USER AKU ITU AKU\\n\\nKU TAU MATAMU SIPIT T...   0        0   \n",
       "4  USER USER Kaum cebong kapir udah keliatan dong...   1        1   \n",
       "\n",
       "   Char_Length                                        Casefolding  \\\n",
       "0          138   disaat semua cowok berusaha melacak perhatian...   \n",
       "1          120   siapa yang telat ngasih tau elu edan sarap gu...   \n",
       "2          254  41 kadang aku berfikir kenapa aku tetap percay...   \n",
       "3           75   aku itu aku n nku tau matamu sipit tapi dilia...   \n",
       "4           89   kaum cebong kapir udah keliatan dongoknya dar...   \n",
       "\n",
       "                                           Stopwords  \n",
       "0  cowok berusaha melacak perhatian lantas remehk...  \n",
       "1                 telat tau edan sarap bergaul licew  \n",
       "2  41 kadang berpikir percaya tuhan jatuh berkali...  \n",
       "3                                ku tau matamu sipit  \n",
       "4             kaum cebong kafir dongoknya dungu haha  "
      ]
     },
     "execution_count": 6,
     "metadata": {},
     "output_type": "execute_result"
    }
   ],
   "source": [
    "def normalize_alay(text):\n",
    "    alay_dict = pd.read_csv('../dataset/stopwords/kamusalay.csv', encoding='latin-1', header=None)\n",
    "    alay_dict = alay_dict.rename(columns={0: 'original', 1: 'replacement'})\n",
    "    alay_dict_map = dict(zip(alay_dict['original'], alay_dict['replacement']))\n",
    "    return ' '.join([alay_dict_map[word] if word in alay_dict_map else word for word in text.split(' ')])\n",
    "\n",
    "def remove_stopword(text):\n",
    "    id_stopword = pd.read_csv('../dataset/stopwords/idstopwords.csv', header=None)\n",
    "    id_stopword = id_stopword.rename(columns={0: 'stopword'})\n",
    "    text = ' '.join(['' if word in id_stopword.stopword.values else word for word in text.split(' ')])\n",
    "    text = re.sub('  +', ' ', text)\n",
    "    text = text.strip()\n",
    "    return text\n",
    "\n",
    "def stopword(text):\n",
    "    text = normalize_alay(text)\n",
    "    text = remove_stopword(text)\n",
    "    return text\n",
    "\n",
    "dataset['Stopwords'] = tqdm(dataset['Casefolding'].apply(stopword))\n",
    "dataset.head()"
   ]
  },
  {
   "cell_type": "code",
   "execution_count": null,
   "id": "083f10d3",
   "metadata": {
    "ExecuteTime": {
     "end_time": "2022-01-14T12:35:20.978036Z",
     "start_time": "2022-01-14T12:35:20.907583Z"
    }
   },
   "outputs": [],
   "source": []
  },
  {
   "cell_type": "code",
   "execution_count": null,
   "id": "463ec03c",
   "metadata": {},
   "outputs": [],
   "source": [
    "#data_stopwords = dataset[[\"Casefolding\", \"Stopwords\"]][0:15]\n",
    "#data_stopwords.to_csv(\"../../../asset/data_stopwords.xlsx\")"
   ]
  },
  {
   "cell_type": "code",
   "execution_count": 7,
   "id": "68ae6035",
   "metadata": {},
   "outputs": [],
   "source": [
    "dataset.to_csv(\"../dataset/data_modelling/data_stopwords_not_neutral.csv\", index=False)"
   ]
  },
  {
   "cell_type": "code",
   "execution_count": 8,
   "id": "a908c05b",
   "metadata": {},
   "outputs": [
    {
     "name": "stdout",
     "output_type": "stream",
     "text": [
      "Review 1:\n",
      " prabowo kalah menyebut bantuan jokowi pencitraan ratapan pilu\n",
      "Review 2:\n",
      " takut azan iblis\n",
      "Review 3:\n",
      " goblok bani cebong tukang tipu penjilat penguasa ketahuan gerakan dibayar pakai nasi bungkus propaganda nasi bungkus gagal\n",
      "Review 4:\n",
      " cebong sewot\n",
      "Review 5:\n",
      " 2 gerakan menekankan kerja keras total tingkatkan potensi bangsa\n",
      "Review 6:\n",
      " gubernur djarot mayoritas ai politik dewan perwakilan rakyat daerah pendukung ahok djarot payah\n",
      "Review 7:\n",
      " rezim rusak memperbaiki sistemnya sibuk cari cari kesalahan ketemu komisi pemberantasan korupsi alatnya besok pemerintah berganti berulang engah selesai organisasi orangnya\n",
      "Review 8:\n",
      " orang orang menuding antek asing asing sesungguhnya be epuk tangan\n",
      "Review 9:\n",
      " anti asing\n",
      "Review 10:\n",
      " selamat semoga berkiprah tingkat nasional\n"
     ]
    }
   ],
   "source": [
    "for index, text in enumerate(dataset['Stopwords'][100:110]):\n",
    "  print('Review %d:\\n'%(index+1),text)"
   ]
  },
  {
   "cell_type": "markdown",
   "id": "6d4b7595",
   "metadata": {},
   "source": [
    "# Tokenizing "
   ]
  },
  {
   "cell_type": "code",
   "execution_count": null,
   "id": "c1f1deba",
   "metadata": {
    "ExecuteTime": {
     "end_time": "2022-01-14T12:35:27.557977Z",
     "start_time": "2022-01-14T12:35:21.360600Z"
    }
   },
   "outputs": [],
   "source": [
    "# def tokenizing(text):\n",
    "#     words = word_tokenize(text)\n",
    "#     return words\n",
    "\n",
    "# dataset['Tokenizing'] = tqdm(dataset['Stopwords'].apply(tokenizing))\n",
    "# dataset.head()"
   ]
  },
  {
   "cell_type": "code",
   "execution_count": null,
   "id": "fffac97b",
   "metadata": {},
   "outputs": [],
   "source": [
    "# for index, text in enumerate(dataset['Tokenizing'][100:110]):\n",
    "#   print('Review %d:\\n'%(index+1),text)"
   ]
  },
  {
   "cell_type": "code",
   "execution_count": null,
   "id": "dae4ccb0",
   "metadata": {},
   "outputs": [],
   "source": [
    "#data_tokenizing = dataset[[\"Stemming\", \"Tokenizing\"]][0:15]\n",
    "#data_tokenizing.to_csv(\"../../../asset/data_tokenizing.xlsx\", index=None)"
   ]
  },
  {
   "cell_type": "code",
   "execution_count": null,
   "id": "d95b3105",
   "metadata": {},
   "outputs": [],
   "source": [
    "dataset.to_csv(\"../dataset/data_modelling/data_tokenizing.csv\", index=False)"
   ]
  },
  {
   "cell_type": "markdown",
   "id": "3d26834f",
   "metadata": {},
   "source": [
    "# Stemming"
   ]
  },
  {
   "cell_type": "code",
   "execution_count": null,
   "id": "364896b5",
   "metadata": {
    "ExecuteTime": {
     "end_time": "2022-01-14T12:35:21.134417Z",
     "start_time": "2022-01-14T12:35:20.982211Z"
    },
    "scrolled": true
   },
   "outputs": [],
   "source": [
    "# def stemming(text):\n",
    "#     factory = StemmerFactory()\n",
    "#     stemmer = factory.create_stemmer()\n",
    "#     do = []\n",
    "#     for w in text:\n",
    "#         dt = stemmer.stem(w)\n",
    "#         do.append(dt)\n",
    "#     d_clean = []\n",
    "#     d_clean = \" \".join(do)\n",
    "#     print(d_clean)\n",
    "#     return d_clean\n",
    "\n",
    "# dataset[\"Stemming\"] = dataset[\"Tokenizing\"].apply(stemming)\n",
    "# dataset.head()"
   ]
  },
  {
   "cell_type": "code",
   "execution_count": null,
   "id": "7eb5da4f",
   "metadata": {},
   "outputs": [],
   "source": [
    "# for index, text in enumerate(dataset['Stemming'][100:110]):\n",
    "#     print('Review %d:\\n'%(index+1),text)"
   ]
  },
  {
   "cell_type": "code",
   "execution_count": null,
   "id": "9f083512",
   "metadata": {},
   "outputs": [],
   "source": [
    "#data_stemming = dataset[[\"Stopwords\", \"Stemming\"]][0:15]\n",
    "#data_stemming.to_csv(\"../../../asset/data_stemming.xlsx\", index=False)"
   ]
  },
  {
   "cell_type": "code",
   "execution_count": null,
   "id": "8109632e",
   "metadata": {},
   "outputs": [],
   "source": [
    "dataset.to_csv(\"../dataset/data_modelling/data_stemming.csv\", index=False)"
   ]
  },
  {
   "cell_type": "code",
   "execution_count": null,
   "id": "5cdb7bdc",
   "metadata": {},
   "outputs": [],
   "source": [
    "# Character Length\n",
    "\n",
    "dataset['Char_Length_Prep'] = dataset['Stopwords'].apply(lambda x: len(str(x)))\n",
    "\n",
    "dataset.head()"
   ]
  },
  {
   "cell_type": "code",
   "execution_count": null,
   "id": "3ea272e4",
   "metadata": {},
   "outputs": [],
   "source": [
    "dataset.isna().sum()"
   ]
  },
  {
   "cell_type": "code",
   "execution_count": null,
   "id": "63b85006",
   "metadata": {
    "ExecuteTime": {
     "end_time": "2022-01-14T12:35:45.537328Z",
     "start_time": "2022-01-14T12:35:44.208471Z"
    }
   },
   "outputs": [],
   "source": [
    "# save dataset\n",
    "\n",
    "dataset.to_csv(\"../dataset/data_modelling/data_preprocessing.csv\", index=False)"
   ]
  }
 ],
 "metadata": {
  "kernelspec": {
   "display_name": "env_scrispy",
   "language": "python",
   "name": "env_scrispy"
  },
  "language_info": {
   "codemirror_mode": {
    "name": "ipython",
    "version": 3
   },
   "file_extension": ".py",
   "mimetype": "text/x-python",
   "name": "python",
   "nbconvert_exporter": "python",
   "pygments_lexer": "ipython3",
   "version": "3.9.12"
  },
  "toc": {
   "base_numbering": 1,
   "nav_menu": {
    "height": "114px",
    "width": "160px"
   },
   "number_sections": false,
   "sideBar": true,
   "skip_h1_title": false,
   "title_cell": "Table of Contents",
   "title_sidebar": "Contents",
   "toc_cell": false,
   "toc_position": {
    "height": "calc(100% - 180px)",
    "left": "10px",
    "top": "150px",
    "width": "265.8px"
   },
   "toc_section_display": true,
   "toc_window_display": false
  },
  "varInspector": {
   "cols": {
    "lenName": 16,
    "lenType": 16,
    "lenVar": 40
   },
   "kernels_config": {
    "python": {
     "delete_cmd_postfix": "",
     "delete_cmd_prefix": "del ",
     "library": "var_list.py",
     "varRefreshCmd": "print(var_dic_list())"
    },
    "r": {
     "delete_cmd_postfix": ") ",
     "delete_cmd_prefix": "rm(",
     "library": "var_list.r",
     "varRefreshCmd": "cat(var_dic_list()) "
    }
   },
   "types_to_exclude": [
    "module",
    "function",
    "builtin_function_or_method",
    "instance",
    "_Feature"
   ],
   "window_display": false
  }
 },
 "nbformat": 4,
 "nbformat_minor": 5
}
