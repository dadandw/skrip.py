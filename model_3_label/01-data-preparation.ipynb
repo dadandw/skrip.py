{
 "cells": [
  {
   "cell_type": "code",
   "execution_count": 1,
   "id": "5057961a",
   "metadata": {},
   "outputs": [],
   "source": [
    "# import library\n",
    "\n",
    "import re\n",
    "import numpy as np\n",
    "import pandas as pd\n",
    "import seaborn as sns\n",
    "import matplotlib.pyplot as plt\n",
    "import plotly.express as px\n",
    "\n",
    "import cufflinks as cf\n",
    "import missingno as msno\n",
    "import unicodedata as ud\n",
    "\n",
    "from sklearn.feature_extraction.text import CountVectorizer\n",
    "\n",
    "import warnings\n",
    "import platform,os,socket,re,uuid,json,psutil,logging\n",
    "warnings.filterwarnings('ignore')"
   ]
  },
  {
   "cell_type": "code",
   "execution_count": 2,
   "id": "ad141b63",
   "metadata": {},
   "outputs": [],
   "source": [
    "# Config Setting Visualize\n",
    "\n",
    "%matplotlib inline\n",
    "sns.set_style(\"whitegrid\")\n",
    "plt.style.use('ggplot')\n",
    "orange_black = [\n",
    "    '#fdc029', '#df861d', '#FF6347', '#aa3d01', '#a30e15', '#800000', '#171820'\n",
    "]\n",
    "plt.rcParams['figure.figsize'] = (16,9)\n",
    "plt.rcParams[\"figure.facecolor\"] = '#FFFBCD'\n",
    "plt.rcParams[\"axes.facecolor\"] = '#FFFFE0'\n",
    "plt.rcParams[\"axes.grid\"] = True\n",
    "plt.rcParams[\"grid.color\"] = orange_black[3]\n",
    "plt.rcParams[\"grid.alpha\"] = 0.5\n",
    "plt.rcParams[\"grid.linestyle\"] = '--'"
   ]
  },
  {
   "cell_type": "code",
   "execution_count": 3,
   "id": "beef1d0b",
   "metadata": {},
   "outputs": [
    {
     "data": {
      "text/html": [
       "<div>\n",
       "<style scoped>\n",
       "    .dataframe tbody tr th:only-of-type {\n",
       "        vertical-align: middle;\n",
       "    }\n",
       "\n",
       "    .dataframe tbody tr th {\n",
       "        vertical-align: top;\n",
       "    }\n",
       "\n",
       "    .dataframe thead th {\n",
       "        text-align: right;\n",
       "    }\n",
       "</style>\n",
       "<table border=\"1\" class=\"dataframe\">\n",
       "  <thead>\n",
       "    <tr style=\"text-align: right;\">\n",
       "      <th></th>\n",
       "      <th>Tweet</th>\n",
       "      <th>HS</th>\n",
       "      <th>Abusive</th>\n",
       "      <th>HS_Individual</th>\n",
       "      <th>HS_Group</th>\n",
       "      <th>HS_Religion</th>\n",
       "      <th>HS_Race</th>\n",
       "      <th>HS_Physical</th>\n",
       "      <th>HS_Gender</th>\n",
       "      <th>HS_Other</th>\n",
       "      <th>HS_Weak</th>\n",
       "      <th>HS_Moderate</th>\n",
       "      <th>HS_Strong</th>\n",
       "    </tr>\n",
       "  </thead>\n",
       "  <tbody>\n",
       "    <tr>\n",
       "      <th>0</th>\n",
       "      <td>- disaat semua cowok berusaha melacak perhatia...</td>\n",
       "      <td>1</td>\n",
       "      <td>1</td>\n",
       "      <td>1</td>\n",
       "      <td>0</td>\n",
       "      <td>0</td>\n",
       "      <td>0</td>\n",
       "      <td>0</td>\n",
       "      <td>0</td>\n",
       "      <td>1</td>\n",
       "      <td>1</td>\n",
       "      <td>0</td>\n",
       "      <td>0</td>\n",
       "    </tr>\n",
       "    <tr>\n",
       "      <th>1</th>\n",
       "      <td>RT USER: USER siapa yang telat ngasih tau elu?...</td>\n",
       "      <td>0</td>\n",
       "      <td>1</td>\n",
       "      <td>0</td>\n",
       "      <td>0</td>\n",
       "      <td>0</td>\n",
       "      <td>0</td>\n",
       "      <td>0</td>\n",
       "      <td>0</td>\n",
       "      <td>0</td>\n",
       "      <td>0</td>\n",
       "      <td>0</td>\n",
       "      <td>0</td>\n",
       "    </tr>\n",
       "    <tr>\n",
       "      <th>2</th>\n",
       "      <td>41. Kadang aku berfikir, kenapa aku tetap perc...</td>\n",
       "      <td>0</td>\n",
       "      <td>0</td>\n",
       "      <td>0</td>\n",
       "      <td>0</td>\n",
       "      <td>0</td>\n",
       "      <td>0</td>\n",
       "      <td>0</td>\n",
       "      <td>0</td>\n",
       "      <td>0</td>\n",
       "      <td>0</td>\n",
       "      <td>0</td>\n",
       "      <td>0</td>\n",
       "    </tr>\n",
       "    <tr>\n",
       "      <th>3</th>\n",
       "      <td>USER USER AKU ITU AKU\\n\\nKU TAU MATAMU SIPIT T...</td>\n",
       "      <td>0</td>\n",
       "      <td>0</td>\n",
       "      <td>0</td>\n",
       "      <td>0</td>\n",
       "      <td>0</td>\n",
       "      <td>0</td>\n",
       "      <td>0</td>\n",
       "      <td>0</td>\n",
       "      <td>0</td>\n",
       "      <td>0</td>\n",
       "      <td>0</td>\n",
       "      <td>0</td>\n",
       "    </tr>\n",
       "    <tr>\n",
       "      <th>4</th>\n",
       "      <td>USER USER Kaum cebong kapir udah keliatan dong...</td>\n",
       "      <td>1</td>\n",
       "      <td>1</td>\n",
       "      <td>0</td>\n",
       "      <td>1</td>\n",
       "      <td>1</td>\n",
       "      <td>0</td>\n",
       "      <td>0</td>\n",
       "      <td>0</td>\n",
       "      <td>0</td>\n",
       "      <td>0</td>\n",
       "      <td>1</td>\n",
       "      <td>0</td>\n",
       "    </tr>\n",
       "  </tbody>\n",
       "</table>\n",
       "</div>"
      ],
      "text/plain": [
       "                                               Tweet  HS  Abusive  \\\n",
       "0  - disaat semua cowok berusaha melacak perhatia...   1        1   \n",
       "1  RT USER: USER siapa yang telat ngasih tau elu?...   0        1   \n",
       "2  41. Kadang aku berfikir, kenapa aku tetap perc...   0        0   \n",
       "3  USER USER AKU ITU AKU\\n\\nKU TAU MATAMU SIPIT T...   0        0   \n",
       "4  USER USER Kaum cebong kapir udah keliatan dong...   1        1   \n",
       "\n",
       "   HS_Individual  HS_Group  HS_Religion  HS_Race  HS_Physical  HS_Gender  \\\n",
       "0              1         0            0        0            0          0   \n",
       "1              0         0            0        0            0          0   \n",
       "2              0         0            0        0            0          0   \n",
       "3              0         0            0        0            0          0   \n",
       "4              0         1            1        0            0          0   \n",
       "\n",
       "   HS_Other  HS_Weak  HS_Moderate  HS_Strong  \n",
       "0         1        1            0          0  \n",
       "1         0        0            0          0  \n",
       "2         0        0            0          0  \n",
       "3         0        0            0          0  \n",
       "4         0        0            1          0  "
      ]
     },
     "execution_count": 3,
     "metadata": {},
     "output_type": "execute_result"
    }
   ],
   "source": [
    "# load dataset\n",
    "\n",
    "path = '../dataset/data.csv'\n",
    "dataset = pd.read_csv(path, encoding='latin-1')\n",
    "dataset.head()"
   ]
  },
  {
   "cell_type": "markdown",
   "id": "52dd8492",
   "metadata": {},
   "source": [
    "## Melihat Statistik dan Dimensi Data"
   ]
  },
  {
   "cell_type": "code",
   "execution_count": 4,
   "id": "1059c8df",
   "metadata": {},
   "outputs": [
    {
     "name": "stdout",
     "output_type": "stream",
     "text": [
      "Shape of data => (13169, 13)\n"
     ]
    }
   ],
   "source": [
    "# Columns and Raw\n",
    "\n",
    "print(f\"Shape of data => {dataset.shape}\")"
   ]
  },
  {
   "cell_type": "code",
   "execution_count": 5,
   "id": "35e46c6e",
   "metadata": {},
   "outputs": [
    {
     "name": "stdout",
     "output_type": "stream",
     "text": [
      "Columns of data => Index(['Tweet', 'HS', 'Abusive', 'HS_Individual', 'HS_Group', 'HS_Religion',\n",
      "       'HS_Race', 'HS_Physical', 'HS_Gender', 'HS_Other', 'HS_Weak',\n",
      "       'HS_Moderate', 'HS_Strong'],\n",
      "      dtype='object')\n"
     ]
    }
   ],
   "source": [
    "# Get Columns\n",
    "\n",
    "print(f\"Columns of data => {dataset.columns}\")"
   ]
  },
  {
   "cell_type": "code",
   "execution_count": 6,
   "id": "f891efb2",
   "metadata": {},
   "outputs": [
    {
     "data": {
      "text/html": [
       "<div>\n",
       "<style scoped>\n",
       "    .dataframe tbody tr th:only-of-type {\n",
       "        vertical-align: middle;\n",
       "    }\n",
       "\n",
       "    .dataframe tbody tr th {\n",
       "        vertical-align: top;\n",
       "    }\n",
       "\n",
       "    .dataframe thead th {\n",
       "        text-align: right;\n",
       "    }\n",
       "</style>\n",
       "<table border=\"1\" class=\"dataframe\">\n",
       "  <thead>\n",
       "    <tr style=\"text-align: right;\">\n",
       "      <th></th>\n",
       "      <th>Tweet</th>\n",
       "      <th>HS</th>\n",
       "      <th>Abusive</th>\n",
       "    </tr>\n",
       "  </thead>\n",
       "  <tbody>\n",
       "    <tr>\n",
       "      <th>0</th>\n",
       "      <td>- disaat semua cowok berusaha melacak perhatia...</td>\n",
       "      <td>1</td>\n",
       "      <td>1</td>\n",
       "    </tr>\n",
       "    <tr>\n",
       "      <th>1</th>\n",
       "      <td>RT USER: USER siapa yang telat ngasih tau elu?...</td>\n",
       "      <td>0</td>\n",
       "      <td>1</td>\n",
       "    </tr>\n",
       "    <tr>\n",
       "      <th>2</th>\n",
       "      <td>41. Kadang aku berfikir, kenapa aku tetap perc...</td>\n",
       "      <td>0</td>\n",
       "      <td>0</td>\n",
       "    </tr>\n",
       "    <tr>\n",
       "      <th>3</th>\n",
       "      <td>USER USER AKU ITU AKU\\n\\nKU TAU MATAMU SIPIT T...</td>\n",
       "      <td>0</td>\n",
       "      <td>0</td>\n",
       "    </tr>\n",
       "    <tr>\n",
       "      <th>4</th>\n",
       "      <td>USER USER Kaum cebong kapir udah keliatan dong...</td>\n",
       "      <td>1</td>\n",
       "      <td>1</td>\n",
       "    </tr>\n",
       "  </tbody>\n",
       "</table>\n",
       "</div>"
      ],
      "text/plain": [
       "                                               Tweet  HS  Abusive\n",
       "0  - disaat semua cowok berusaha melacak perhatia...   1        1\n",
       "1  RT USER: USER siapa yang telat ngasih tau elu?...   0        1\n",
       "2  41. Kadang aku berfikir, kenapa aku tetap perc...   0        0\n",
       "3  USER USER AKU ITU AKU\\n\\nKU TAU MATAMU SIPIT T...   0        0\n",
       "4  USER USER Kaum cebong kapir udah keliatan dong...   1        1"
      ]
     },
     "execution_count": 6,
     "metadata": {},
     "output_type": "execute_result"
    }
   ],
   "source": [
    "# Drop Columns\n",
    "\n",
    "dataset = dataset.drop(['HS_Individual', 'HS_Group', 'HS_Religion',\n",
    "                        'HS_Race', 'HS_Physical', 'HS_Gender', 'HS_Other','HS_Weak',\n",
    "                        'HS_Moderate', 'HS_Strong'], axis=1)\n",
    "\n",
    "dataset.head()"
   ]
  },
  {
   "cell_type": "code",
   "execution_count": null,
   "id": "ec03c22e",
   "metadata": {},
   "outputs": [],
   "source": [
    "# dataset['Neutral'] = (dataset['Abusive'] == 0) & (dataset['HS'] == 0).astype(int)\n",
    "# dataset.head()"
   ]
  },
  {
   "cell_type": "code",
   "execution_count": null,
   "id": "2246dd8b",
   "metadata": {},
   "outputs": [],
   "source": [
    "# dataset['Neutral'].replace({False: 0, True: 1}, inplace=True)\n",
    "# dataset.head()"
   ]
  },
  {
   "cell_type": "code",
   "execution_count": null,
   "id": "7e00bcc6",
   "metadata": {},
   "outputs": [],
   "source": [
    "#data_preparation = dataset[0:15]\n",
    "#data_preparation.to_csv(\"../../../asset/data_preparation.xlsx\", index=False)"
   ]
  },
  {
   "cell_type": "code",
   "execution_count": null,
   "id": "e2eb8131",
   "metadata": {},
   "outputs": [],
   "source": []
  },
  {
   "cell_type": "markdown",
   "id": "dbf38f24",
   "metadata": {},
   "source": [
    "## Menangani Missing Values dan Nilai Null"
   ]
  },
  {
   "cell_type": "code",
   "execution_count": 7,
   "id": "771cc1ea",
   "metadata": {},
   "outputs": [
    {
     "name": "stdout",
     "output_type": "stream",
     "text": [
      "Null value :\n",
      "Tweet      0\n",
      "HS         0\n",
      "Abusive    0\n",
      "dtype: int64\n"
     ]
    }
   ],
   "source": [
    "print(\"Null value :\")\n",
    "print(dataset.isna().sum())"
   ]
  },
  {
   "cell_type": "code",
   "execution_count": 8,
   "id": "8c227d8a",
   "metadata": {},
   "outputs": [
    {
     "data": {
      "image/png": "[encoded data removed]",
      "text/plain": [
       "<Figure size 1800x720 with 3 Axes>"
      ]
     },
     "metadata": {},
     "output_type": "display_data"
    }
   ],
   "source": [
    "# Visualisasi Missing Values\n",
    "\n",
    "msno.bar(dataset, color=(orange_black[2]))\n",
    "plt.title('Missing Values', fontsize=24)\n",
    "plt.show()"
   ]
  },
  {
   "cell_type": "code",
   "execution_count": 9,
   "id": "72d04d23",
   "metadata": {},
   "outputs": [
    {
     "name": "stdout",
     "output_type": "stream",
     "text": [
      "Data correlation :\n",
      "               HS   Abusive\n",
      "HS       1.000000  0.368595\n",
      "Abusive  0.368595  1.000000\n"
     ]
    }
   ],
   "source": [
    "# Data Correlation\n",
    "\n",
    "print(\"Data correlation :\")\n",
    "print(dataset.corr())"
   ]
  },
  {
   "cell_type": "code",
   "execution_count": 10,
   "id": "796ff1c5",
   "metadata": {},
   "outputs": [
    {
     "data": {
      "image/png": "[encoded data removed]",
      "text/plain": [
       "<Figure size 720x576 with 2 Axes>"
      ]
     },
     "metadata": {},
     "output_type": "display_data"
    }
   ],
   "source": [
    "# Visualisasi Data Correlation\n",
    "\n",
    "colormap = plt.cm.plasma\n",
    "\n",
    "f, ax = plt.subplots(figsize=(10, 8))\n",
    "corrMatrix = dataset.corr()\n",
    "ax = sns.heatmap(corrMatrix, cmap=colormap, annot=True)\n",
    "plt.show()"
   ]
  },
  {
   "cell_type": "code",
   "execution_count": 11,
   "id": "15405c25",
   "metadata": {},
   "outputs": [
    {
     "name": "stdout",
     "output_type": "stream",
     "text": [
      "Hate Speech: (2266, 3)\n",
      "Abusive: (1748, 3)\n"
     ]
    }
   ],
   "source": [
    "# Amount of Data\n",
    "\n",
    "# neutral = dataset[dataset['Neutral'] == 1].shape\n",
    "hate_speech = dataset[(dataset['HS'] == 1) & (dataset['Abusive'] == 0)].shape\n",
    "abusive = dataset[(dataset['HS'] == 0) & (dataset['Abusive'] == 1)].shape\n",
    "\n",
    "# print(f\"Neutral: {neutral}\")\n",
    "print(f\"Hate Speech: {hate_speech}\")\n",
    "print(f\"Abusive: {abusive}\")"
   ]
  },
  {
   "cell_type": "code",
   "execution_count": null,
   "id": "caebd571",
   "metadata": {},
   "outputs": [],
   "source": [
    "# # Amount of Data visualization\n",
    "\n",
    "# temp = dataset.groupby(['HS', 'Abusive', 'Neutral']).count()['Tweet'].reset_index().sort_values(by='Tweet',ascending=False)\n",
    "# temp.style.background_gradient(cmap=colormap)"
   ]
  },
  {
   "cell_type": "markdown",
   "id": "a3fd30bd",
   "metadata": {},
   "source": [
    "## Unigram dan Bigram"
   ]
  },
  {
   "cell_type": "code",
   "execution_count": 12,
   "id": "038a6741",
   "metadata": {},
   "outputs": [],
   "source": [
    "# Character Length\n",
    "\n",
    "dataset['Char_Length'] = dataset.Tweet.apply(lambda x: len(str(x)))"
   ]
  },
  {
   "cell_type": "code",
   "execution_count": null,
   "id": "7f598058",
   "metadata": {},
   "outputs": [],
   "source": [
    "cf.go_offline()\n",
    "cf.set_config_file(offline=True, world_readable=True)\n",
    "\n",
    "dataset['Char_Length'].iplot(kind='hist',\n",
    "                             bins=100,\n",
    "                             xTitle='Char_Length',\n",
    "                             linecolor='black',\n",
    "                             yTitle='count',\n",
    "                             title='Review Text Length Distribution')"
   ]
  },
  {
   "cell_type": "code",
   "execution_count": 13,
   "id": "acc85e00",
   "metadata": {},
   "outputs": [
    {
     "name": "stdout",
     "output_type": "stream",
     "text": [
      "count    13169.000000\n",
      "mean       114.202749\n",
      "std         69.075620\n",
      "min          4.000000\n",
      "25%         59.000000\n",
      "50%        100.000000\n",
      "75%        152.000000\n",
      "max        561.000000\n",
      "Name: Char_Length, dtype: float64\n"
     ]
    }
   ],
   "source": [
    "print(dataset.Char_Length.describe())"
   ]
  },
  {
   "cell_type": "code",
   "execution_count": 14,
   "id": "a3ac6c4e",
   "metadata": {},
   "outputs": [
    {
     "data": {
      "text/plain": [
       "'Sama'"
      ]
     },
     "execution_count": 14,
     "metadata": {},
     "output_type": "execute_result"
    }
   ],
   "source": [
    "dataset[dataset.Char_Length == 4].Tweet.iloc[0]"
   ]
  },
  {
   "cell_type": "code",
   "execution_count": 15,
   "id": "ce19e573",
   "metadata": {},
   "outputs": [
    {
     "data": {
      "text/plain": [
       "\"USER anjir.....\\\\n\\\\ngue ngecek berkali kali buat mastiin itu cewe beneran apa cowo, siapa tau tipuan kaya video yg lain, ternyata asli cewe \\\\xf0\\\\x9f\\\\x98\\\\xad\\\\n\\\\nterlepas dari gender, tetep gabener sih astaga \\\\xf0\\\\x9f\\\\x98\\\\xad\\\\xf0\\\\x9f\\\\x98\\\\xad\\\\xf0\\\\x9f\\\\x98\\\\xad\\\\xf0\\\\x9f\\\\x98\\\\xad\\\\xf0\\\\x9f\\\\x98\\\\xad\\\\xf0\\\\x9f\\\\x98\\\\xad\\\\xf0\\\\x9f\\\\x98\\\\xad\\\\xf0\\\\x9f\\\\x98\\\\xad\\\\xf0\\\\x9f\\\\x98\\\\xad\\\\xf0\\\\x9f\\\\x98\\\\xad\\\\xf0\\\\x9f\\\\x98\\\\xad\\\\xf0\\\\x9f\\\\x98\\\\xad\\\\xf0\\\\x9f\\\\x98\\\\xad\\\\xf0\\\\x9f\\\\x98\\\\xad\\\\xf0\\\\x9f\\\\x98\\\\xad\\\\xf0\\\\x9f\\\\x98\\\\xad\\\\xf0\\\\x9f\\\\x98\\\\xad\\\\xf0\\\\x9f\\\\x98\\\\xad\\\\xf0\\\\x9f\\\\x98\\\\xad\\\\xf0\\\\x9f\\\\x98\\\\xad semoga ade gue ga begini, aamiin.'\""
      ]
     },
     "execution_count": 15,
     "metadata": {},
     "output_type": "execute_result"
    }
   ],
   "source": [
    "dataset[dataset.Char_Length == 561].Tweet.iloc[0]"
   ]
  },
  {
   "cell_type": "code",
   "execution_count": null,
   "id": "87879198",
   "metadata": {},
   "outputs": [],
   "source": [
    "def get_top_n_words(corpus, n=None):\n",
    "    vec = CountVectorizer().fit(corpus)\n",
    "    bag_of_words = vec.transform(corpus)\n",
    "    sum_words = bag_of_words.sum(axis=0) \n",
    "    words_freq = [(word, sum_words[0, idx]) for word, idx in vec.vocabulary_.items()]\n",
    "    words_freq =sorted(words_freq, key = lambda x: x[1], reverse=True)\n",
    "    return words_freq[:n]\n",
    "\n",
    "def get_top_n_bigram(corpus, n=None):\n",
    "    vec = CountVectorizer(ngram_range=(3, 3)).fit(corpus)\n",
    "    bag_of_words = vec.transform(corpus)\n",
    "    sum_words = bag_of_words.sum(axis=0) \n",
    "    words_freq = [(word, sum_words[0, idx]) for word, idx in vec.vocabulary_.items()]\n",
    "    words_freq =sorted(words_freq, key = lambda x: x[1], reverse=True)\n",
    "    return words_freq[:n]\n",
    "\n",
    "common_word = get_top_n_words(dataset['Tweet'], 10)\n",
    "common_words = get_top_n_bigram(dataset['Tweet'], 10)"
   ]
  },
  {
   "cell_type": "code",
   "execution_count": null,
   "id": "87e4b07c",
   "metadata": {},
   "outputs": [],
   "source": [
    "# The distribution of top unigrams before removing stop words\n",
    "\n",
    "df1 = pd.DataFrame(common_word, columns = ['Tweet' , 'count'])\n",
    "df1.groupby('Tweet').sum()['count'].sort_values(ascending=False).iplot(kind='bar',\n",
    "                                                                       yTitle='Count',\n",
    "                                                                       linecolor='black',\n",
    "                                                                       title='Top 10 Words in Review Before Removing Stopwords')"
   ]
  },
  {
   "cell_type": "code",
   "execution_count": null,
   "id": "90852764",
   "metadata": {},
   "outputs": [],
   "source": [
    "# The distribution of top trigrams before removing stop words\n",
    "\n",
    "df2 = pd.DataFrame(common_words,\n",
    "                   columns = ['Tweet' , 'count'])\n",
    "\n",
    "df2.groupby('Tweet').sum()['count'].sort_values(ascending=False).iplot(kind='bar',\n",
    "                                                                       yTitle='Count',\n",
    "                                                                       linecolor='black',\n",
    "                                                                       title='Top 10 Trigrams in Review Before Removing Stopwords')"
   ]
  },
  {
   "cell_type": "code",
   "execution_count": 16,
   "id": "74799572",
   "metadata": {},
   "outputs": [],
   "source": [
    "# save dataset\n",
    "\n",
    "dataset.to_csv(\"../dataset/data_modelling/data_preparation_notneutral.csv\", index=False)"
   ]
  },
  {
   "cell_type": "code",
   "execution_count": null,
   "id": "9d009244",
   "metadata": {},
   "outputs": [],
   "source": []
  },
  {
   "cell_type": "code",
   "execution_count": null,
   "id": "91533aa6",
   "metadata": {},
   "outputs": [],
   "source": []
  },
  {
   "cell_type": "code",
   "execution_count": null,
   "id": "4fcd5af3",
   "metadata": {},
   "outputs": [],
   "source": []
  }
 ],
 "metadata": {
  "kernelspec": {
   "display_name": "env_scrispy",
   "language": "python",
   "name": "env_scrispy"
  },
  "language_info": {
   "codemirror_mode": {
    "name": "ipython",
    "version": 3
   },
   "file_extension": ".py",
   "mimetype": "text/x-python",
   "name": "python",
   "nbconvert_exporter": "python",
   "pygments_lexer": "ipython3",
   "version": "3.9.12"
  },
  "toc": {
   "base_numbering": 1,
   "nav_menu": {
    "height": "83px",
    "width": "313px"
   },
   "number_sections": true,
   "sideBar": true,
   "skip_h1_title": false,
   "title_cell": "Table of Contents",
   "title_sidebar": "Contents",
   "toc_cell": false,
   "toc_position": {},
   "toc_section_display": true,
   "toc_window_display": false
  }
 },
 "nbformat": 4,
 "nbformat_minor": 5
}
