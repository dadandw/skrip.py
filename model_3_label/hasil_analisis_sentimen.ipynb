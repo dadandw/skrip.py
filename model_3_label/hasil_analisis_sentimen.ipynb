{
 "cells": [
  {
   "cell_type": "code",
   "execution_count": 1,
   "id": "1305e5ff",
   "metadata": {},
   "outputs": [],
   "source": [
    "import pandas as pd\n",
    "import matplotlib.pyplot as plt\n",
    "import seaborn as sns\n",
    "import plotly.express as px\n",
    "from wordcloud import WordCloud\n",
    "import cufflinks as cf\n",
    "import missingno as msno\n",
    "import unicodedata as ud\n",
    "\n",
    "from sklearn.feature_extraction.text import CountVectorizer"
   ]
  },
  {
   "cell_type": "markdown",
   "id": "1181f900",
   "metadata": {},
   "source": [
    "# Exploratory Data Analysis"
   ]
  },
  {
   "cell_type": "code",
   "execution_count": 2,
   "id": "e35d30e5",
   "metadata": {},
   "outputs": [
    {
     "data": {
      "text/html": [
       "<div>\n",
       "<style scoped>\n",
       "    .dataframe tbody tr th:only-of-type {\n",
       "        vertical-align: middle;\n",
       "    }\n",
       "\n",
       "    .dataframe tbody tr th {\n",
       "        vertical-align: top;\n",
       "    }\n",
       "\n",
       "    .dataframe thead th {\n",
       "        text-align: right;\n",
       "    }\n",
       "</style>\n",
       "<table border=\"1\" class=\"dataframe\">\n",
       "  <thead>\n",
       "    <tr style=\"text-align: right;\">\n",
       "      <th></th>\n",
       "      <th>Tweet</th>\n",
       "    </tr>\n",
       "  </thead>\n",
       "  <tbody>\n",
       "    <tr>\n",
       "      <th>0</th>\n",
       "      <td>- Dia sendiri yang ngiklanin promo cashback di...</td>\n",
       "    </tr>\n",
       "    <tr>\n",
       "      <th>1</th>\n",
       "      <td>- disaat semua cowok berusaha melacak perhatia...</td>\n",
       "    </tr>\n",
       "    <tr>\n",
       "      <th>2</th>\n",
       "      <td>- kampret kan kalo typo-nya di email kantor ke...</td>\n",
       "    </tr>\n",
       "    <tr>\n",
       "      <th>3</th>\n",
       "      <td>- Mending makan disini lebih murah, buang-buan...</td>\n",
       "    </tr>\n",
       "    <tr>\n",
       "      <th>4</th>\n",
       "      <td>/biarin oppa masukim vibrator ke memek/ oppa k...</td>\n",
       "    </tr>\n",
       "    <tr>\n",
       "      <th>...</th>\n",
       "      <td>...</td>\n",
       "    </tr>\n",
       "    <tr>\n",
       "      <th>2011</th>\n",
       "      <td>Yagimanasih anjir gue dirumah doang dari pagi ...</td>\n",
       "    </tr>\n",
       "    <tr>\n",
       "      <th>2012</th>\n",
       "      <td>Yah sekian pandangan awam dari saya wkwwk seka...</td>\n",
       "    </tr>\n",
       "    <tr>\n",
       "      <th>2013</th>\n",
       "      <td>yang butuh memek hubungi rp haneul terdekat'</td>\n",
       "    </tr>\n",
       "    <tr>\n",
       "      <th>2014</th>\n",
       "      <td>Yang sabar gua mah punya adek2 kunyuk yg bau k...</td>\n",
       "    </tr>\n",
       "    <tr>\n",
       "      <th>2015</th>\n",
       "      <td>yg didepan pada minggir buat ngasih jalan yg t...</td>\n",
       "    </tr>\n",
       "  </tbody>\n",
       "</table>\n",
       "<p>2016 rows × 1 columns</p>\n",
       "</div>"
      ],
      "text/plain": [
       "                                                  Tweet\n",
       "0     - Dia sendiri yang ngiklanin promo cashback di...\n",
       "1     - disaat semua cowok berusaha melacak perhatia...\n",
       "2     - kampret kan kalo typo-nya di email kantor ke...\n",
       "3     - Mending makan disini lebih murah, buang-buan...\n",
       "4     /biarin oppa masukim vibrator ke memek/ oppa k...\n",
       "...                                                 ...\n",
       "2011  Yagimanasih anjir gue dirumah doang dari pagi ...\n",
       "2012  Yah sekian pandangan awam dari saya wkwwk seka...\n",
       "2013       yang butuh memek hubungi rp haneul terdekat'\n",
       "2014  Yang sabar gua mah punya adek2 kunyuk yg bau k...\n",
       "2015  yg didepan pada minggir buat ngasih jalan yg t...\n",
       "\n",
       "[2016 rows x 1 columns]"
      ]
     },
     "execution_count": 2,
     "metadata": {},
     "output_type": "execute_result"
    }
   ],
   "source": [
    "df = pd.read_csv('../data_test/data_testing.csv', index_col=None)\n",
    "df"
   ]
  },
  {
   "cell_type": "code",
   "execution_count": 3,
   "id": "0ea3a07d",
   "metadata": {},
   "outputs": [
    {
     "data": {
      "text/plain": [
       "(2016, 1)"
      ]
     },
     "execution_count": 3,
     "metadata": {},
     "output_type": "execute_result"
    }
   ],
   "source": [
    "df.shape"
   ]
  },
  {
   "cell_type": "code",
   "execution_count": 4,
   "id": "be981dc1",
   "metadata": {},
   "outputs": [
    {
     "data": {
      "text/plain": [
       "Tweet    0\n",
       "dtype: int64"
      ]
     },
     "execution_count": 4,
     "metadata": {},
     "output_type": "execute_result"
    }
   ],
   "source": [
    "df.isna().sum()"
   ]
  },
  {
   "cell_type": "code",
   "execution_count": 5,
   "id": "c5fc43bc",
   "metadata": {},
   "outputs": [
    {
     "data": {
      "text/html": [
       "<div>\n",
       "<style scoped>\n",
       "    .dataframe tbody tr th:only-of-type {\n",
       "        vertical-align: middle;\n",
       "    }\n",
       "\n",
       "    .dataframe tbody tr th {\n",
       "        vertical-align: top;\n",
       "    }\n",
       "\n",
       "    .dataframe thead th {\n",
       "        text-align: right;\n",
       "    }\n",
       "</style>\n",
       "<table border=\"1\" class=\"dataframe\">\n",
       "  <thead>\n",
       "    <tr style=\"text-align: right;\">\n",
       "      <th></th>\n",
       "      <th>Tweet</th>\n",
       "      <th>Char_Length</th>\n",
       "    </tr>\n",
       "  </thead>\n",
       "  <tbody>\n",
       "    <tr>\n",
       "      <th>0</th>\n",
       "      <td>- Dia sendiri yang ngiklanin promo cashback di...</td>\n",
       "      <td>282</td>\n",
       "    </tr>\n",
       "    <tr>\n",
       "      <th>1</th>\n",
       "      <td>- disaat semua cowok berusaha melacak perhatia...</td>\n",
       "      <td>138</td>\n",
       "    </tr>\n",
       "    <tr>\n",
       "      <th>2</th>\n",
       "      <td>- kampret kan kalo typo-nya di email kantor ke...</td>\n",
       "      <td>144</td>\n",
       "    </tr>\n",
       "    <tr>\n",
       "      <th>3</th>\n",
       "      <td>- Mending makan disini lebih murah, buang-buan...</td>\n",
       "      <td>285</td>\n",
       "    </tr>\n",
       "    <tr>\n",
       "      <th>4</th>\n",
       "      <td>/biarin oppa masukim vibrator ke memek/ oppa k...</td>\n",
       "      <td>97</td>\n",
       "    </tr>\n",
       "    <tr>\n",
       "      <th>...</th>\n",
       "      <td>...</td>\n",
       "      <td>...</td>\n",
       "    </tr>\n",
       "    <tr>\n",
       "      <th>2011</th>\n",
       "      <td>Yagimanasih anjir gue dirumah doang dari pagi ...</td>\n",
       "      <td>143</td>\n",
       "    </tr>\n",
       "    <tr>\n",
       "      <th>2012</th>\n",
       "      <td>Yah sekian pandangan awam dari saya wkwwk seka...</td>\n",
       "      <td>138</td>\n",
       "    </tr>\n",
       "    <tr>\n",
       "      <th>2013</th>\n",
       "      <td>yang butuh memek hubungi rp haneul terdekat'</td>\n",
       "      <td>44</td>\n",
       "    </tr>\n",
       "    <tr>\n",
       "      <th>2014</th>\n",
       "      <td>Yang sabar gua mah punya adek2 kunyuk yg bau k...</td>\n",
       "      <td>61</td>\n",
       "    </tr>\n",
       "    <tr>\n",
       "      <th>2015</th>\n",
       "      <td>yg didepan pada minggir buat ngasih jalan yg t...</td>\n",
       "      <td>120</td>\n",
       "    </tr>\n",
       "  </tbody>\n",
       "</table>\n",
       "<p>2016 rows × 2 columns</p>\n",
       "</div>"
      ],
      "text/plain": [
       "                                                  Tweet  Char_Length\n",
       "0     - Dia sendiri yang ngiklanin promo cashback di...          282\n",
       "1     - disaat semua cowok berusaha melacak perhatia...          138\n",
       "2     - kampret kan kalo typo-nya di email kantor ke...          144\n",
       "3     - Mending makan disini lebih murah, buang-buan...          285\n",
       "4     /biarin oppa masukim vibrator ke memek/ oppa k...           97\n",
       "...                                                 ...          ...\n",
       "2011  Yagimanasih anjir gue dirumah doang dari pagi ...          143\n",
       "2012  Yah sekian pandangan awam dari saya wkwwk seka...          138\n",
       "2013       yang butuh memek hubungi rp haneul terdekat'           44\n",
       "2014  Yang sabar gua mah punya adek2 kunyuk yg bau k...           61\n",
       "2015  yg didepan pada minggir buat ngasih jalan yg t...          120\n",
       "\n",
       "[2016 rows x 2 columns]"
      ]
     },
     "execution_count": 5,
     "metadata": {},
     "output_type": "execute_result"
    }
   ],
   "source": [
    "# Character Length\n",
    "\n",
    "df['Char_Length'] = df.Tweet.apply(lambda x: len(str(x)))\n",
    "df"
   ]
  },
  {
   "cell_type": "code",
   "execution_count": 6,
   "id": "7b00417f",
   "metadata": {},
   "outputs": [
    {
     "name": "stdout",
     "output_type": "stream",
     "text": [
      "count    2016.000000\n",
      "mean       96.888889\n",
      "std        67.674154\n",
      "min         7.000000\n",
      "25%        44.000000\n",
      "50%        80.000000\n",
      "75%       138.000000\n",
      "max       561.000000\n",
      "Name: Char_Length, dtype: float64\n"
     ]
    }
   ],
   "source": [
    "print(df.Char_Length.describe())"
   ]
  },
  {
   "cell_type": "code",
   "execution_count": 7,
   "id": "14802c66",
   "metadata": {},
   "outputs": [
    {
     "data": {
      "text/html": [
       "<div>\n",
       "<style scoped>\n",
       "    .dataframe tbody tr th:only-of-type {\n",
       "        vertical-align: middle;\n",
       "    }\n",
       "\n",
       "    .dataframe tbody tr th {\n",
       "        vertical-align: top;\n",
       "    }\n",
       "\n",
       "    .dataframe thead th {\n",
       "        text-align: right;\n",
       "    }\n",
       "</style>\n",
       "<table border=\"1\" class=\"dataframe\">\n",
       "  <thead>\n",
       "    <tr style=\"text-align: right;\">\n",
       "      <th></th>\n",
       "      <th>Tweet</th>\n",
       "      <th>Char_Length</th>\n",
       "    </tr>\n",
       "  </thead>\n",
       "  <tbody>\n",
       "    <tr>\n",
       "      <th>254</th>\n",
       "      <td>USER //</td>\n",
       "      <td>7</td>\n",
       "    </tr>\n",
       "    <tr>\n",
       "      <th>1199</th>\n",
       "      <td>URL &amp;lt</td>\n",
       "      <td>7</td>\n",
       "    </tr>\n",
       "  </tbody>\n",
       "</table>\n",
       "</div>"
      ],
      "text/plain": [
       "        Tweet  Char_Length\n",
       "254   USER //            7\n",
       "1199  URL &lt            7"
      ]
     },
     "execution_count": 7,
     "metadata": {},
     "output_type": "execute_result"
    }
   ],
   "source": [
    "# min char length\n",
    "\n",
    "data_min_char_length = df[df.Char_Length == 7]\n",
    "data_min_char_length"
   ]
  },
  {
   "cell_type": "code",
   "execution_count": 8,
   "id": "928837af",
   "metadata": {},
   "outputs": [
    {
     "data": {
      "text/html": [
       "<div>\n",
       "<style scoped>\n",
       "    .dataframe tbody tr th:only-of-type {\n",
       "        vertical-align: middle;\n",
       "    }\n",
       "\n",
       "    .dataframe tbody tr th {\n",
       "        vertical-align: top;\n",
       "    }\n",
       "\n",
       "    .dataframe thead th {\n",
       "        text-align: right;\n",
       "    }\n",
       "</style>\n",
       "<table border=\"1\" class=\"dataframe\">\n",
       "  <thead>\n",
       "    <tr style=\"text-align: right;\">\n",
       "      <th></th>\n",
       "      <th>Tweet</th>\n",
       "      <th>Char_Length</th>\n",
       "    </tr>\n",
       "  </thead>\n",
       "  <tbody>\n",
       "    <tr>\n",
       "      <th>895</th>\n",
       "      <td>USER anjir.....\\n\\ngue ngecek berkali kali bua...</td>\n",
       "      <td>561</td>\n",
       "    </tr>\n",
       "  </tbody>\n",
       "</table>\n",
       "</div>"
      ],
      "text/plain": [
       "                                                 Tweet  Char_Length\n",
       "895  USER anjir.....\\n\\ngue ngecek berkali kali bua...          561"
      ]
     },
     "execution_count": 8,
     "metadata": {},
     "output_type": "execute_result"
    }
   ],
   "source": [
    "# max char length\n",
    "\n",
    "data_max_char_length = df[df.Char_Length == 561]\n",
    "data_max_char_length"
   ]
  },
  {
   "cell_type": "code",
   "execution_count": 9,
   "id": "e902e351",
   "metadata": {},
   "outputs": [],
   "source": [
    "import re\n",
    "# from nltk.tokenize import word_tokenize\n",
    "# from Sastrawi.Stemmer.StemmerFactory import StemmerFactory"
   ]
  },
  {
   "cell_type": "code",
   "execution_count": 10,
   "id": "0ad10816",
   "metadata": {},
   "outputs": [
    {
     "data": {
      "text/html": [
       "<div>\n",
       "<style scoped>\n",
       "    .dataframe tbody tr th:only-of-type {\n",
       "        vertical-align: middle;\n",
       "    }\n",
       "\n",
       "    .dataframe tbody tr th {\n",
       "        vertical-align: top;\n",
       "    }\n",
       "\n",
       "    .dataframe thead th {\n",
       "        text-align: right;\n",
       "    }\n",
       "</style>\n",
       "<table border=\"1\" class=\"dataframe\">\n",
       "  <thead>\n",
       "    <tr style=\"text-align: right;\">\n",
       "      <th></th>\n",
       "      <th>Tweet</th>\n",
       "      <th>Char_Length</th>\n",
       "      <th>preprocessing</th>\n",
       "    </tr>\n",
       "  </thead>\n",
       "  <tbody>\n",
       "    <tr>\n",
       "      <th>0</th>\n",
       "      <td>- Dia sendiri yang ngiklanin promo cashback di...</td>\n",
       "      <td>282</td>\n",
       "      <td>mengiklankan promo cashback aplikasinyya pengg...</td>\n",
       "    </tr>\n",
       "    <tr>\n",
       "      <th>1</th>\n",
       "      <td>- disaat semua cowok berusaha melacak perhatia...</td>\n",
       "      <td>138</td>\n",
       "      <td>cowok berusaha melacak perhatian lantas remehk...</td>\n",
       "    </tr>\n",
       "    <tr>\n",
       "      <th>2</th>\n",
       "      <td>- kampret kan kalo typo-nya di email kantor ke...</td>\n",
       "      <td>144</td>\n",
       "      <td>kampret salah ketik email kantor mengetik serp...</td>\n",
       "    </tr>\n",
       "    <tr>\n",
       "      <th>3</th>\n",
       "      <td>- Mending makan disini lebih murah, buang-buan...</td>\n",
       "      <td>285</td>\n",
       "      <td>mending makan murah buang buang duit tai a bel...</td>\n",
       "    </tr>\n",
       "    <tr>\n",
       "      <th>4</th>\n",
       "      <td>/biarin oppa masukim vibrator ke memek/ oppa k...</td>\n",
       "      <td>97</td>\n",
       "      <td>biarkan oppa masukan vibrator memek oppa memas...</td>\n",
       "    </tr>\n",
       "  </tbody>\n",
       "</table>\n",
       "</div>"
      ],
      "text/plain": [
       "                                               Tweet  Char_Length  \\\n",
       "0  - Dia sendiri yang ngiklanin promo cashback di...          282   \n",
       "1  - disaat semua cowok berusaha melacak perhatia...          138   \n",
       "2  - kampret kan kalo typo-nya di email kantor ke...          144   \n",
       "3  - Mending makan disini lebih murah, buang-buan...          285   \n",
       "4  /biarin oppa masukim vibrator ke memek/ oppa k...           97   \n",
       "\n",
       "                                       preprocessing  \n",
       "0  mengiklankan promo cashback aplikasinyya pengg...  \n",
       "1  cowok berusaha melacak perhatian lantas remehk...  \n",
       "2  kampret salah ketik email kantor mengetik serp...  \n",
       "3  mending makan murah buang buang duit tai a bel...  \n",
       "4  biarkan oppa masukan vibrator memek oppa memas...  "
      ]
     },
     "execution_count": 10,
     "metadata": {},
     "output_type": "execute_result"
    }
   ],
   "source": [
    "def lowercase(text):\n",
    "    return text.lower()\n",
    "\n",
    "def remove_unnecessary_char(text):\n",
    "    text = re.sub('\\n',' ',text)\n",
    "    text = re.sub('rt',' ',text)\n",
    "    text = re.sub('user',' ',text)\n",
    "    text = re.sub('((www\\.[^\\s]+)|(https?://[^\\s]+)|(http?://[^\\s]+))',' ',text)\n",
    "    text = re.sub('  +', ' ', text)\n",
    "    return text\n",
    "    \n",
    "def remove_nonaplhanumeric(text):\n",
    "    text = re.sub('[^0-9a-zA-Z]+', ' ', text)\n",
    "    return text\n",
    "\n",
    "def casefold(text):\n",
    "    text = lowercase(text)\n",
    "    text = remove_nonaplhanumeric(text)\n",
    "    text = remove_unnecessary_char(text)\n",
    "    return text\n",
    "\n",
    "def normalize_alay(text):\n",
    "    alay_dict = pd.read_csv('../dataset/stopwords/kamusalay.csv', encoding='latin-1', header=None)\n",
    "    alay_dict = alay_dict.rename(columns={0: 'original', 1: 'replacement'})\n",
    "    alay_dict_map = dict(zip(alay_dict['original'], alay_dict['replacement']))\n",
    "    return ' '.join([alay_dict_map[word] if word in alay_dict_map else word for word in text.split(' ')])\n",
    "\n",
    "def remove_stopword(text):\n",
    "    id_stopword = pd.read_csv('../dataset/stopwords/idstopwords.csv', header=None)\n",
    "    id_stopword = id_stopword.rename(columns={0: 'stopword'})\n",
    "    text = ' '.join(['' if word in id_stopword.stopword.values else word for word in text.split(' ')])\n",
    "    text = re.sub('  +', ' ', text)\n",
    "    text = text.strip()\n",
    "    return text\n",
    "\n",
    "def stopword(text):\n",
    "    text = normalize_alay(text)\n",
    "    text = remove_stopword(text)\n",
    "    return text\n",
    "\n",
    "def tokenizing(text):\n",
    "    words = word_tokenize(text)\n",
    "    return words\n",
    "\n",
    "def stemming(text):\n",
    "    factory = StemmerFactory()\n",
    "    stemmer = factory.create_stemmer()\n",
    "    do = []\n",
    "    for w in text:\n",
    "        dt = stemmer.stem(w)\n",
    "        do.append(dt)\n",
    "    d_clean = []\n",
    "    d_clean = \" \".join(do)\n",
    "    print(d_clean)\n",
    "    return d_clean\n",
    "\n",
    "def preprocessing(text):\n",
    "    text = casefold(text)\n",
    "    text = stopword(text)\n",
    "#   text = tokenizing(text)\n",
    "#   text = stemming(text)\n",
    "    return text\n",
    "\n",
    "df[\"preprocessing\"] = df.Tweet.apply(preprocessing)\n",
    "df.head()"
   ]
  },
  {
   "cell_type": "code",
   "execution_count": 11,
   "id": "811b113b",
   "metadata": {},
   "outputs": [
    {
     "data": {
      "text/html": [
       "<div>\n",
       "<style scoped>\n",
       "    .dataframe tbody tr th:only-of-type {\n",
       "        vertical-align: middle;\n",
       "    }\n",
       "\n",
       "    .dataframe tbody tr th {\n",
       "        vertical-align: top;\n",
       "    }\n",
       "\n",
       "    .dataframe thead th {\n",
       "        text-align: right;\n",
       "    }\n",
       "</style>\n",
       "<table border=\"1\" class=\"dataframe\">\n",
       "  <thead>\n",
       "    <tr style=\"text-align: right;\">\n",
       "      <th></th>\n",
       "      <th>Tweet</th>\n",
       "      <th>Char_Length</th>\n",
       "      <th>preprocessing</th>\n",
       "      <th>Char_Length_Prep</th>\n",
       "    </tr>\n",
       "  </thead>\n",
       "  <tbody>\n",
       "    <tr>\n",
       "      <th>0</th>\n",
       "      <td>- Dia sendiri yang ngiklanin promo cashback di...</td>\n",
       "      <td>282</td>\n",
       "      <td>mengiklankan promo cashback aplikasinyya pengg...</td>\n",
       "      <td>184</td>\n",
       "    </tr>\n",
       "    <tr>\n",
       "      <th>1</th>\n",
       "      <td>- disaat semua cowok berusaha melacak perhatia...</td>\n",
       "      <td>138</td>\n",
       "      <td>cowok berusaha melacak perhatian lantas remehk...</td>\n",
       "      <td>88</td>\n",
       "    </tr>\n",
       "    <tr>\n",
       "      <th>2</th>\n",
       "      <td>- kampret kan kalo typo-nya di email kantor ke...</td>\n",
       "      <td>144</td>\n",
       "      <td>kampret salah ketik email kantor mengetik serp...</td>\n",
       "      <td>61</td>\n",
       "    </tr>\n",
       "    <tr>\n",
       "      <th>3</th>\n",
       "      <td>- Mending makan disini lebih murah, buang-buan...</td>\n",
       "      <td>285</td>\n",
       "      <td>mending makan murah buang buang duit tai a bel...</td>\n",
       "      <td>140</td>\n",
       "    </tr>\n",
       "    <tr>\n",
       "      <th>4</th>\n",
       "      <td>/biarin oppa masukim vibrator ke memek/ oppa k...</td>\n",
       "      <td>97</td>\n",
       "      <td>biarkan oppa masukan vibrator memek oppa memas...</td>\n",
       "      <td>62</td>\n",
       "    </tr>\n",
       "  </tbody>\n",
       "</table>\n",
       "</div>"
      ],
      "text/plain": [
       "                                               Tweet  Char_Length  \\\n",
       "0  - Dia sendiri yang ngiklanin promo cashback di...          282   \n",
       "1  - disaat semua cowok berusaha melacak perhatia...          138   \n",
       "2  - kampret kan kalo typo-nya di email kantor ke...          144   \n",
       "3  - Mending makan disini lebih murah, buang-buan...          285   \n",
       "4  /biarin oppa masukim vibrator ke memek/ oppa k...           97   \n",
       "\n",
       "                                       preprocessing  Char_Length_Prep  \n",
       "0  mengiklankan promo cashback aplikasinyya pengg...               184  \n",
       "1  cowok berusaha melacak perhatian lantas remehk...                88  \n",
       "2  kampret salah ketik email kantor mengetik serp...                61  \n",
       "3  mending makan murah buang buang duit tai a bel...               140  \n",
       "4  biarkan oppa masukan vibrator memek oppa memas...                62  "
      ]
     },
     "execution_count": 11,
     "metadata": {},
     "output_type": "execute_result"
    }
   ],
   "source": [
    "# Character Length After Preprocessing\n",
    "\n",
    "df['Char_Length_Prep'] = df.preprocessing.apply(lambda x: len(str(x)))\n",
    "df.head()"
   ]
  },
  {
   "cell_type": "code",
   "execution_count": null,
   "id": "0065ad7c",
   "metadata": {},
   "outputs": [],
   "source": [
    "# data_preprocessing = df[['Tweet', 'preprocessing']].loc[0:50]\n",
    "# data_preprocessing"
   ]
  },
  {
   "cell_type": "code",
   "execution_count": null,
   "id": "41037955",
   "metadata": {},
   "outputs": [],
   "source": [
    "#  "
   ]
  },
  {
   "cell_type": "code",
   "execution_count": null,
   "id": "aeb3192a",
   "metadata": {},
   "outputs": [],
   "source": [
    "cf.go_offline()\n",
    "cf.set_config_file(offline=True, world_readable=True)\n",
    "\n",
    "df['Char_Length'].iplot(kind='hist',\n",
    "                        bins=100,\n",
    "                        xTitle='Character Length',\n",
    "                        linecolor='black',\n",
    "                        yTitle='Count',\n",
    "                        title='Review Text Length Distribution')"
   ]
  },
  {
   "cell_type": "code",
   "execution_count": null,
   "id": "7a303176",
   "metadata": {},
   "outputs": [],
   "source": [
    "def get_top_n_words(corpus, n=None):\n",
    "    vec = CountVectorizer().fit(corpus)\n",
    "    bag_of_words = vec.transform(corpus)\n",
    "    sum_words = bag_of_words.sum(axis=0) \n",
    "    words_freq = [(word, sum_words[0, idx]) for word, idx in vec.vocabulary_.items()]\n",
    "    words_freq =sorted(words_freq, key = lambda x: x[1], reverse=True)\n",
    "    return words_freq[:n]\n",
    "\n",
    "def get_top_n_bigram(corpus, n=None):\n",
    "    vec = CountVectorizer(ngram_range=(3, 3)).fit(corpus)\n",
    "    bag_of_words = vec.transform(corpus)\n",
    "    sum_words = bag_of_words.sum(axis=0) \n",
    "    words_freq = [(word, sum_words[0, idx]) for word, idx in vec.vocabulary_.items()]\n",
    "    words_freq =sorted(words_freq, key = lambda x: x[1], reverse=True)\n",
    "    return words_freq[:n]\n",
    "\n",
    "common_word = get_top_n_words(df['Tweet'], 10)\n",
    "common_words = get_top_n_bigram(df['Tweet'], 10)"
   ]
  },
  {
   "cell_type": "code",
   "execution_count": null,
   "id": "e44174df",
   "metadata": {},
   "outputs": [],
   "source": [
    "# The distribution of top unigrams before removing stop words\n",
    "\n",
    "df1 = pd.DataFrame(common_word, columns = ['Tweet' , 'count'])\n",
    "df1.groupby('Tweet').sum()['count'].sort_values(ascending=False).iplot(kind='bar',\n",
    "                                                                       yTitle='Count',\n",
    "                                                                       linecolor='black',\n",
    "                                                                       title='Top 10 Words in Review Before Removing Stopwords')"
   ]
  },
  {
   "cell_type": "code",
   "execution_count": null,
   "id": "1161e0cc",
   "metadata": {},
   "outputs": [],
   "source": [
    "df1"
   ]
  },
  {
   "cell_type": "code",
   "execution_count": null,
   "id": "01b26a7d",
   "metadata": {},
   "outputs": [],
   "source": [
    "# The distribution of top trigrams before removing stop words\n",
    "\n",
    "df2 = pd.DataFrame(common_words,\n",
    "                   columns = ['Tweet' , 'count'])\n",
    "\n",
    "df2.groupby('Tweet').sum()['count'].sort_values(ascending=False).iplot(kind='bar',\n",
    "                                                                       yTitle='Count',\n",
    "                                                                       linecolor='black',\n",
    "                                                                       title='Top 10 Trigrams in Review Before Removing Stopwords')"
   ]
  },
  {
   "cell_type": "code",
   "execution_count": null,
   "id": "afa74a48",
   "metadata": {},
   "outputs": [],
   "source": [
    "df2"
   ]
  },
  {
   "cell_type": "code",
   "execution_count": null,
   "id": "a334eea5",
   "metadata": {},
   "outputs": [],
   "source": [
    "# wordcloud\n",
    "\n",
    "tweet =' '.join([str(text) for text in df.preprocessing])\n",
    "\n",
    "wordcloud = WordCloud(width=800,\n",
    "                      height=500,\n",
    "                      background_color=\"white\",\n",
    "                      colormap=\"Dark2\",\n",
    "                      random_state=21,\n",
    "                      max_font_size=110).generate(tweet)\n",
    "plt.figure(figsize=(14, 12))\n",
    "plt.imshow(wordcloud, interpolation=\"bilinear\")\n",
    "plt.axis('off')\n",
    "plt.show()"
   ]
  },
  {
   "cell_type": "code",
   "execution_count": null,
   "id": "c2a3e19b",
   "metadata": {},
   "outputs": [],
   "source": [
    "wordcloud.to_file(\"../data_test/wordcloud.png\")"
   ]
  },
  {
   "cell_type": "code",
   "execution_count": null,
   "id": "5738b4de",
   "metadata": {},
   "outputs": [],
   "source": [
    "cf.go_offline()\n",
    "cf.set_config_file(offline=False, world_readable=True)\n",
    "\n",
    "df['Char_Length_Prep'].iplot(\n",
    "    kind='hist',\n",
    "    bins=100,\n",
    "    xTitle='Char_Length_prep',\n",
    "    linecolor='black',\n",
    "    yTitle='count',\n",
    "    title='Review Text Length Distribution After Preprocessing')"
   ]
  },
  {
   "cell_type": "code",
   "execution_count": null,
   "id": "b88e3d9c",
   "metadata": {},
   "outputs": [],
   "source": [
    "common_word = get_top_n_words(df['preprocessing'], 10)\n",
    "common_words = get_top_n_bigram(df['preprocessing'], 10)"
   ]
  },
  {
   "cell_type": "code",
   "execution_count": null,
   "id": "4505d488",
   "metadata": {},
   "outputs": [],
   "source": [
    "common_words"
   ]
  },
  {
   "cell_type": "code",
   "execution_count": null,
   "id": "7f69d035",
   "metadata": {},
   "outputs": [],
   "source": [
    "common_word"
   ]
  },
  {
   "cell_type": "code",
   "execution_count": null,
   "id": "5d34a5f0",
   "metadata": {},
   "outputs": [],
   "source": []
  },
  {
   "cell_type": "code",
   "execution_count": null,
   "id": "d76b8ec8",
   "metadata": {},
   "outputs": [],
   "source": [
    "# The distribution of top unigrams after removing stop words\n",
    "\n",
    "df1_prep = pd.DataFrame(common_word, columns = ['preprocessing' , 'count'])\n",
    "df1_prep.groupby('preprocessing').sum()['count'].sort_values(ascending=False).iplot(kind='bar',\n",
    "                                                                       yTitle='Count',\n",
    "                                                                       linecolor='black',\n",
    "                                                                       title='Top 10 Words in Review After Removing Stopwords')"
   ]
  },
  {
   "cell_type": "code",
   "execution_count": null,
   "id": "4427aae1",
   "metadata": {},
   "outputs": [],
   "source": [
    "# df1_prep.to_csv('../data_test/df1_prep.csv')"
   ]
  },
  {
   "cell_type": "code",
   "execution_count": null,
   "id": "1bc2e849",
   "metadata": {},
   "outputs": [],
   "source": [
    "# The distribution of top trigrams before removing stop words\n",
    "\n",
    "df3_prep = pd.DataFrame(common_words,\n",
    "                   columns = ['preprocessing' , 'count'])\n",
    "\n",
    "df3_prep.groupby('preprocessing').sum()['count'].sort_values(ascending=False).iplot(kind='bar',\n",
    "                                                                       yTitle='Count',\n",
    "                                                                       linecolor='black',\n",
    "                                                                       title='Top 10 Trigrams in Review Before Removing Stopwords')"
   ]
  },
  {
   "cell_type": "code",
   "execution_count": null,
   "id": "b9c1c80d",
   "metadata": {},
   "outputs": [],
   "source": [
    "df3_prep"
   ]
  },
  {
   "cell_type": "markdown",
   "id": "6ffd7833",
   "metadata": {},
   "source": [
    "# Predictive Analysis"
   ]
  },
  {
   "cell_type": "code",
   "execution_count": 12,
   "id": "c2255eb7",
   "metadata": {},
   "outputs": [
    {
     "data": {
      "text/html": [
       "<div>\n",
       "<style scoped>\n",
       "    .dataframe tbody tr th:only-of-type {\n",
       "        vertical-align: middle;\n",
       "    }\n",
       "\n",
       "    .dataframe tbody tr th {\n",
       "        vertical-align: top;\n",
       "    }\n",
       "\n",
       "    .dataframe thead th {\n",
       "        text-align: right;\n",
       "    }\n",
       "</style>\n",
       "<table border=\"1\" class=\"dataframe\">\n",
       "  <thead>\n",
       "    <tr style=\"text-align: right;\">\n",
       "      <th></th>\n",
       "      <th>Tweet</th>\n",
       "      <th>Char_Length</th>\n",
       "      <th>preprocessing</th>\n",
       "      <th>Char_Length_Prep</th>\n",
       "    </tr>\n",
       "  </thead>\n",
       "  <tbody>\n",
       "    <tr>\n",
       "      <th>0</th>\n",
       "      <td>- Dia sendiri yang ngiklanin promo cashback di...</td>\n",
       "      <td>282</td>\n",
       "      <td>mengiklankan promo cashback aplikasinyya pengg...</td>\n",
       "      <td>184</td>\n",
       "    </tr>\n",
       "    <tr>\n",
       "      <th>1</th>\n",
       "      <td>- disaat semua cowok berusaha melacak perhatia...</td>\n",
       "      <td>138</td>\n",
       "      <td>cowok berusaha melacak perhatian lantas remehk...</td>\n",
       "      <td>88</td>\n",
       "    </tr>\n",
       "    <tr>\n",
       "      <th>2</th>\n",
       "      <td>- kampret kan kalo typo-nya di email kantor ke...</td>\n",
       "      <td>144</td>\n",
       "      <td>kampret salah ketik email kantor mengetik serp...</td>\n",
       "      <td>61</td>\n",
       "    </tr>\n",
       "    <tr>\n",
       "      <th>3</th>\n",
       "      <td>- Mending makan disini lebih murah, buang-buan...</td>\n",
       "      <td>285</td>\n",
       "      <td>mending makan murah buang buang duit tai a bel...</td>\n",
       "      <td>140</td>\n",
       "    </tr>\n",
       "    <tr>\n",
       "      <th>4</th>\n",
       "      <td>/biarin oppa masukim vibrator ke memek/ oppa k...</td>\n",
       "      <td>97</td>\n",
       "      <td>biarkan oppa masukan vibrator memek oppa memas...</td>\n",
       "      <td>62</td>\n",
       "    </tr>\n",
       "    <tr>\n",
       "      <th>...</th>\n",
       "      <td>...</td>\n",
       "      <td>...</td>\n",
       "      <td>...</td>\n",
       "      <td>...</td>\n",
       "    </tr>\n",
       "    <tr>\n",
       "      <th>2011</th>\n",
       "      <td>Yagimanasih anjir gue dirumah doang dari pagi ...</td>\n",
       "      <td>143</td>\n",
       "      <td>anjir rumah doang pagi gange i arah jalan main...</td>\n",
       "      <td>60</td>\n",
       "    </tr>\n",
       "    <tr>\n",
       "      <th>2012</th>\n",
       "      <td>Yah sekian pandangan awam dari saya wkwwk seka...</td>\n",
       "      <td>138</td>\n",
       "      <td>sekian pandangan awam wkwk pandangan awam rise...</td>\n",
       "      <td>87</td>\n",
       "    </tr>\n",
       "    <tr>\n",
       "      <th>2013</th>\n",
       "      <td>yang butuh memek hubungi rp haneul terdekat'</td>\n",
       "      <td>44</td>\n",
       "      <td>butuh memek hubungi rupiah haneul terdekat</td>\n",
       "      <td>42</td>\n",
       "    </tr>\n",
       "    <tr>\n",
       "      <th>2014</th>\n",
       "      <td>Yang sabar gua mah punya adek2 kunyuk yg bau k...</td>\n",
       "      <td>61</td>\n",
       "      <td>sabar adek adek kunyuk bau kayak sempak kuda</td>\n",
       "      <td>44</td>\n",
       "    </tr>\n",
       "    <tr>\n",
       "      <th>2015</th>\n",
       "      <td>yg didepan pada minggir buat ngasih jalan yg t...</td>\n",
       "      <td>120</td>\n",
       "      <td>minggir jalan turun eh maju jorokkan bego</td>\n",
       "      <td>41</td>\n",
       "    </tr>\n",
       "  </tbody>\n",
       "</table>\n",
       "<p>2016 rows × 4 columns</p>\n",
       "</div>"
      ],
      "text/plain": [
       "                                                  Tweet  Char_Length  \\\n",
       "0     - Dia sendiri yang ngiklanin promo cashback di...          282   \n",
       "1     - disaat semua cowok berusaha melacak perhatia...          138   \n",
       "2     - kampret kan kalo typo-nya di email kantor ke...          144   \n",
       "3     - Mending makan disini lebih murah, buang-buan...          285   \n",
       "4     /biarin oppa masukim vibrator ke memek/ oppa k...           97   \n",
       "...                                                 ...          ...   \n",
       "2011  Yagimanasih anjir gue dirumah doang dari pagi ...          143   \n",
       "2012  Yah sekian pandangan awam dari saya wkwwk seka...          138   \n",
       "2013       yang butuh memek hubungi rp haneul terdekat'           44   \n",
       "2014  Yang sabar gua mah punya adek2 kunyuk yg bau k...           61   \n",
       "2015  yg didepan pada minggir buat ngasih jalan yg t...          120   \n",
       "\n",
       "                                          preprocessing  Char_Length_Prep  \n",
       "0     mengiklankan promo cashback aplikasinyya pengg...               184  \n",
       "1     cowok berusaha melacak perhatian lantas remehk...                88  \n",
       "2     kampret salah ketik email kantor mengetik serp...                61  \n",
       "3     mending makan murah buang buang duit tai a bel...               140  \n",
       "4     biarkan oppa masukan vibrator memek oppa memas...                62  \n",
       "...                                                 ...               ...  \n",
       "2011  anjir rumah doang pagi gange i arah jalan main...                60  \n",
       "2012  sekian pandangan awam wkwk pandangan awam rise...                87  \n",
       "2013         butuh memek hubungi rupiah haneul terdekat                42  \n",
       "2014       sabar adek adek kunyuk bau kayak sempak kuda                44  \n",
       "2015          minggir jalan turun eh maju jorokkan bego                41  \n",
       "\n",
       "[2016 rows x 4 columns]"
      ]
     },
     "execution_count": 12,
     "metadata": {},
     "output_type": "execute_result"
    }
   ],
   "source": [
    "df"
   ]
  },
  {
   "cell_type": "code",
   "execution_count": 13,
   "id": "e50d8ace",
   "metadata": {},
   "outputs": [
    {
     "data": {
      "text/html": [
       "<div>\n",
       "<style scoped>\n",
       "    .dataframe tbody tr th:only-of-type {\n",
       "        vertical-align: middle;\n",
       "    }\n",
       "\n",
       "    .dataframe tbody tr th {\n",
       "        vertical-align: top;\n",
       "    }\n",
       "\n",
       "    .dataframe thead th {\n",
       "        text-align: right;\n",
       "    }\n",
       "</style>\n",
       "<table border=\"1\" class=\"dataframe\">\n",
       "  <thead>\n",
       "    <tr style=\"text-align: right;\">\n",
       "      <th></th>\n",
       "      <th>preprocessing</th>\n",
       "    </tr>\n",
       "  </thead>\n",
       "  <tbody>\n",
       "    <tr>\n",
       "      <th>0</th>\n",
       "      <td>mengiklankan promo cashback aplikasinyya pengg...</td>\n",
       "    </tr>\n",
       "    <tr>\n",
       "      <th>1</th>\n",
       "      <td>cowok berusaha melacak perhatian lantas remehk...</td>\n",
       "    </tr>\n",
       "    <tr>\n",
       "      <th>2</th>\n",
       "      <td>kampret salah ketik email kantor mengetik serp...</td>\n",
       "    </tr>\n",
       "    <tr>\n",
       "      <th>3</th>\n",
       "      <td>mending makan murah buang buang duit tai a bel...</td>\n",
       "    </tr>\n",
       "    <tr>\n",
       "      <th>4</th>\n",
       "      <td>biarkan oppa masukan vibrator memek oppa memas...</td>\n",
       "    </tr>\n",
       "    <tr>\n",
       "      <th>...</th>\n",
       "      <td>...</td>\n",
       "    </tr>\n",
       "    <tr>\n",
       "      <th>2011</th>\n",
       "      <td>anjir rumah doang pagi gange i arah jalan main...</td>\n",
       "    </tr>\n",
       "    <tr>\n",
       "      <th>2012</th>\n",
       "      <td>sekian pandangan awam wkwk pandangan awam rise...</td>\n",
       "    </tr>\n",
       "    <tr>\n",
       "      <th>2013</th>\n",
       "      <td>butuh memek hubungi rupiah haneul terdekat</td>\n",
       "    </tr>\n",
       "    <tr>\n",
       "      <th>2014</th>\n",
       "      <td>sabar adek adek kunyuk bau kayak sempak kuda</td>\n",
       "    </tr>\n",
       "    <tr>\n",
       "      <th>2015</th>\n",
       "      <td>minggir jalan turun eh maju jorokkan bego</td>\n",
       "    </tr>\n",
       "  </tbody>\n",
       "</table>\n",
       "<p>2016 rows × 1 columns</p>\n",
       "</div>"
      ],
      "text/plain": [
       "                                          preprocessing\n",
       "0     mengiklankan promo cashback aplikasinyya pengg...\n",
       "1     cowok berusaha melacak perhatian lantas remehk...\n",
       "2     kampret salah ketik email kantor mengetik serp...\n",
       "3     mending makan murah buang buang duit tai a bel...\n",
       "4     biarkan oppa masukan vibrator memek oppa memas...\n",
       "...                                                 ...\n",
       "2011  anjir rumah doang pagi gange i arah jalan main...\n",
       "2012  sekian pandangan awam wkwk pandangan awam rise...\n",
       "2013         butuh memek hubungi rupiah haneul terdekat\n",
       "2014       sabar adek adek kunyuk bau kayak sempak kuda\n",
       "2015          minggir jalan turun eh maju jorokkan bego\n",
       "\n",
       "[2016 rows x 1 columns]"
      ]
     },
     "execution_count": 13,
     "metadata": {},
     "output_type": "execute_result"
    }
   ],
   "source": [
    "df = df.drop(['Tweet', 'Char_Length', 'Char_Length_Prep'], axis=1)\n",
    "df = df.rename(columns={'Preprocessing':'Tweet'})\n",
    "df"
   ]
  },
  {
   "cell_type": "code",
   "execution_count": 26,
   "id": "52505f7f",
   "metadata": {},
   "outputs": [],
   "source": [
    "import joblib"
   ]
  },
  {
   "cell_type": "code",
   "execution_count": 27,
   "id": "9fcfdf63",
   "metadata": {},
   "outputs": [],
   "source": [
    "clf = joblib.load('../model/algo_model/model_logreg.jlib')"
   ]
  },
  {
   "cell_type": "code",
   "execution_count": 28,
   "id": "989bedd9",
   "metadata": {},
   "outputs": [],
   "source": [
    "from sklearn.feature_extraction.text import TfidfVectorizer\n",
    "tfidf = TfidfVectorizer(max_features=3000, ngram_range=(1,5))"
   ]
  },
  {
   "cell_type": "code",
   "execution_count": 29,
   "id": "1e3ebaa8",
   "metadata": {},
   "outputs": [],
   "source": [
    "test_tfidf = tfidf.fit_transform(df.preprocessing)"
   ]
  },
  {
   "cell_type": "code",
   "execution_count": 30,
   "id": "23b0f01d",
   "metadata": {},
   "outputs": [
    {
     "data": {
      "text/plain": [
       "array([[1, 0, 0],\n",
       "       [0, 0, 1],\n",
       "       [0, 0, 0],\n",
       "       ...,\n",
       "       [0, 0, 1],\n",
       "       [0, 1, 0],\n",
       "       [0, 0, 1]])"
      ]
     },
     "execution_count": 30,
     "metadata": {},
     "output_type": "execute_result"
    }
   ],
   "source": [
    "clf.predict(test_tfidf)"
   ]
  },
  {
   "cell_type": "code",
   "execution_count": 34,
   "id": "b43a880c",
   "metadata": {},
   "outputs": [
    {
     "data": {
      "text/html": [
       "<div>\n",
       "<style scoped>\n",
       "    .dataframe tbody tr th:only-of-type {\n",
       "        vertical-align: middle;\n",
       "    }\n",
       "\n",
       "    .dataframe tbody tr th {\n",
       "        vertical-align: top;\n",
       "    }\n",
       "\n",
       "    .dataframe thead th {\n",
       "        text-align: right;\n",
       "    }\n",
       "</style>\n",
       "<table border=\"1\" class=\"dataframe\">\n",
       "  <thead>\n",
       "    <tr style=\"text-align: right;\">\n",
       "      <th></th>\n",
       "      <th>preprocessing</th>\n",
       "      <th>HS</th>\n",
       "      <th>Abusive</th>\n",
       "      <th>Neutral</th>\n",
       "    </tr>\n",
       "  </thead>\n",
       "  <tbody>\n",
       "    <tr>\n",
       "      <th>0</th>\n",
       "      <td>mengiklankan promo cashback aplikasinyya pengg...</td>\n",
       "      <td>1</td>\n",
       "      <td>0</td>\n",
       "      <td>0</td>\n",
       "    </tr>\n",
       "    <tr>\n",
       "      <th>1</th>\n",
       "      <td>cowok berusaha melacak perhatian lantas remehk...</td>\n",
       "      <td>0</td>\n",
       "      <td>0</td>\n",
       "      <td>1</td>\n",
       "    </tr>\n",
       "    <tr>\n",
       "      <th>2</th>\n",
       "      <td>kampret salah ketik email kantor mengetik serp...</td>\n",
       "      <td>0</td>\n",
       "      <td>0</td>\n",
       "      <td>0</td>\n",
       "    </tr>\n",
       "    <tr>\n",
       "      <th>3</th>\n",
       "      <td>mending makan murah buang buang duit tai a bel...</td>\n",
       "      <td>0</td>\n",
       "      <td>0</td>\n",
       "      <td>1</td>\n",
       "    </tr>\n",
       "    <tr>\n",
       "      <th>4</th>\n",
       "      <td>biarkan oppa masukan vibrator memek oppa memas...</td>\n",
       "      <td>0</td>\n",
       "      <td>0</td>\n",
       "      <td>1</td>\n",
       "    </tr>\n",
       "    <tr>\n",
       "      <th>...</th>\n",
       "      <td>...</td>\n",
       "      <td>...</td>\n",
       "      <td>...</td>\n",
       "      <td>...</td>\n",
       "    </tr>\n",
       "    <tr>\n",
       "      <th>2011</th>\n",
       "      <td>anjir rumah doang pagi gange i arah jalan main...</td>\n",
       "      <td>0</td>\n",
       "      <td>0</td>\n",
       "      <td>0</td>\n",
       "    </tr>\n",
       "    <tr>\n",
       "      <th>2012</th>\n",
       "      <td>sekian pandangan awam wkwk pandangan awam rise...</td>\n",
       "      <td>1</td>\n",
       "      <td>0</td>\n",
       "      <td>0</td>\n",
       "    </tr>\n",
       "    <tr>\n",
       "      <th>2013</th>\n",
       "      <td>butuh memek hubungi rupiah haneul terdekat</td>\n",
       "      <td>0</td>\n",
       "      <td>0</td>\n",
       "      <td>1</td>\n",
       "    </tr>\n",
       "    <tr>\n",
       "      <th>2014</th>\n",
       "      <td>sabar adek adek kunyuk bau kayak sempak kuda</td>\n",
       "      <td>0</td>\n",
       "      <td>1</td>\n",
       "      <td>0</td>\n",
       "    </tr>\n",
       "    <tr>\n",
       "      <th>2015</th>\n",
       "      <td>minggir jalan turun eh maju jorokkan bego</td>\n",
       "      <td>0</td>\n",
       "      <td>0</td>\n",
       "      <td>1</td>\n",
       "    </tr>\n",
       "  </tbody>\n",
       "</table>\n",
       "<p>2016 rows × 4 columns</p>\n",
       "</div>"
      ],
      "text/plain": [
       "                                          preprocessing  HS  Abusive  Neutral\n",
       "0     mengiklankan promo cashback aplikasinyya pengg...   1        0        0\n",
       "1     cowok berusaha melacak perhatian lantas remehk...   0        0        1\n",
       "2     kampret salah ketik email kantor mengetik serp...   0        0        0\n",
       "3     mending makan murah buang buang duit tai a bel...   0        0        1\n",
       "4     biarkan oppa masukan vibrator memek oppa memas...   0        0        1\n",
       "...                                                 ...  ..      ...      ...\n",
       "2011  anjir rumah doang pagi gange i arah jalan main...   0        0        0\n",
       "2012  sekian pandangan awam wkwk pandangan awam rise...   1        0        0\n",
       "2013         butuh memek hubungi rupiah haneul terdekat   0        0        1\n",
       "2014       sabar adek adek kunyuk bau kayak sempak kuda   0        1        0\n",
       "2015          minggir jalan turun eh maju jorokkan bego   0        0        1\n",
       "\n",
       "[2016 rows x 4 columns]"
      ]
     },
     "execution_count": 34,
     "metadata": {},
     "output_type": "execute_result"
    }
   ],
   "source": [
    "df[['HS', 'Abusive', 'Neutral']] = clf.predict(test_tfidf)\n",
    "df"
   ]
  },
  {
   "cell_type": "code",
   "execution_count": 36,
   "id": "024de074",
   "metadata": {},
   "outputs": [],
   "source": [
    "df_predictive_analysis = df.iloc[0:30]\n",
    "df_predictive_analysis.to_csv('../data_test/df_predictive_analysis.csv')"
   ]
  },
  {
   "cell_type": "code",
   "execution_count": 40,
   "id": "fbb49bf7",
   "metadata": {},
   "outputs": [
    {
     "data": {
      "image/png": "[encoded data removed]",
      "text/plain": [
       "<Figure size 1800x720 with 3 Axes>"
      ]
     },
     "metadata": {
      "needs_background": "light"
     },
     "output_type": "display_data"
    }
   ],
   "source": [
    "# Visualisasi Missing Values\n",
    "\n",
    "msno.bar(df, color='yellow')\n",
    "plt.title('Value Counts', fontsize=24)\n",
    "plt.show()"
   ]
  },
  {
   "cell_type": "code",
   "execution_count": 41,
   "id": "293027ce",
   "metadata": {},
   "outputs": [
    {
     "name": "stdout",
     "output_type": "stream",
     "text": [
      "Neutral: (1408, 4)\n",
      "Hate Speech: (94, 4)\n",
      "Abusive: (137, 4)\n"
     ]
    }
   ],
   "source": [
    "# Amount of Data\n",
    "\n",
    "neutral = df[df['Neutral'] == 1].shape\n",
    "hate_speech = df[(df['HS'] == 1) & (df['Abusive'] == 0)].shape\n",
    "abusive = df[(df['HS'] == 0) & (df['Abusive'] == 1)].shape\n",
    "\n",
    "print(f\"Neutral: {neutral}\")\n",
    "print(f\"Hate Speech: {hate_speech}\")\n",
    "print(f\"Abusive: {abusive}\")"
   ]
  },
  {
   "cell_type": "code",
   "execution_count": 46,
   "id": "ac756588",
   "metadata": {},
   "outputs": [
    {
     "data": {
      "text/html": [
       "<style type=\"text/css\">\n",
       "#T_683c2_row0_col0, #T_683c2_row0_col1, #T_683c2_row1_col0, #T_683c2_row1_col1, #T_683c2_row1_col2, #T_683c2_row2_col0, #T_683c2_row2_col2, #T_683c2_row3_col1, #T_683c2_row3_col2, #T_683c2_row4_col2, #T_683c2_row5_col0, #T_683c2_row5_col3, #T_683c2_row6_col1, #T_683c2_row6_col3 {\n",
       "  background-color: #0d0887;\n",
       "  color: #f1f1f1;\n",
       "}\n",
       "#T_683c2_row0_col2, #T_683c2_row0_col3, #T_683c2_row2_col1, #T_683c2_row3_col0, #T_683c2_row4_col0, #T_683c2_row4_col1, #T_683c2_row5_col1, #T_683c2_row5_col2, #T_683c2_row6_col0, #T_683c2_row6_col2 {\n",
       "  background-color: #f0f921;\n",
       "  color: #000000;\n",
       "}\n",
       "#T_683c2_row1_col3 {\n",
       "  background-color: #7201a8;\n",
       "  color: #f1f1f1;\n",
       "}\n",
       "#T_683c2_row2_col3 {\n",
       "  background-color: #3e049c;\n",
       "  color: #f1f1f1;\n",
       "}\n",
       "#T_683c2_row3_col3 {\n",
       "  background-color: #310597;\n",
       "  color: #f1f1f1;\n",
       "}\n",
       "#T_683c2_row4_col3 {\n",
       "  background-color: #2c0594;\n",
       "  color: #f1f1f1;\n",
       "}\n",
       "</style>\n",
       "<table id=\"T_683c2\">\n",
       "  <thead>\n",
       "    <tr>\n",
       "      <th class=\"blank level0\" >&nbsp;</th>\n",
       "      <th id=\"T_683c2_level0_col0\" class=\"col_heading level0 col0\" >HS</th>\n",
       "      <th id=\"T_683c2_level0_col1\" class=\"col_heading level0 col1\" >Abusive</th>\n",
       "      <th id=\"T_683c2_level0_col2\" class=\"col_heading level0 col2\" >Neutral</th>\n",
       "      <th id=\"T_683c2_level0_col3\" class=\"col_heading level0 col3\" >preprocessing</th>\n",
       "    </tr>\n",
       "  </thead>\n",
       "  <tbody>\n",
       "    <tr>\n",
       "      <th id=\"T_683c2_level0_row0\" class=\"row_heading level0 row0\" >1</th>\n",
       "      <td id=\"T_683c2_row0_col0\" class=\"data row0 col0\" >0</td>\n",
       "      <td id=\"T_683c2_row0_col1\" class=\"data row0 col1\" >0</td>\n",
       "      <td id=\"T_683c2_row0_col2\" class=\"data row0 col2\" >1</td>\n",
       "      <td id=\"T_683c2_row0_col3\" class=\"data row0 col3\" >1401</td>\n",
       "    </tr>\n",
       "    <tr>\n",
       "      <th id=\"T_683c2_level0_row1\" class=\"row_heading level0 row1\" >0</th>\n",
       "      <td id=\"T_683c2_row1_col0\" class=\"data row1 col0\" >0</td>\n",
       "      <td id=\"T_683c2_row1_col1\" class=\"data row1 col1\" >0</td>\n",
       "      <td id=\"T_683c2_row1_col2\" class=\"data row1 col2\" >0</td>\n",
       "      <td id=\"T_683c2_row1_col3\" class=\"data row1 col3\" >310</td>\n",
       "    </tr>\n",
       "    <tr>\n",
       "      <th id=\"T_683c2_level0_row2\" class=\"row_heading level0 row2\" >2</th>\n",
       "      <td id=\"T_683c2_row2_col0\" class=\"data row2 col0\" >0</td>\n",
       "      <td id=\"T_683c2_row2_col1\" class=\"data row2 col1\" >1</td>\n",
       "      <td id=\"T_683c2_row2_col2\" class=\"data row2 col2\" >0</td>\n",
       "      <td id=\"T_683c2_row2_col3\" class=\"data row2 col3\" >131</td>\n",
       "    </tr>\n",
       "    <tr>\n",
       "      <th id=\"T_683c2_level0_row3\" class=\"row_heading level0 row3\" >4</th>\n",
       "      <td id=\"T_683c2_row3_col0\" class=\"data row3 col0\" >1</td>\n",
       "      <td id=\"T_683c2_row3_col1\" class=\"data row3 col1\" >0</td>\n",
       "      <td id=\"T_683c2_row3_col2\" class=\"data row3 col2\" >0</td>\n",
       "      <td id=\"T_683c2_row3_col3\" class=\"data row3 col3\" >93</td>\n",
       "    </tr>\n",
       "    <tr>\n",
       "      <th id=\"T_683c2_level0_row4\" class=\"row_heading level0 row4\" >6</th>\n",
       "      <td id=\"T_683c2_row4_col0\" class=\"data row4 col0\" >1</td>\n",
       "      <td id=\"T_683c2_row4_col1\" class=\"data row4 col1\" >1</td>\n",
       "      <td id=\"T_683c2_row4_col2\" class=\"data row4 col2\" >0</td>\n",
       "      <td id=\"T_683c2_row4_col3\" class=\"data row4 col3\" >74</td>\n",
       "    </tr>\n",
       "    <tr>\n",
       "      <th id=\"T_683c2_level0_row5\" class=\"row_heading level0 row5\" >3</th>\n",
       "      <td id=\"T_683c2_row5_col0\" class=\"data row5 col0\" >0</td>\n",
       "      <td id=\"T_683c2_row5_col1\" class=\"data row5 col1\" >1</td>\n",
       "      <td id=\"T_683c2_row5_col2\" class=\"data row5 col2\" >1</td>\n",
       "      <td id=\"T_683c2_row5_col3\" class=\"data row5 col3\" >6</td>\n",
       "    </tr>\n",
       "    <tr>\n",
       "      <th id=\"T_683c2_level0_row6\" class=\"row_heading level0 row6\" >5</th>\n",
       "      <td id=\"T_683c2_row6_col0\" class=\"data row6 col0\" >1</td>\n",
       "      <td id=\"T_683c2_row6_col1\" class=\"data row6 col1\" >0</td>\n",
       "      <td id=\"T_683c2_row6_col2\" class=\"data row6 col2\" >1</td>\n",
       "      <td id=\"T_683c2_row6_col3\" class=\"data row6 col3\" >1</td>\n",
       "    </tr>\n",
       "  </tbody>\n",
       "</table>\n"
      ],
      "text/plain": [
       "<pandas.io.formats.style.Styler at 0x7f2c7cad8040>"
      ]
     },
     "execution_count": 46,
     "metadata": {},
     "output_type": "execute_result"
    }
   ],
   "source": [
    "# Amount of Data visualization\n",
    "colormap = plt.cm.plasma\n",
    "temp = df.groupby(['HS', 'Abusive', 'Neutral']).count()['preprocessing'].reset_index().sort_values(by='preprocessing',ascending=False)\n",
    "temp.style.background_gradient(cmap=colormap)"
   ]
  },
  {
   "cell_type": "code",
   "execution_count": null,
   "id": "aa384e59",
   "metadata": {},
   "outputs": [],
   "source": []
  }
 ],
 "metadata": {
  "kernelspec": {
   "display_name": "env_scrispy",
   "language": "python",
   "name": "env_scrispy"
  },
  "language_info": {
   "codemirror_mode": {
    "name": "ipython",
    "version": 3
   },
   "file_extension": ".py",
   "mimetype": "text/x-python",
   "name": "python",
   "nbconvert_exporter": "python",
   "pygments_lexer": "ipython3",
   "version": "3.9.12"
  },
  "toc": {
   "base_numbering": 1,
   "nav_menu": {},
   "number_sections": true,
   "sideBar": true,
   "skip_h1_title": false,
   "title_cell": "Table of Contents",
   "title_sidebar": "Contents",
   "toc_cell": false,
   "toc_position": {},
   "toc_section_display": true,
   "toc_window_display": false
  },
  "varInspector": {
   "cols": {
    "lenName": 16,
    "lenType": 16,
    "lenVar": 40
   },
   "kernels_config": {
    "python": {
     "delete_cmd_postfix": "",
     "delete_cmd_prefix": "del ",
     "library": "var_list.py",
     "varRefreshCmd": "print(var_dic_list())"
    },
    "r": {
     "delete_cmd_postfix": ") ",
     "delete_cmd_prefix": "rm(",
     "library": "var_list.r",
     "varRefreshCmd": "cat(var_dic_list()) "
    }
   },
   "types_to_exclude": [
    "module",
    "function",
    "builtin_function_or_method",
    "instance",
    "_Feature"
   ],
   "window_display": false
  }
 },
 "nbformat": 4,
 "nbformat_minor": 5
}
