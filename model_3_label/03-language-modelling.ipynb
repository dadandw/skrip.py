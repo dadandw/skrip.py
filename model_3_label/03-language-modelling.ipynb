{
 "cells": [
  {
   "cell_type": "code",
   "execution_count": 1,
   "id": "9b5ee534",
   "metadata": {
    "ExecuteTime": {
     "end_time": "2022-01-14T12:40:34.261460Z",
     "start_time": "2022-01-14T12:38:37.847317Z"
    }
   },
   "outputs": [],
   "source": [
    "# Import Library\n",
    "\n",
    "import joblib\n",
    "import numpy as np\n",
    "import pandas as pd\n",
    "import matplotlib.pyplot as plt\n",
    "\n",
    "from sklearn.feature_extraction.text import TfidfVectorizer\n",
    "from sklearn.metrics.pairwise import cosine_similarity\n",
    "\n",
    "from sklearn.model_selection import train_test_split\n",
    "from sklearn.model_selection import learning_curve\n",
    "from sklearn.model_selection import validation_curve\n",
    "from sklearn.model_selection import GridSearchCV\n",
    "from sklearn.model_selection import StratifiedKFold\n",
    "\n",
    "from sklearn.multioutput import MultiOutputClassifier\n",
    "from sklearn.linear_model import LogisticRegression\n",
    "from sklearn.preprocessing import MaxAbsScaler\n",
    "\n",
    "from sklearn.metrics import classification_report\n",
    "from sklearn.metrics import accuracy_score\n",
    "from sklearn.metrics import hamming_loss\n",
    "\n",
    "import warnings\n",
    "warnings.filterwarnings('ignore')"
   ]
  },
  {
   "cell_type": "code",
   "execution_count": 2,
   "id": "7cb806a0",
   "metadata": {
    "ExecuteTime": {
     "end_time": "2022-01-14T12:40:38.521804Z",
     "start_time": "2022-01-14T12:40:34.459141Z"
    }
   },
   "outputs": [
    {
     "data": {
      "text/html": [
       "<div>\n",
       "<style scoped>\n",
       "    .dataframe tbody tr th:only-of-type {\n",
       "        vertical-align: middle;\n",
       "    }\n",
       "\n",
       "    .dataframe tbody tr th {\n",
       "        vertical-align: top;\n",
       "    }\n",
       "\n",
       "    .dataframe thead th {\n",
       "        text-align: right;\n",
       "    }\n",
       "</style>\n",
       "<table border=\"1\" class=\"dataframe\">\n",
       "  <thead>\n",
       "    <tr style=\"text-align: right;\">\n",
       "      <th></th>\n",
       "      <th>Tweet</th>\n",
       "      <th>HS</th>\n",
       "      <th>Abusive</th>\n",
       "      <th>Char_Length</th>\n",
       "      <th>Casefolding</th>\n",
       "      <th>Stopwords</th>\n",
       "    </tr>\n",
       "  </thead>\n",
       "  <tbody>\n",
       "    <tr>\n",
       "      <th>0</th>\n",
       "      <td>- disaat semua cowok berusaha melacak perhatia...</td>\n",
       "      <td>1</td>\n",
       "      <td>1</td>\n",
       "      <td>138</td>\n",
       "      <td>disaat semua cowok berusaha melacak perhatian...</td>\n",
       "      <td>cowok berusaha melacak perhatian lantas remehk...</td>\n",
       "    </tr>\n",
       "    <tr>\n",
       "      <th>1</th>\n",
       "      <td>RT USER: USER siapa yang telat ngasih tau elu?...</td>\n",
       "      <td>0</td>\n",
       "      <td>1</td>\n",
       "      <td>120</td>\n",
       "      <td>siapa yang telat ngasih tau elu edan sarap gu...</td>\n",
       "      <td>telat tau edan sarap bergaul licew</td>\n",
       "    </tr>\n",
       "    <tr>\n",
       "      <th>2</th>\n",
       "      <td>41. Kadang aku berfikir, kenapa aku tetap perc...</td>\n",
       "      <td>0</td>\n",
       "      <td>0</td>\n",
       "      <td>254</td>\n",
       "      <td>41 kadang aku berfikir kenapa aku tetap percay...</td>\n",
       "      <td>41 kadang berpikir percaya tuhan jatuh berkali...</td>\n",
       "    </tr>\n",
       "    <tr>\n",
       "      <th>3</th>\n",
       "      <td>USER USER AKU ITU AKU\\n\\nKU TAU MATAMU SIPIT T...</td>\n",
       "      <td>0</td>\n",
       "      <td>0</td>\n",
       "      <td>75</td>\n",
       "      <td>aku itu aku n nku tau matamu sipit tapi dilia...</td>\n",
       "      <td>ku tau matamu sipit</td>\n",
       "    </tr>\n",
       "    <tr>\n",
       "      <th>4</th>\n",
       "      <td>USER USER Kaum cebong kapir udah keliatan dong...</td>\n",
       "      <td>1</td>\n",
       "      <td>1</td>\n",
       "      <td>89</td>\n",
       "      <td>kaum cebong kapir udah keliatan dongoknya dar...</td>\n",
       "      <td>kaum cebong kafir dongoknya dungu haha</td>\n",
       "    </tr>\n",
       "  </tbody>\n",
       "</table>\n",
       "</div>"
      ],
      "text/plain": [
       "                                               Tweet  HS  Abusive  \\\n",
       "0  - disaat semua cowok berusaha melacak perhatia...   1        1   \n",
       "1  RT USER: USER siapa yang telat ngasih tau elu?...   0        1   \n",
       "2  41. Kadang aku berfikir, kenapa aku tetap perc...   0        0   \n",
       "3  USER USER AKU ITU AKU\\n\\nKU TAU MATAMU SIPIT T...   0        0   \n",
       "4  USER USER Kaum cebong kapir udah keliatan dong...   1        1   \n",
       "\n",
       "   Char_Length                                        Casefolding  \\\n",
       "0          138   disaat semua cowok berusaha melacak perhatian...   \n",
       "1          120   siapa yang telat ngasih tau elu edan sarap gu...   \n",
       "2          254  41 kadang aku berfikir kenapa aku tetap percay...   \n",
       "3           75   aku itu aku n nku tau matamu sipit tapi dilia...   \n",
       "4           89   kaum cebong kapir udah keliatan dongoknya dar...   \n",
       "\n",
       "                                           Stopwords  \n",
       "0  cowok berusaha melacak perhatian lantas remehk...  \n",
       "1                 telat tau edan sarap bergaul licew  \n",
       "2  41 kadang berpikir percaya tuhan jatuh berkali...  \n",
       "3                                ku tau matamu sipit  \n",
       "4             kaum cebong kafir dongoknya dungu haha  "
      ]
     },
     "execution_count": 2,
     "metadata": {},
     "output_type": "execute_result"
    }
   ],
   "source": [
    "# Load Dataset\n",
    "\n",
    "dataset = pd.read_csv('../dataset/data_modelling/data_stopwords_not_neutral.csv', index_col=None)\n",
    "dataset.head()"
   ]
  },
  {
   "cell_type": "code",
   "execution_count": 3,
   "id": "5543f441",
   "metadata": {},
   "outputs": [
    {
     "data": {
      "text/html": [
       "<div>\n",
       "<style scoped>\n",
       "    .dataframe tbody tr th:only-of-type {\n",
       "        vertical-align: middle;\n",
       "    }\n",
       "\n",
       "    .dataframe tbody tr th {\n",
       "        vertical-align: top;\n",
       "    }\n",
       "\n",
       "    .dataframe thead th {\n",
       "        text-align: right;\n",
       "    }\n",
       "</style>\n",
       "<table border=\"1\" class=\"dataframe\">\n",
       "  <thead>\n",
       "    <tr style=\"text-align: right;\">\n",
       "      <th></th>\n",
       "      <th>Tweet</th>\n",
       "      <th>HS</th>\n",
       "      <th>Abusive</th>\n",
       "    </tr>\n",
       "  </thead>\n",
       "  <tbody>\n",
       "    <tr>\n",
       "      <th>0</th>\n",
       "      <td>cowok berusaha melacak perhatian lantas remehk...</td>\n",
       "      <td>1</td>\n",
       "      <td>1</td>\n",
       "    </tr>\n",
       "    <tr>\n",
       "      <th>1</th>\n",
       "      <td>telat tau edan sarap bergaul licew</td>\n",
       "      <td>0</td>\n",
       "      <td>1</td>\n",
       "    </tr>\n",
       "    <tr>\n",
       "      <th>2</th>\n",
       "      <td>41 kadang berpikir percaya tuhan jatuh berkali...</td>\n",
       "      <td>0</td>\n",
       "      <td>0</td>\n",
       "    </tr>\n",
       "    <tr>\n",
       "      <th>3</th>\n",
       "      <td>ku tau matamu sipit</td>\n",
       "      <td>0</td>\n",
       "      <td>0</td>\n",
       "    </tr>\n",
       "    <tr>\n",
       "      <th>4</th>\n",
       "      <td>kaum cebong kafir dongoknya dungu haha</td>\n",
       "      <td>1</td>\n",
       "      <td>1</td>\n",
       "    </tr>\n",
       "  </tbody>\n",
       "</table>\n",
       "</div>"
      ],
      "text/plain": [
       "                                               Tweet  HS  Abusive\n",
       "0  cowok berusaha melacak perhatian lantas remehk...   1        1\n",
       "1                 telat tau edan sarap bergaul licew   0        1\n",
       "2  41 kadang berpikir percaya tuhan jatuh berkali...   0        0\n",
       "3                                ku tau matamu sipit   0        0\n",
       "4             kaum cebong kafir dongoknya dungu haha   1        1"
      ]
     },
     "execution_count": 3,
     "metadata": {},
     "output_type": "execute_result"
    }
   ],
   "source": [
    "dataset = dataset.drop(['Tweet', 'Casefolding',  'Char_Length'], axis=1)\n",
    "dataset = dataset[['Stopwords', 'HS', 'Abusive']]\n",
    "dataset = dataset.rename(columns={'Stopwords':'Tweet'})\n",
    "dataset.head()"
   ]
  },
  {
   "cell_type": "code",
   "execution_count": null,
   "id": "c2959dec",
   "metadata": {},
   "outputs": [],
   "source": [
    "# dataset.to_csv(\"../dataset/data_modelling.csv\", index=None)"
   ]
  },
  {
   "cell_type": "markdown",
   "id": "67f4277c",
   "metadata": {},
   "source": [
    "# Dataset Splitting"
   ]
  },
  {
   "cell_type": "code",
   "execution_count": null,
   "id": "eae5de47",
   "metadata": {},
   "outputs": [],
   "source": [
    "# Assignment Variabel X, y\n",
    "\n",
    "X = dataset.Tweet\n",
    "y = dataset.drop(columns='Tweet')\n",
    "X.shape, y.shape"
   ]
  },
  {
   "cell_type": "code",
   "execution_count": null,
   "id": "e54625c1",
   "metadata": {},
   "outputs": [],
   "source": [
    "# train_test_split\n",
    "\n",
    "X_train, X_test, y_train, y_test = train_test_split(X,\n",
    "                                                    y,\n",
    "                                                    stratify=y,\n",
    "                                                    shuffle=True,\n",
    "                                                    test_size=0.3,\n",
    "                                                    random_state=42)\n",
    "\n",
    "X_train.shape, X_test.shape, y_train.shape, y_test.shape"
   ]
  },
  {
   "cell_type": "markdown",
   "id": "942ca6ab",
   "metadata": {},
   "source": [
    "# TFIDF Vectorizer"
   ]
  },
  {
   "cell_type": "code",
   "execution_count": null,
   "id": "d5cbb106",
   "metadata": {
    "ExecuteTime": {
     "end_time": "2022-01-14T12:40:40.888771Z",
     "start_time": "2022-01-14T12:40:39.915855Z"
    }
   },
   "outputs": [],
   "source": [
    "from luwiji.text_proc import illustration, demo\n",
    "demo.text"
   ]
  },
  {
   "cell_type": "code",
   "execution_count": null,
   "id": "9c6ac3d2",
   "metadata": {},
   "outputs": [],
   "source": [
    "illustration.structured"
   ]
  },
  {
   "cell_type": "code",
   "execution_count": null,
   "id": "4867bfd6",
   "metadata": {
    "ExecuteTime": {
     "end_time": "2022-01-14T12:40:51.117106Z",
     "start_time": "2022-01-14T12:40:51.107355Z"
    }
   },
   "outputs": [],
   "source": [
    "illustration.bag_of_words"
   ]
  },
  {
   "cell_type": "code",
   "execution_count": null,
   "id": "8e0d045e",
   "metadata": {
    "ExecuteTime": {
     "end_time": "2022-01-14T12:40:51.572566Z",
     "start_time": "2022-01-14T12:40:51.565582Z"
    }
   },
   "outputs": [],
   "source": [
    "illustration.inverse_df"
   ]
  },
  {
   "cell_type": "code",
   "execution_count": null,
   "id": "edcab227",
   "metadata": {
    "ExecuteTime": {
     "end_time": "2022-01-14T12:40:51.738556Z",
     "start_time": "2022-01-14T12:40:51.725238Z"
    }
   },
   "outputs": [],
   "source": [
    "illustration.practical_idf"
   ]
  },
  {
   "cell_type": "code",
   "execution_count": null,
   "id": "167940f4",
   "metadata": {},
   "outputs": [],
   "source": []
  },
  {
   "cell_type": "markdown",
   "id": "172c1476",
   "metadata": {},
   "source": [
    "## Word Vectorizer"
   ]
  },
  {
   "cell_type": "code",
   "execution_count": null,
   "id": "874337f9",
   "metadata": {
    "ExecuteTime": {
     "end_time": "2022-01-14T12:51:40.190953Z",
     "start_time": "2022-01-14T12:51:36.115587Z"
    }
   },
   "outputs": [],
   "source": [
    "# Build Vector\n",
    "\n",
    "tfidf = TfidfVectorizer(max_features=3000, ngram_range=(1,5))\n",
    "X_train_tfidf = tfidf.fit(X_train.values.astype('U'))"
   ]
  },
  {
   "cell_type": "code",
   "execution_count": null,
   "id": "6677d57e",
   "metadata": {},
   "outputs": [],
   "source": [
    "X_train_tfidf = tfidf.transform(X_train.values.astype('U'))\n",
    "X_test_tfidf = tfidf.transform(X_test.values.astype('U'))"
   ]
  },
  {
   "cell_type": "code",
   "execution_count": null,
   "id": "2d574079",
   "metadata": {
    "ExecuteTime": {
     "end_time": "2022-01-14T12:51:47.382836Z",
     "start_time": "2022-01-14T12:51:47.379112Z"
    }
   },
   "outputs": [],
   "source": [
    "tfidf.vocabulary_"
   ]
  },
  {
   "cell_type": "code",
   "execution_count": null,
   "id": "946ffbc5",
   "metadata": {},
   "outputs": [],
   "source": [
    "tfidf.get_feature_names()"
   ]
  },
  {
   "cell_type": "code",
   "execution_count": null,
   "id": "e7b3c718",
   "metadata": {},
   "outputs": [],
   "source": [
    "df = pd.DataFrame(X_train_tfidf.todense().T,\n",
    "                 index = tfidf.get_feature_names(),\n",
    "                 columns=[f'D{i+1}' for i in range(len(X_train))])\n",
    "df"
   ]
  },
  {
   "cell_type": "code",
   "execution_count": null,
   "id": "a51ba43b",
   "metadata": {},
   "outputs": [],
   "source": [
    "# df.to_csv(\"../dataset/tfidf_feature_names.csv\", index=True)"
   ]
  },
  {
   "cell_type": "markdown",
   "id": "66527726",
   "metadata": {},
   "source": [
    "## Cosine Similarities"
   ]
  },
  {
   "cell_type": "code",
   "execution_count": null,
   "id": "b9adaef4",
   "metadata": {
    "ExecuteTime": {
     "end_time": "2022-01-14T12:51:48.657273Z",
     "start_time": "2022-01-14T12:51:48.611465Z"
    }
   },
   "outputs": [],
   "source": [
    "sim = cosine_similarity(X_test_tfidf[10], X_test_tfidf)\n",
    "sim.argsort()"
   ]
  },
  {
   "cell_type": "code",
   "execution_count": null,
   "id": "99919d57",
   "metadata": {
    "ExecuteTime": {
     "end_time": "2022-01-14T12:51:48.894808Z",
     "start_time": "2022-01-14T12:51:48.885887Z"
    }
   },
   "outputs": [],
   "source": [
    "print(X_train[1050])\n",
    "print(\"----\")\n",
    "print(X_train[3020])"
   ]
  },
  {
   "cell_type": "code",
   "execution_count": null,
   "id": "eb0e2085",
   "metadata": {
    "scrolled": true
   },
   "outputs": [],
   "source": [
    "print(\"X_train\")\n",
    "print(X_train_tfidf)\n",
    "print(\"-----\")\n",
    "print(\"X_test\")\n",
    "print(X_test_tfidf)"
   ]
  },
  {
   "cell_type": "code",
   "execution_count": null,
   "id": "ef68a00a",
   "metadata": {},
   "outputs": [],
   "source": [
    "# assignment label\n",
    "\n",
    "label_names = ['HS', 'Abusive', 'Neutral']"
   ]
  },
  {
   "cell_type": "markdown",
   "id": "cf7ae2e3",
   "metadata": {},
   "source": [
    "# MaxAbsScaler"
   ]
  },
  {
   "cell_type": "code",
   "execution_count": null,
   "id": "a1b923d9",
   "metadata": {},
   "outputs": [],
   "source": [
    "scaler = MaxAbsScaler().fit(X_train_tfidf)"
   ]
  },
  {
   "cell_type": "code",
   "execution_count": null,
   "id": "1414e706",
   "metadata": {},
   "outputs": [],
   "source": [
    "scaler"
   ]
  },
  {
   "cell_type": "code",
   "execution_count": null,
   "id": "eef74949",
   "metadata": {},
   "outputs": [],
   "source": [
    "X_train_tfidf_scaled = scaler.transform(X_train_tfidf)\n",
    "X_test_tfidf_scaled = scaler.transform(X_test_tfidf)"
   ]
  },
  {
   "cell_type": "code",
   "execution_count": null,
   "id": "0b1942b1",
   "metadata": {},
   "outputs": [],
   "source": [
    "print(X_train_tfidf_scaled)"
   ]
  },
  {
   "cell_type": "markdown",
   "id": "80516f01",
   "metadata": {},
   "source": [
    "# # K-Fold Cross Validation"
   ]
  },
  {
   "cell_type": "code",
   "execution_count": null,
   "id": "08d4b0da",
   "metadata": {},
   "outputs": [],
   "source": [
    "kfold = StratifiedKFold(n_splits=10, shuffle=True, random_state=42)\n",
    "kfold"
   ]
  },
  {
   "cell_type": "markdown",
   "id": "96948918",
   "metadata": {},
   "source": [
    "# Logistic Regression"
   ]
  },
  {
   "cell_type": "code",
   "execution_count": null,
   "id": "b34fdba6",
   "metadata": {},
   "outputs": [],
   "source": [
    "from luwiji.logistic_regression import illustration, demo\n",
    "\n",
    "illustration.multinomial"
   ]
  },
  {
   "cell_type": "code",
   "execution_count": null,
   "id": "30177b5f",
   "metadata": {},
   "outputs": [],
   "source": [
    "demo.loss_curve()"
   ]
  },
  {
   "cell_type": "code",
   "execution_count": null,
   "id": "372e689b",
   "metadata": {},
   "outputs": [],
   "source": [
    "demo.logistic_regression()"
   ]
  },
  {
   "cell_type": "code",
   "execution_count": null,
   "id": "ada6d042",
   "metadata": {},
   "outputs": [],
   "source": [
    "demo.loss_plane()"
   ]
  },
  {
   "cell_type": "code",
   "execution_count": null,
   "id": "4196cd14",
   "metadata": {},
   "outputs": [],
   "source": [
    "model_logreg = LogisticRegression(max_iter=5000)"
   ]
  },
  {
   "cell_type": "markdown",
   "id": "6b666a71",
   "metadata": {},
   "source": [
    "# GridSearch CV"
   ]
  },
  {
   "cell_type": "code",
   "execution_count": null,
   "id": "dedc5c7c",
   "metadata": {},
   "outputs": [],
   "source": [
    "# Hyperparameter Tuning\n",
    "\n",
    "penalty = ['l2']\n",
    "C = np.linspace(0, 2, 20)\n",
    "solver = ['lbfgs']\n",
    "\n",
    "hyperparameters = dict(penalty=penalty,\n",
    "                       C=C,\n",
    "                       solver=solver)\n",
    "\n",
    "grid = GridSearchCV(model_logreg,\n",
    "                    hyperparameters,\n",
    "                    cv=kfold,\n",
    "                    n_jobs=-1,\n",
    "                    verbose=200)"
   ]
  },
  {
   "cell_type": "markdown",
   "id": "28a2bb3d",
   "metadata": {},
   "source": [
    "# MultiOutput Classifier"
   ]
  },
  {
   "cell_type": "code",
   "execution_count": null,
   "id": "06338e67",
   "metadata": {},
   "outputs": [],
   "source": [
    "clf = MultiOutputClassifier(grid).fit(X_train_tfidf, y_train)"
   ]
  },
  {
   "cell_type": "markdown",
   "id": "2237dfec",
   "metadata": {},
   "source": [
    "## fit logistic regression model"
   ]
  },
  {
   "cell_type": "code",
   "execution_count": null,
   "id": "ab49f6e8",
   "metadata": {},
   "outputs": [],
   "source": [
    "# # Validation Curve\n",
    "# train_scores, valid_scores = validation_curve(clf,\n",
    "#     X_test_tfidf,\n",
    "#     y_train,\n",
    "#     hyperparameters,\n",
    "#     groups=None,\n",
    "#     cv=kfold,\n",
    "#     scoring=\"f1\",\n",
    "#     n_jobs=-1)"
   ]
  },
  {
   "cell_type": "code",
   "execution_count": null,
   "id": "e798ca73",
   "metadata": {},
   "outputs": [],
   "source": [
    "# # Learning Curve\n",
    "# train_sizes, train_scores, test_scores, fit_times, _ = learning_curve(\n",
    "#     clf,\n",
    "#     X_train_tfidf_scaled,\n",
    "#     y_train,\n",
    "#     return_times=True)"
   ]
  },
  {
   "cell_type": "code",
   "execution_count": null,
   "id": "51782223",
   "metadata": {},
   "outputs": [],
   "source": [
    "# train_sizes, train_scores, test_scores, fit_times"
   ]
  },
  {
   "cell_type": "code",
   "execution_count": null,
   "id": "6f31885c",
   "metadata": {},
   "outputs": [],
   "source": [
    "# train_sizes.shape, train_scores.shape, test_scores.shape, fit_times.shape"
   ]
  },
  {
   "cell_type": "code",
   "execution_count": null,
   "id": "1400453c",
   "metadata": {},
   "outputs": [],
   "source": [
    "# train_mean = np.mean(train_scores, axis=1)\n",
    "# train_std = np.std(train_scores, axis=1)\n",
    "# test_mean = np.mean(test_scores, axis=1)\n",
    "# test_std = np.std(test_scores, axis=1)"
   ]
  },
  {
   "cell_type": "code",
   "execution_count": null,
   "id": "994c6e93",
   "metadata": {},
   "outputs": [],
   "source": [
    "# plt.plot(train_sizes, train_mean, label = \"Training Score\")\n",
    "# plt.plot(train_sizes, test_mean, label = \"Cross-Validation Score\")\n",
    "\n",
    "# plt.fill_between(train_sizes, train_mean-train_std, train_mean+train_std, color=\"#DDDDDD\")\n",
    "# plt.fill_between(train_sizes, test_mean-test_std, test_mean+test_std, color=\"#DDDDDD\")\n",
    "\n",
    "# plt.title(\"Learning Curve\")\n",
    "# plt.xlabel(\"Training Size\")\n",
    "# plt.ylabel(\"Accuracy Score\")\n",
    "# plt.legend(loc = \"best\")"
   ]
  },
  {
   "cell_type": "code",
   "execution_count": null,
   "id": "9eeb68ea",
   "metadata": {},
   "outputs": [],
   "source": [
    "# clf"
   ]
  },
  {
   "cell_type": "markdown",
   "id": "d7f043b8",
   "metadata": {},
   "source": [
    "# Metrics Classification"
   ]
  },
  {
   "cell_type": "markdown",
   "id": "977b1c48",
   "metadata": {},
   "source": [
    "## hamming loss"
   ]
  },
  {
   "cell_type": "code",
   "execution_count": null,
   "id": "a6baed73",
   "metadata": {},
   "outputs": [],
   "source": [
    "y_pred = clf.predict(X_test_tfidf)"
   ]
  },
  {
   "cell_type": "code",
   "execution_count": null,
   "id": "c678320a",
   "metadata": {},
   "outputs": [],
   "source": [
    "hamming_loss(y_test, y_pred)"
   ]
  },
  {
   "cell_type": "markdown",
   "id": "e92b3b9d",
   "metadata": {},
   "source": [
    "## classification report"
   ]
  },
  {
   "cell_type": "code",
   "execution_count": null,
   "id": "952feef9",
   "metadata": {},
   "outputs": [],
   "source": [
    "print(classification_report(y_test, y_pred,target_names=label_names))"
   ]
  },
  {
   "cell_type": "markdown",
   "id": "6cc0c150",
   "metadata": {},
   "source": [
    "## accuracy metrics"
   ]
  },
  {
   "cell_type": "code",
   "execution_count": null,
   "id": "c9d52903",
   "metadata": {},
   "outputs": [],
   "source": [
    "print(\"Accuracy Score Data Training\", clf.score(X_train_tfidf, y_train))\n",
    "print(\"Accuracy Score Data Testing\", clf.score(X_test_tfidf, y_test))"
   ]
  },
  {
   "cell_type": "code",
   "execution_count": null,
   "id": "e4a534cd",
   "metadata": {},
   "outputs": [],
   "source": [
    "score_lr = accuracy_score(y_pred, y_test)\n",
    "print(score_lr)"
   ]
  },
  {
   "cell_type": "markdown",
   "id": "06dce7d7",
   "metadata": {},
   "source": [
    "# Save Model"
   ]
  },
  {
   "cell_type": "code",
   "execution_count": null,
   "id": "eb0906e7",
   "metadata": {},
   "outputs": [],
   "source": [
    "model_path = \"/home/dadandw/scrispy/build_model/skripsi/model/algo_model/model_logreg.jlib\""
   ]
  },
  {
   "cell_type": "code",
   "execution_count": null,
   "id": "e5da68d4",
   "metadata": {},
   "outputs": [],
   "source": [
    "joblib.dump(clf, model_path)"
   ]
  },
  {
   "cell_type": "code",
   "execution_count": null,
   "id": "92c2c245",
   "metadata": {},
   "outputs": [],
   "source": []
  },
  {
   "cell_type": "code",
   "execution_count": null,
   "id": "61dbfec0",
   "metadata": {},
   "outputs": [],
   "source": [
    "test = pd.read_csv(\"../data_test/data_testing.csv\", index_col=None)\n",
    "test"
   ]
  },
  {
   "cell_type": "code",
   "execution_count": null,
   "id": "c29e68a7",
   "metadata": {
    "scrolled": true
   },
   "outputs": [],
   "source": [
    "test_tfidf = tfidf.transform(test.Tweet)"
   ]
  },
  {
   "cell_type": "code",
   "execution_count": null,
   "id": "27ecce55",
   "metadata": {},
   "outputs": [],
   "source": [
    "clf.predict(test_tfidf)"
   ]
  },
  {
   "cell_type": "code",
   "execution_count": null,
   "id": "f6d86468",
   "metadata": {},
   "outputs": [],
   "source": [
    "test[['HS', 'Abusive', 'Neutral']] = clf.predict(test_tfidf)\n",
    "test"
   ]
  },
  {
   "cell_type": "code",
   "execution_count": null,
   "id": "5ec3bcc5",
   "metadata": {},
   "outputs": [],
   "source": []
  },
  {
   "cell_type": "code",
   "execution_count": null,
   "id": "ae292276",
   "metadata": {},
   "outputs": [],
   "source": []
  },
  {
   "cell_type": "markdown",
   "id": "b2e078b0",
   "metadata": {},
   "source": [
    "# Pipeline"
   ]
  },
  {
   "cell_type": "code",
   "execution_count": null,
   "id": "bdfcf790",
   "metadata": {},
   "outputs": [],
   "source": [
    "from sklearn.pipeline import Pipeline"
   ]
  },
  {
   "cell_type": "code",
   "execution_count": null,
   "id": "8d6a74a4",
   "metadata": {},
   "outputs": [],
   "source": [
    "lang_pipe = Pipeline([\n",
    "    ('tfidf', TfidfVectorizer(max_features=3000, ngram_range=(0,5)),\n",
    "    ('scaler', MaxAbsScaler()))\n",
    "])"
   ]
  },
  {
   "cell_type": "code",
   "execution_count": null,
   "id": "4c627147",
   "metadata": {},
   "outputs": [],
   "source": [
    "lang_pipe.get_params"
   ]
  },
  {
   "cell_type": "code",
   "execution_count": null,
   "id": "ec994d79",
   "metadata": {},
   "outputs": [],
   "source": [
    "algo_pipe = Pipeline([\n",
    "    ('model_logreg', LogisticRegression(multi_class = \"multinomial\", max_iter=5000)),\n",
    "    ('grid', GridSearchCV(model_logreg,\n",
    "                    hyperparameters,\n",
    "                    cv=kfold,\n",
    "                    n_jobs=-1,\n",
    "                    verbose=200),\n",
    "    ('clf', MultiOutputClassifier(grid)))\n",
    "])"
   ]
  },
  {
   "cell_type": "code",
   "execution_count": null,
   "id": "0f720ab7",
   "metadata": {},
   "outputs": [],
   "source": [
    "model = Pipeline([\n",
    "    ('lang_pipe', lang_pipe),\n",
    "    ('algo_pipe', algo_pipe)\n",
    "])"
   ]
  },
  {
   "cell_type": "code",
   "execution_count": null,
   "id": "3f3ddc5a",
   "metadata": {},
   "outputs": [],
   "source": [
    "model.fit(X_train_tfidf, y_train)"
   ]
  },
  {
   "cell_type": "code",
   "execution_count": null,
   "id": "cc7dae1a",
   "metadata": {},
   "outputs": [],
   "source": []
  }
 ],
 "metadata": {
  "kernelspec": {
   "display_name": "env_scrispy",
   "language": "python",
   "name": "env_scrispy"
  },
  "language_info": {
   "codemirror_mode": {
    "name": "ipython",
    "version": 3
   },
   "file_extension": ".py",
   "mimetype": "text/x-python",
   "name": "python",
   "nbconvert_exporter": "python",
   "pygments_lexer": "ipython3",
   "version": "3.9.12"
  },
  "toc": {
   "base_numbering": 1,
   "nav_menu": {},
   "number_sections": true,
   "sideBar": true,
   "skip_h1_title": false,
   "title_cell": "Table of Contents",
   "title_sidebar": "Contents",
   "toc_cell": false,
   "toc_position": {
    "height": "calc(100% - 180px)",
    "left": "10px",
    "top": "150px",
    "width": "273.2px"
   },
   "toc_section_display": true,
   "toc_window_display": false
  },
  "varInspector": {
   "cols": {
    "lenName": 16,
    "lenType": 16,
    "lenVar": 40
   },
   "kernels_config": {
    "python": {
     "delete_cmd_postfix": "",
     "delete_cmd_prefix": "del ",
     "library": "var_list.py",
     "varRefreshCmd": "print(var_dic_list())"
    },
    "r": {
     "delete_cmd_postfix": ") ",
     "delete_cmd_prefix": "rm(",
     "library": "var_list.r",
     "varRefreshCmd": "cat(var_dic_list()) "
    }
   },
   "types_to_exclude": [
    "module",
    "function",
    "builtin_function_or_method",
    "instance",
    "_Feature"
   ],
   "window_display": false
  }
 },
 "nbformat": 4,
 "nbformat_minor": 5
}
