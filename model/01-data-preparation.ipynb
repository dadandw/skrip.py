{
 "cells": [
  {
   "cell_type": "code",
   "execution_count": null,
   "id": "5057961a",
   "metadata": {},
   "outputs": [],
   "source": [
    "# import library\n",
    "\n",
    "import re\n",
    "import numpy as np\n",
    "import pandas as pd\n",
    "import seaborn as sns\n",
    "import matplotlib.pyplot as plt\n",
    "import plotly.express as px\n",
    "import cufflinks as cf\n",
    "import missingno as msno\n",
    "from sklearn.feature_extraction.text import CountVectorizer\n",
    "\n",
    "import warnings\n",
    "warnings.filterwarnings('ignore')"
   ]
  },
  {
   "cell_type": "code",
   "execution_count": null,
   "id": "ad141b63",
   "metadata": {},
   "outputs": [],
   "source": [
    "# Config Setting Visualize\n",
    "\n",
    "%matplotlib inline\n",
    "sns.set_style(\"whitegrid\")\n",
    "plt.style.use('ggplot')\n",
    "orange_black = [\n",
    "    '#fdc029', '#df861d', '#FF6347', '#aa3d01', '#a30e15', '#800000', '#171820'\n",
    "]\n",
    "plt.rcParams['figure.figsize'] = (16,9)\n",
    "plt.rcParams[\"figure.facecolor\"] = '#FFFBCD'\n",
    "plt.rcParams[\"axes.facecolor\"] = '#FFFFE0'\n",
    "plt.rcParams[\"axes.grid\"] = True\n",
    "plt.rcParams[\"grid.color\"] = orange_black[3]\n",
    "plt.rcParams[\"grid.alpha\"] = 0.5\n",
    "plt.rcParams[\"grid.linestyle\"] = '--'"
   ]
  },
  {
   "cell_type": "code",
   "execution_count": null,
   "id": "beef1d0b",
   "metadata": {},
   "outputs": [],
   "source": [
    "# load dataset\n",
    "\n",
    "path = '../dataset/data.csv'\n",
    "dataset = pd.read_csv(path, encoding='latin-1')\n",
    "dataset.head()"
   ]
  },
  {
   "cell_type": "markdown",
   "id": "52dd8492",
   "metadata": {},
   "source": [
    "## Melihat Statistik dan Dimensi Data"
   ]
  },
  {
   "cell_type": "code",
   "execution_count": null,
   "id": "35e46c6e",
   "metadata": {},
   "outputs": [],
   "source": [
    "# Get Columns\n",
    "\n",
    "print(f\"Columns of data => {dataset.columns}\")"
   ]
  },
  {
   "cell_type": "code",
   "execution_count": null,
   "id": "1059c8df",
   "metadata": {},
   "outputs": [],
   "source": [
    "# Columns and Raw\n",
    "\n",
    "print(f\"Shape of data => {dataset.shape}\")"
   ]
  },
  {
   "cell_type": "code",
   "execution_count": null,
   "id": "f891efb2",
   "metadata": {},
   "outputs": [],
   "source": [
    "# Drop Columns\n",
    "\n",
    "dataset = dataset.drop(['HS_Individual', 'HS_Group', 'HS_Religion',\n",
    "                        'HS_Race', 'HS_Physical', 'HS_Gender', 'HS_Other','HS_Weak',\n",
    "                        'HS_Moderate', 'HS_Strong'], axis=1)\n",
    "\n",
    "dataset.head()"
   ]
  },
  {
   "cell_type": "code",
   "execution_count": null,
   "id": "15405c25",
   "metadata": {},
   "outputs": [],
   "source": [
    "# Amount of Data\n",
    "\n",
    "neutral_count = dataset[(dataset['HS'] == 0) & (dataset['Abusive'] == 0)]\n",
    "hate_abusive_count = dataset[(dataset['HS'] == 1) & (dataset['Abusive'] == 1)]\n",
    "hate_speech_count = dataset[(dataset['HS'] == 1) & (dataset['Abusive'] == 0)]\n",
    "abusive_count = dataset[(dataset['HS'] == 0) & (dataset['Abusive'] == 1)]\n",
    "\n",
    "print(f\"Neutral: {neutral_count.shape}\")\n",
    "print(f\"Hate Speech and Abusive: {hate_abusive_count.shape}\")\n",
    "print(f\"Hate Speech: {hate_speech_count.shape}\")\n",
    "print(f\"Abusive: {abusive_count.shape}\")"
   ]
  },
  {
   "cell_type": "code",
   "execution_count": null,
   "id": "caebd571",
   "metadata": {},
   "outputs": [],
   "source": [
    "# Amount of Data visualization\n",
    "colormap = plt.cm.plasma\n",
    "\n",
    "temp = dataset.groupby(['HS', 'Abusive']).count()['Tweet'].reset_index().sort_values(by='Tweet',ascending=False)\n",
    "temp.style.background_gradient(cmap=colormap)"
   ]
  },
  {
   "cell_type": "markdown",
   "id": "6fdd5997",
   "metadata": {},
   "source": [
    "## Handling Imbalanced Dataset"
   ]
  },
  {
   "cell_type": "code",
   "execution_count": null,
   "id": "c11e54c1",
   "metadata": {},
   "outputs": [],
   "source": [
    "# cut neutral 0-1748 row\n",
    "\n",
    "neutral = neutral_count[0:1748]\n",
    "neutral.to_csv('../dataset/neutral.csv')"
   ]
  },
  {
   "cell_type": "code",
   "execution_count": null,
   "id": "0d0e6b26",
   "metadata": {},
   "outputs": [],
   "source": [
    "# # cut neutral 1748 row\n",
    "\n",
    "# neutral1748 = neutral_count[1748:]\n",
    "# neutral.to_csv('../data_test/neutral1748.csv')"
   ]
  },
  {
   "cell_type": "code",
   "execution_count": null,
   "id": "b7188bf2",
   "metadata": {},
   "outputs": [],
   "source": [
    "# cut hate_speech 0-1748 row\n",
    "\n",
    "hate_speech = hate_speech_count[0:1748]\n",
    "hate_speech.to_csv('../dataset/hate_speech.csv')"
   ]
  },
  {
   "cell_type": "code",
   "execution_count": null,
   "id": "0749ca93",
   "metadata": {},
   "outputs": [],
   "source": [
    "# # cut hate_speech 0-1748 row\n",
    "\n",
    "# hate_speech1748 = hate_speech_count[1748:]\n",
    "# hate_speech1748.to_csv('../data_test/hate_speech1748.csv')"
   ]
  },
  {
   "cell_type": "code",
   "execution_count": null,
   "id": "b6f2b9d2",
   "metadata": {},
   "outputs": [],
   "source": [
    "# cut abusive 0-1748 row\n",
    "\n",
    "abusive = abusive_count[0:1748]\n",
    "abusive.to_csv('../dataset/abusive.csv')"
   ]
  },
  {
   "cell_type": "code",
   "execution_count": null,
   "id": "0d0cdd5c",
   "metadata": {},
   "outputs": [],
   "source": [
    "# # cut abusive 1748 row\n",
    "\n",
    "# abusive1748 = abusive_count[1748:]\n",
    "# abusive1748.to_csv('../data_test/abusive1748.csv')"
   ]
  },
  {
   "cell_type": "code",
   "execution_count": null,
   "id": "e4604cf2",
   "metadata": {},
   "outputs": [],
   "source": [
    "# cut hate_nd_abusive 0-1748 row\n",
    "\n",
    "hate_and_abusive = hate_abusive_count[0:1748]\n",
    "hate_and_abusive.to_csv('../dataset/hate_and_abusive.csv')"
   ]
  },
  {
   "cell_type": "code",
   "execution_count": null,
   "id": "af8a013f",
   "metadata": {},
   "outputs": [],
   "source": [
    "# # cut hate_nd_abusive 1748 row\n",
    "\n",
    "# hate_and_abusive1748 = hate_and_abusive[1748:]\n",
    "# hate_and_abusive1748.to_csv('../data_test/hate_and_abusive1748.csv')"
   ]
  },
  {
   "cell_type": "code",
   "execution_count": null,
   "id": "41e30076",
   "metadata": {},
   "outputs": [],
   "source": [
    "# append all data\n",
    "\n",
    "dataset_balanced = neutral.append([hate_speech, abusive, hate_and_abusive])\n",
    "dataset_balanced.reset_index(drop=True, inplace=True)\n",
    "dataset_balanced"
   ]
  },
  {
   "cell_type": "code",
   "execution_count": null,
   "id": "8302d152",
   "metadata": {},
   "outputs": [],
   "source": [
    "# X_testing = neutral1748.append([hate_speech1748, abusive1748, hate_and_abusive1748])\n",
    "# X_testing.reset_index(drop=True, inplace=True)\n",
    "# X_testing.to_csv('../data_test/X_testing.csv', index=False)\n",
    "# X_testing"
   ]
  },
  {
   "cell_type": "code",
   "execution_count": null,
   "id": "bc194056",
   "metadata": {},
   "outputs": [],
   "source": [
    "# Amount of Data visualization\n",
    "\n",
    "temp_balanced = dataset_balanced.groupby(['HS', 'Abusive']).count()['Tweet'].reset_index().sort_values(by='Tweet',ascending=False)\n",
    "temp_balanced.style.background_gradient(cmap=colormap)"
   ]
  },
  {
   "cell_type": "markdown",
   "id": "dbf38f24",
   "metadata": {},
   "source": [
    "## Menangani Missing Values dan Nilai Null"
   ]
  },
  {
   "cell_type": "code",
   "execution_count": null,
   "id": "771cc1ea",
   "metadata": {},
   "outputs": [],
   "source": [
    "print(\"Null value :\")\n",
    "print(dataset.isna().sum())"
   ]
  },
  {
   "cell_type": "markdown",
   "id": "a3fd30bd",
   "metadata": {},
   "source": [
    "## Unigram dan Bigram"
   ]
  },
  {
   "cell_type": "code",
   "execution_count": null,
   "id": "038a6741",
   "metadata": {},
   "outputs": [],
   "source": [
    "# Character Length\n",
    "\n",
    "dataset_balanced['Char_Length'] = dataset.Tweet.apply(lambda x: len(str(x)))\n",
    "dataset_balanced"
   ]
  },
  {
   "cell_type": "code",
   "execution_count": null,
   "id": "7f598058",
   "metadata": {},
   "outputs": [],
   "source": [
    "cf.go_offline()\n",
    "cf.set_config_file(offline=True, world_readable=True)\n",
    "\n",
    "dataset_balanced['Char_Length'].iplot(kind='hist',\n",
    "                             bins=100,\n",
    "                             xTitle='Char_Length',\n",
    "                             linecolor='black',\n",
    "                             yTitle='count',\n",
    "                             title='Review Text Length Distribution')"
   ]
  },
  {
   "cell_type": "code",
   "execution_count": null,
   "id": "87879198",
   "metadata": {},
   "outputs": [],
   "source": [
    "def get_top_n_words(corpus, n=None):\n",
    "    vec = CountVectorizer().fit(corpus)\n",
    "    bag_of_words = vec.transform(corpus)\n",
    "    sum_words = bag_of_words.sum(axis=0) \n",
    "    words_freq = [(word, sum_words[0, idx]) for word, idx in vec.vocabulary_.items()]\n",
    "    words_freq =sorted(words_freq, key = lambda x: x[1], reverse=True)\n",
    "    return words_freq[:n]\n",
    "\n",
    "def get_top_n_bigram(corpus, n=None):\n",
    "    vec = CountVectorizer(ngram_range=(3, 3)).fit(corpus)\n",
    "    bag_of_words = vec.transform(corpus)\n",
    "    sum_words = bag_of_words.sum(axis=0) \n",
    "    words_freq = [(word, sum_words[0, idx]) for word, idx in vec.vocabulary_.items()]\n",
    "    words_freq =sorted(words_freq, key = lambda x: x[1], reverse=True)\n",
    "    return words_freq[:n]\n",
    "\n",
    "common_word = get_top_n_words(dataset_balanced['Tweet'], 10)\n",
    "common_words = get_top_n_bigram(dataset_balanced['Tweet'], 10)"
   ]
  },
  {
   "cell_type": "code",
   "execution_count": null,
   "id": "87e4b07c",
   "metadata": {},
   "outputs": [],
   "source": [
    "# The distribution of top unigrams before removing stop words\n",
    "\n",
    "df1 = pd.DataFrame(common_word, columns = ['Tweet' , 'count'])\n",
    "df1.groupby('Tweet').sum()['count'].sort_values(ascending=False).iplot(kind='bar',\n",
    "                                                                       yTitle='Count',\n",
    "                                                                       linecolor='black',\n",
    "                                                                       title='Top 10 Words in Review Before Removing Stopwords')"
   ]
  },
  {
   "cell_type": "code",
   "execution_count": null,
   "id": "90852764",
   "metadata": {},
   "outputs": [],
   "source": [
    "# The distribution of top trigrams before removing stop words\n",
    "\n",
    "df2 = pd.DataFrame(common_words,\n",
    "                   columns = ['Tweet' , 'count'])\n",
    "\n",
    "df2.groupby('Tweet').sum()['count'].sort_values(ascending=False).iplot(kind='bar',\n",
    "                                                                       yTitle='Count',\n",
    "                                                                       linecolor='black',\n",
    "                                                                       title='Top 10 Trigrams in Review Before Removing Stopwords')"
   ]
  },
  {
   "cell_type": "code",
   "execution_count": null,
   "id": "c1651aa3",
   "metadata": {},
   "outputs": [],
   "source": [
    "dataset_balanced.head()"
   ]
  },
  {
   "cell_type": "code",
   "execution_count": null,
   "id": "74799572",
   "metadata": {},
   "outputs": [],
   "source": [
    "# save dataset\n",
    "\n",
    "dataset_balanced.to_csv(\"../dataset/data_modelling/data_preparation.csv\", index=False)"
   ]
  }
 ],
 "metadata": {
  "kernelspec": {
   "display_name": "env_scrispy",
   "language": "python",
   "name": "env_scrispy"
  },
  "language_info": {
   "codemirror_mode": {
    "name": "ipython",
    "version": 3
   },
   "file_extension": ".py",
   "mimetype": "text/x-python",
   "name": "python",
   "nbconvert_exporter": "python",
   "pygments_lexer": "ipython3",
   "version": "3.9.12"
  },
  "toc": {
   "base_numbering": 1,
   "nav_menu": {
    "height": "83px",
    "width": "313px"
   },
   "number_sections": true,
   "sideBar": true,
   "skip_h1_title": false,
   "title_cell": "Table of Contents",
   "title_sidebar": "Contents",
   "toc_cell": false,
   "toc_position": {},
   "toc_section_display": true,
   "toc_window_display": false
  }
 },
 "nbformat": 4,
 "nbformat_minor": 5
}
