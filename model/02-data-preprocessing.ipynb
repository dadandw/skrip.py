{
 "cells": [
  {
   "cell_type": "code",
   "execution_count": null,
   "id": "8fa67dcd",
   "metadata": {
    "ExecuteTime": {
     "end_time": "2022-01-14T12:34:59.062018Z",
     "start_time": "2022-01-14T12:34:31.635447Z"
    }
   },
   "outputs": [],
   "source": [
    "# Import Library\n",
    "\n",
    "import re\n",
    "import pandas as pd\n",
    "from sklearn.feature_extraction.text import CountVectorizer\n",
    "\n",
    "import warnings\n",
    "from tqdm.auto import tqdm\n",
    "warnings.filterwarnings('ignore')\n",
    "%matplotlib inline"
   ]
  },
  {
   "cell_type": "code",
   "execution_count": null,
   "id": "9516f076",
   "metadata": {
    "ExecuteTime": {
     "end_time": "2022-01-14T12:35:02.794228Z",
     "start_time": "2022-01-14T12:34:59.257239Z"
    }
   },
   "outputs": [],
   "source": [
    "# Load Dataset\n",
    "\n",
    "path = '../dataset/data_modelling/data_preparation.csv'\n",
    "dataset = pd.read_csv(path, index_col=None)\n",
    "dataset.head()"
   ]
  },
  {
   "cell_type": "code",
   "execution_count": null,
   "id": "3954cfe5",
   "metadata": {},
   "outputs": [],
   "source": []
  },
  {
   "cell_type": "markdown",
   "id": "ed8d6a7b",
   "metadata": {},
   "source": [
    "# Casefolding"
   ]
  },
  {
   "cell_type": "code",
   "execution_count": null,
   "id": "c63f2fb2",
   "metadata": {
    "ExecuteTime": {
     "end_time": "2022-01-14T12:35:05.643347Z",
     "start_time": "2022-01-14T12:35:04.549172Z"
    }
   },
   "outputs": [],
   "source": [
    "def lowercase(text):\n",
    "    return text.lower()\n",
    "\n",
    "def remove_unnecessary_char(text):\n",
    "    text = re.sub('\\n',' ',text)\n",
    "    text = re.sub('rt',' ',text)\n",
    "    text = re.sub('user',' ',text)\n",
    "    text = re.sub('((www\\.[^\\s]+)|(https?://[^\\s]+)|(http?://[^\\s]+))',' ',text)\n",
    "    text = re.sub('  +', ' ', text)\n",
    "    return text\n",
    "    \n",
    "def remove_nonaplhanumeric(text):\n",
    "    text = re.sub('[^0-9a-zA-Z]+', ' ', text)\n",
    "    return text\n",
    "\n",
    "def casefold(text):\n",
    "    text = lowercase(text)\n",
    "    text = remove_nonaplhanumeric(text)\n",
    "    text = remove_unnecessary_char(text)\n",
    "    return text\n",
    "\n",
    "dataset['Casefolding'] = tqdm(dataset['Tweet'].apply(casefold))\n",
    "dataset.head()"
   ]
  },
  {
   "cell_type": "code",
   "execution_count": null,
   "id": "0c977d52",
   "metadata": {},
   "outputs": [],
   "source": [
    "dataset.to_csv(\"../dataset/data_modelling/data_casefolding.csv\", index=False)"
   ]
  },
  {
   "cell_type": "code",
   "execution_count": null,
   "id": "5555fa08",
   "metadata": {},
   "outputs": [],
   "source": [
    "for index, text in enumerate(dataset['Casefolding'][100:110]):\n",
    "  print('Review %d:\\n'%(index+1),text)"
   ]
  },
  {
   "cell_type": "markdown",
   "id": "05fd4eb9",
   "metadata": {},
   "source": [
    "# Stopwords"
   ]
  },
  {
   "cell_type": "code",
   "execution_count": null,
   "id": "f387529b",
   "metadata": {},
   "outputs": [],
   "source": [
    "alay_dict = pd.read_csv('../dataset/stopwords/kamusalay.csv', encoding='latin-1', header=None)\n",
    "alay_dict = alay_dict.rename(columns={0: 'original', 1: 'replacement'})\n",
    "id_stopword = pd.read_csv('../dataset/stopwords/idstopwords.csv', header=None)\n",
    "id_stopword = id_stopword.rename(columns={0: 'stopword'})"
   ]
  },
  {
   "cell_type": "code",
   "execution_count": null,
   "id": "a37813ae",
   "metadata": {
    "ExecuteTime": {
     "end_time": "2022-01-14T12:35:20.900606Z",
     "start_time": "2022-01-14T12:35:05.690324Z"
    }
   },
   "outputs": [],
   "source": [
    "def normalize_alay(text):\n",
    "    alay_dict_map = dict(zip(alay_dict['original'], alay_dict['replacement']))\n",
    "    return ' '.join([alay_dict_map[word] if word in alay_dict_map else word for word in text.split(' ')])\n",
    "\n",
    "def remove_stopword(text):\n",
    "    text = ' '.join(['' if word in id_stopword.stopword.values else word for word in text.split(' ')])\n",
    "    text = re.sub('  +', ' ', text)\n",
    "    text = text.strip()\n",
    "    return text\n",
    "\n",
    "def stopword(text):\n",
    "    text = normalize_alay(text)\n",
    "    text = remove_stopword(text)\n",
    "    return text\n",
    "\n",
    "dataset['Stopwords'] = tqdm(dataset['Casefolding'].apply(stopword))\n",
    "dataset.head()"
   ]
  },
  {
   "cell_type": "code",
   "execution_count": null,
   "id": "68ae6035",
   "metadata": {},
   "outputs": [],
   "source": [
    "dataset.to_csv(\"../dataset/data_modelling/data_stopwords.csv\", index=False)"
   ]
  },
  {
   "cell_type": "code",
   "execution_count": null,
   "id": "a908c05b",
   "metadata": {},
   "outputs": [],
   "source": [
    "for index, text in enumerate(dataset['Stopwords'][100:110]):\n",
    "  print('Review %d:\\n'%(index+1),text)"
   ]
  },
  {
   "cell_type": "code",
   "execution_count": null,
   "id": "5cdb7bdc",
   "metadata": {},
   "outputs": [],
   "source": [
    "# Character Length\n",
    "\n",
    "dataset['Char_Length_Prep'] = dataset.Stopwords.apply(lambda x: len(str(x)))\n",
    "dataset.head()"
   ]
  },
  {
   "cell_type": "code",
   "execution_count": null,
   "id": "38fdc322",
   "metadata": {},
   "outputs": [],
   "source": [
    "dataset.describe()"
   ]
  },
  {
   "cell_type": "code",
   "execution_count": null,
   "id": "7ab1009a",
   "metadata": {},
   "outputs": [],
   "source": [
    "# min char length prep\n",
    "\n",
    "data_min_char_length_prep = dataset[dataset.Char_Length_Prep == 0]\n",
    "data_min_char_length_prep"
   ]
  },
  {
   "cell_type": "code",
   "execution_count": null,
   "id": "f59ee8fd",
   "metadata": {},
   "outputs": [],
   "source": [
    "index = data_min_char_length_prep.index\n",
    "dataset.drop(labels=index, inplace=True)"
   ]
  },
  {
   "cell_type": "code",
   "execution_count": null,
   "id": "53a45df6",
   "metadata": {},
   "outputs": [],
   "source": [
    "dataset.describe()"
   ]
  },
  {
   "cell_type": "code",
   "execution_count": null,
   "id": "8b7eaec6",
   "metadata": {},
   "outputs": [],
   "source": [
    "dataset[dataset.Char_Length_Prep == 2]"
   ]
  },
  {
   "cell_type": "code",
   "execution_count": null,
   "id": "3ea272e4",
   "metadata": {},
   "outputs": [],
   "source": [
    "dataset.isna().sum()"
   ]
  },
  {
   "cell_type": "code",
   "execution_count": null,
   "id": "3330df8e",
   "metadata": {},
   "outputs": [],
   "source": [
    "dataset"
   ]
  },
  {
   "cell_type": "code",
   "execution_count": null,
   "id": "63b85006",
   "metadata": {
    "ExecuteTime": {
     "end_time": "2022-01-14T12:35:45.537328Z",
     "start_time": "2022-01-14T12:35:44.208471Z"
    }
   },
   "outputs": [],
   "source": [
    "# save dataset\n",
    "\n",
    "dataset.to_csv(\"../dataset/data_modelling/data_preprocessing.csv\", index=False)"
   ]
  },
  {
   "cell_type": "code",
   "execution_count": null,
   "id": "d0e24296",
   "metadata": {},
   "outputs": [],
   "source": []
  }
 ],
 "metadata": {
  "kernelspec": {
   "display_name": "env_scrispy",
   "language": "python",
   "name": "env_scrispy"
  },
  "language_info": {
   "codemirror_mode": {
    "name": "ipython",
    "version": 3
   },
   "file_extension": ".py",
   "mimetype": "text/x-python",
   "name": "python",
   "nbconvert_exporter": "python",
   "pygments_lexer": "ipython3",
   "version": "3.9.12"
  },
  "toc": {
   "base_numbering": 1,
   "nav_menu": {
    "height": "114px",
    "width": "160px"
   },
   "number_sections": false,
   "sideBar": true,
   "skip_h1_title": false,
   "title_cell": "Table of Contents",
   "title_sidebar": "Contents",
   "toc_cell": false,
   "toc_position": {
    "height": "calc(100% - 180px)",
    "left": "10px",
    "top": "150px",
    "width": "265.8px"
   },
   "toc_section_display": true,
   "toc_window_display": false
  },
  "varInspector": {
   "cols": {
    "lenName": 16,
    "lenType": 16,
    "lenVar": 40
   },
   "kernels_config": {
    "python": {
     "delete_cmd_postfix": "",
     "delete_cmd_prefix": "del ",
     "library": "var_list.py",
     "varRefreshCmd": "print(var_dic_list())"
    },
    "r": {
     "delete_cmd_postfix": ") ",
     "delete_cmd_prefix": "rm(",
     "library": "var_list.r",
     "varRefreshCmd": "cat(var_dic_list()) "
    }
   },
   "types_to_exclude": [
    "module",
    "function",
    "builtin_function_or_method",
    "instance",
    "_Feature"
   ],
   "window_display": false
  }
 },
 "nbformat": 4,
 "nbformat_minor": 5
}
