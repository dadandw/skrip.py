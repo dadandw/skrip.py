{
 "cells": [
  {
   "cell_type": "code",
   "execution_count": 1,
   "id": "9b5ee534",
   "metadata": {
    "ExecuteTime": {
     "end_time": "2022-01-14T12:40:34.261460Z",
     "start_time": "2022-01-14T12:38:37.847317Z"
    }
   },
   "outputs": [],
   "source": [
    "# Import Library\n",
    "\n",
    "import joblib\n",
    "import numpy as np\n",
    "import pandas as pd\n",
    "import matplotlib.pyplot as plt\n",
    "\n",
    "from sklearn.feature_extraction.text import TfidfVectorizer\n",
    "from sklearn.metrics.pairwise import cosine_similarity\n",
    "\n",
    "from sklearn.model_selection import train_test_split\n",
    "from sklearn.model_selection import StratifiedKFold\n",
    "from sklearn.model_selection import RandomizedSearchCV, GridSearchCV\n",
    "from sklearn.model_selection import learning_curve\n",
    "\n",
    "from sklearn.linear_model import LogisticRegression\n",
    "from sklearn.multioutput import MultiOutputClassifier\n",
    "\n",
    "from sklearn.metrics import classification_report\n",
    "from sklearn.metrics import accuracy_score\n",
    "\n",
    "import warnings\n",
    "warnings.filterwarnings('ignore')"
   ]
  },
  {
   "cell_type": "code",
   "execution_count": 2,
   "id": "7cb806a0",
   "metadata": {
    "ExecuteTime": {
     "end_time": "2022-01-14T12:40:38.521804Z",
     "start_time": "2022-01-14T12:40:34.459141Z"
    }
   },
   "outputs": [
    {
     "data": {
      "text/html": [
       "<div>\n",
       "<style scoped>\n",
       "    .dataframe tbody tr th:only-of-type {\n",
       "        vertical-align: middle;\n",
       "    }\n",
       "\n",
       "    .dataframe tbody tr th {\n",
       "        vertical-align: top;\n",
       "    }\n",
       "\n",
       "    .dataframe thead th {\n",
       "        text-align: right;\n",
       "    }\n",
       "</style>\n",
       "<table border=\"1\" class=\"dataframe\">\n",
       "  <thead>\n",
       "    <tr style=\"text-align: right;\">\n",
       "      <th></th>\n",
       "      <th>Tweet</th>\n",
       "      <th>HS</th>\n",
       "      <th>Abusive</th>\n",
       "      <th>Char_Length</th>\n",
       "      <th>Casefolding</th>\n",
       "      <th>Stopwords</th>\n",
       "      <th>Char_Length_Prep</th>\n",
       "    </tr>\n",
       "  </thead>\n",
       "  <tbody>\n",
       "    <tr>\n",
       "      <th>0</th>\n",
       "      <td>41. Kadang aku berfikir, kenapa aku tetap perc...</td>\n",
       "      <td>0</td>\n",
       "      <td>0</td>\n",
       "      <td>138</td>\n",
       "      <td>41 kadang aku berfikir kenapa aku tetap percay...</td>\n",
       "      <td>41 kadang berpikir percaya tuhan jatuh berkali...</td>\n",
       "      <td>141</td>\n",
       "    </tr>\n",
       "    <tr>\n",
       "      <th>1</th>\n",
       "      <td>USER USER AKU ITU AKU\\n\\nKU TAU MATAMU SIPIT T...</td>\n",
       "      <td>0</td>\n",
       "      <td>0</td>\n",
       "      <td>120</td>\n",
       "      <td>aku itu aku n nku tau matamu sipit tapi dilia...</td>\n",
       "      <td>ku tau matamu sipit</td>\n",
       "      <td>19</td>\n",
       "    </tr>\n",
       "    <tr>\n",
       "      <th>2</th>\n",
       "      <td>deklarasi pilkada 2018 aman dan anti hoax warg...</td>\n",
       "      <td>0</td>\n",
       "      <td>0</td>\n",
       "      <td>254</td>\n",
       "      <td>deklarasi pilkada 2018 aman dan anti hoax warg...</td>\n",
       "      <td>deklarasi pilihan kepala daerah 2018 aman anti...</td>\n",
       "      <td>75</td>\n",
       "    </tr>\n",
       "    <tr>\n",
       "      <th>3</th>\n",
       "      <td>Nah admin belanja satu lagi port terbaik nak m...</td>\n",
       "      <td>0</td>\n",
       "      <td>0</td>\n",
       "      <td>75</td>\n",
       "      <td>nah admin belanja satu lagi po terbaik nak mak...</td>\n",
       "      <td>admin belanja po terbaik nak makan ais kepal m...</td>\n",
       "      <td>171</td>\n",
       "    </tr>\n",
       "    <tr>\n",
       "      <th>4</th>\n",
       "      <td>Kalo belajar ekonomi mestinya jago memprivatis...</td>\n",
       "      <td>0</td>\n",
       "      <td>0</td>\n",
       "      <td>89</td>\n",
       "      <td>kalo belajar ekonomi mestinya jago memprivatis...</td>\n",
       "      <td>belajar ekonomi mestinya jago memprivatisasi h...</td>\n",
       "      <td>66</td>\n",
       "    </tr>\n",
       "  </tbody>\n",
       "</table>\n",
       "</div>"
      ],
      "text/plain": [
       "                                               Tweet  HS  Abusive  \\\n",
       "0  41. Kadang aku berfikir, kenapa aku tetap perc...   0        0   \n",
       "1  USER USER AKU ITU AKU\\n\\nKU TAU MATAMU SIPIT T...   0        0   \n",
       "2  deklarasi pilkada 2018 aman dan anti hoax warg...   0        0   \n",
       "3  Nah admin belanja satu lagi port terbaik nak m...   0        0   \n",
       "4  Kalo belajar ekonomi mestinya jago memprivatis...   0        0   \n",
       "\n",
       "   Char_Length                                        Casefolding  \\\n",
       "0          138  41 kadang aku berfikir kenapa aku tetap percay...   \n",
       "1          120   aku itu aku n nku tau matamu sipit tapi dilia...   \n",
       "2          254  deklarasi pilkada 2018 aman dan anti hoax warg...   \n",
       "3           75  nah admin belanja satu lagi po terbaik nak mak...   \n",
       "4           89  kalo belajar ekonomi mestinya jago memprivatis...   \n",
       "\n",
       "                                           Stopwords  Char_Length_Prep  \n",
       "0  41 kadang berpikir percaya tuhan jatuh berkali...               141  \n",
       "1                                ku tau matamu sipit                19  \n",
       "2  deklarasi pilihan kepala daerah 2018 aman anti...                75  \n",
       "3  admin belanja po terbaik nak makan ais kepal m...               171  \n",
       "4  belajar ekonomi mestinya jago memprivatisasi h...                66  "
      ]
     },
     "execution_count": 2,
     "metadata": {},
     "output_type": "execute_result"
    }
   ],
   "source": [
    "# Load Dataset\n",
    "path = '../dataset/data_modelling/data_preprocessing.csv'\n",
    "dataset = pd.read_csv(path, index_col=None)\n",
    "dataset.head()"
   ]
  },
  {
   "cell_type": "code",
   "execution_count": 3,
   "id": "59f8ec06",
   "metadata": {},
   "outputs": [
    {
     "name": "stdout",
     "output_type": "stream",
     "text": [
      "<class 'pandas.core.frame.DataFrame'>\n",
      "RangeIndex: 6971 entries, 0 to 6970\n",
      "Data columns (total 7 columns):\n",
      " #   Column            Non-Null Count  Dtype \n",
      "---  ------            --------------  ----- \n",
      " 0   Tweet             6971 non-null   object\n",
      " 1   HS                6971 non-null   int64 \n",
      " 2   Abusive           6971 non-null   int64 \n",
      " 3   Char_Length       6971 non-null   int64 \n",
      " 4   Casefolding       6971 non-null   object\n",
      " 5   Stopwords         6971 non-null   object\n",
      " 6   Char_Length_Prep  6971 non-null   int64 \n",
      "dtypes: int64(4), object(3)\n",
      "memory usage: 381.4+ KB\n"
     ]
    }
   ],
   "source": [
    "dataset.info()"
   ]
  },
  {
   "cell_type": "code",
   "execution_count": 4,
   "id": "5543f441",
   "metadata": {},
   "outputs": [
    {
     "data": {
      "text/html": [
       "<div>\n",
       "<style scoped>\n",
       "    .dataframe tbody tr th:only-of-type {\n",
       "        vertical-align: middle;\n",
       "    }\n",
       "\n",
       "    .dataframe tbody tr th {\n",
       "        vertical-align: top;\n",
       "    }\n",
       "\n",
       "    .dataframe thead th {\n",
       "        text-align: right;\n",
       "    }\n",
       "</style>\n",
       "<table border=\"1\" class=\"dataframe\">\n",
       "  <thead>\n",
       "    <tr style=\"text-align: right;\">\n",
       "      <th></th>\n",
       "      <th>Tweet</th>\n",
       "      <th>HS</th>\n",
       "      <th>Abusive</th>\n",
       "    </tr>\n",
       "  </thead>\n",
       "  <tbody>\n",
       "    <tr>\n",
       "      <th>0</th>\n",
       "      <td>41 kadang berpikir percaya tuhan jatuh berkali...</td>\n",
       "      <td>0</td>\n",
       "      <td>0</td>\n",
       "    </tr>\n",
       "    <tr>\n",
       "      <th>1</th>\n",
       "      <td>ku tau matamu sipit</td>\n",
       "      <td>0</td>\n",
       "      <td>0</td>\n",
       "    </tr>\n",
       "    <tr>\n",
       "      <th>2</th>\n",
       "      <td>deklarasi pilihan kepala daerah 2018 aman anti...</td>\n",
       "      <td>0</td>\n",
       "      <td>0</td>\n",
       "    </tr>\n",
       "    <tr>\n",
       "      <th>3</th>\n",
       "      <td>admin belanja po terbaik nak makan ais kepal m...</td>\n",
       "      <td>0</td>\n",
       "      <td>0</td>\n",
       "    </tr>\n",
       "    <tr>\n",
       "      <th>4</th>\n",
       "      <td>belajar ekonomi mestinya jago memprivatisasi h...</td>\n",
       "      <td>0</td>\n",
       "      <td>0</td>\n",
       "    </tr>\n",
       "  </tbody>\n",
       "</table>\n",
       "</div>"
      ],
      "text/plain": [
       "                                               Tweet  HS  Abusive\n",
       "0  41 kadang berpikir percaya tuhan jatuh berkali...   0        0\n",
       "1                                ku tau matamu sipit   0        0\n",
       "2  deklarasi pilihan kepala daerah 2018 aman anti...   0        0\n",
       "3  admin belanja po terbaik nak makan ais kepal m...   0        0\n",
       "4  belajar ekonomi mestinya jago memprivatisasi h...   0        0"
      ]
     },
     "execution_count": 4,
     "metadata": {},
     "output_type": "execute_result"
    }
   ],
   "source": [
    "dataset = dataset.drop(['Tweet', 'Casefolding', 'Char_Length_Prep'], axis=1)\n",
    "dataset = dataset[['Stopwords', 'HS', 'Abusive']]\n",
    "dataset = dataset.rename(columns={'Stopwords':'Tweet'})\n",
    "dataset.head()"
   ]
  },
  {
   "cell_type": "markdown",
   "id": "67f4277c",
   "metadata": {},
   "source": [
    "# Dataset Splitting"
   ]
  },
  {
   "cell_type": "code",
   "execution_count": 5,
   "id": "eae5de47",
   "metadata": {},
   "outputs": [
    {
     "data": {
      "text/plain": [
       "((6971,), (6971, 2))"
      ]
     },
     "execution_count": 5,
     "metadata": {},
     "output_type": "execute_result"
    }
   ],
   "source": [
    "# Assignment Variabel X, y\n",
    "\n",
    "X = dataset.Tweet\n",
    "y = dataset.drop(columns='Tweet')\n",
    "X.shape, y.shape"
   ]
  },
  {
   "cell_type": "code",
   "execution_count": 6,
   "id": "e54625c1",
   "metadata": {},
   "outputs": [
    {
     "data": {
      "text/plain": [
       "((4879,), (2092,), (4879, 2), (2092, 2))"
      ]
     },
     "execution_count": 6,
     "metadata": {},
     "output_type": "execute_result"
    }
   ],
   "source": [
    "# train_test_split\n",
    "\n",
    "X_train, X_test, y_train, y_test = train_test_split(X,\n",
    "                                                    y,\n",
    "                                                    stratify=y,\n",
    "                                                    shuffle=True,\n",
    "                                                    test_size=0.3,\n",
    "                                                    random_state=42)\n",
    "\n",
    "X_train.shape, X_test.shape, y_train.shape, y_test.shape"
   ]
  },
  {
   "cell_type": "markdown",
   "id": "942ca6ab",
   "metadata": {},
   "source": [
    "# TFIDF Vectorizer"
   ]
  },
  {
   "cell_type": "code",
   "execution_count": null,
   "id": "d5cbb106",
   "metadata": {
    "ExecuteTime": {
     "end_time": "2022-01-14T12:40:40.888771Z",
     "start_time": "2022-01-14T12:40:39.915855Z"
    }
   },
   "outputs": [],
   "source": [
    "from luwiji.text_proc import illustration, demo\n",
    "demo.text"
   ]
  },
  {
   "cell_type": "code",
   "execution_count": null,
   "id": "9c6ac3d2",
   "metadata": {},
   "outputs": [],
   "source": [
    "illustration.structured"
   ]
  },
  {
   "cell_type": "code",
   "execution_count": null,
   "id": "4867bfd6",
   "metadata": {
    "ExecuteTime": {
     "end_time": "2022-01-14T12:40:51.117106Z",
     "start_time": "2022-01-14T12:40:51.107355Z"
    }
   },
   "outputs": [],
   "source": [
    "illustration.bag_of_words"
   ]
  },
  {
   "cell_type": "code",
   "execution_count": null,
   "id": "8e0d045e",
   "metadata": {
    "ExecuteTime": {
     "end_time": "2022-01-14T12:40:51.572566Z",
     "start_time": "2022-01-14T12:40:51.565582Z"
    }
   },
   "outputs": [],
   "source": [
    "illustration.inverse_df"
   ]
  },
  {
   "cell_type": "code",
   "execution_count": null,
   "id": "edcab227",
   "metadata": {
    "ExecuteTime": {
     "end_time": "2022-01-14T12:40:51.738556Z",
     "start_time": "2022-01-14T12:40:51.725238Z"
    }
   },
   "outputs": [],
   "source": [
    "illustration.practical_idf"
   ]
  },
  {
   "cell_type": "code",
   "execution_count": null,
   "id": "874337f9",
   "metadata": {
    "ExecuteTime": {
     "end_time": "2022-01-14T12:51:40.190953Z",
     "start_time": "2022-01-14T12:51:36.115587Z"
    }
   },
   "outputs": [],
   "source": [
    "# Build Vector\n",
    "\n",
    "tfidf = TfidfVectorizer(max_features=5000, ngram_range=(1,3))\n",
    "X_train_tfidf = tfidf.fit(X_train.values.astype('U'))\n",
    "\n",
    "X_train_tfidf = tfidf.transform(X_train.values.astype('U'))\n",
    "X_test_tfidf = tfidf.transform(X_test.values.astype('U'))"
   ]
  },
  {
   "cell_type": "code",
   "execution_count": null,
   "id": "e7b3c718",
   "metadata": {},
   "outputs": [],
   "source": [
    "df = pd.DataFrame(X_train_tfidf.todense().T,\n",
    "                 index = tfidf.get_feature_names(),\n",
    "                 columns=[f'D{i+1}' for i in range(len(X_train))])\n",
    "df"
   ]
  },
  {
   "cell_type": "code",
   "execution_count": null,
   "id": "ef68a00a",
   "metadata": {},
   "outputs": [],
   "source": [
    "# assignment label\n",
    "\n",
    "label_names = ['HS', 'Abusive']"
   ]
  },
  {
   "cell_type": "markdown",
   "id": "80516f01",
   "metadata": {},
   "source": [
    "# K-Fold Cross Validation"
   ]
  },
  {
   "cell_type": "code",
   "execution_count": null,
   "id": "08d4b0da",
   "metadata": {},
   "outputs": [],
   "source": [
    "kfold = StratifiedKFold(n_splits=10, shuffle=True, random_state=42)\n",
    "kfold"
   ]
  },
  {
   "cell_type": "markdown",
   "id": "96948918",
   "metadata": {},
   "source": [
    "# Logistic Regression"
   ]
  },
  {
   "cell_type": "code",
   "execution_count": null,
   "id": "b34fdba6",
   "metadata": {},
   "outputs": [],
   "source": [
    "from luwiji.logistic_regression import illustration, demo\n",
    "\n",
    "illustration.multinomial"
   ]
  },
  {
   "cell_type": "code",
   "execution_count": null,
   "id": "30177b5f",
   "metadata": {},
   "outputs": [],
   "source": [
    "demo.loss_curve()"
   ]
  },
  {
   "cell_type": "code",
   "execution_count": null,
   "id": "372e689b",
   "metadata": {},
   "outputs": [],
   "source": [
    "demo.logistic_regression()"
   ]
  },
  {
   "cell_type": "code",
   "execution_count": null,
   "id": "ada6d042",
   "metadata": {},
   "outputs": [],
   "source": [
    "demo.loss_plane()"
   ]
  },
  {
   "cell_type": "code",
   "execution_count": null,
   "id": "4196cd14",
   "metadata": {},
   "outputs": [],
   "source": [
    "model_logreg = LogisticRegression()"
   ]
  },
  {
   "cell_type": "code",
   "execution_count": null,
   "id": "3501c8fa",
   "metadata": {},
   "outputs": [],
   "source": []
  },
  {
   "cell_type": "markdown",
   "id": "6b666a71",
   "metadata": {},
   "source": [
    "# Randomized Search CV"
   ]
  },
  {
   "cell_type": "code",
   "execution_count": null,
   "id": "dedc5c7c",
   "metadata": {},
   "outputs": [],
   "source": [
    "# Hyperparameter Tuning\n",
    "\n",
    "hyperparameters_logit =  {\n",
    "    'penalty' : ['l2', 'l1'],\n",
    "    'C' :  np.linspace(0, 10, 150),\n",
    "    'solver' : ['liblinear', 'lbfgs']\n",
    "}\n",
    "\n",
    "grid = RandomizedSearchCV(model_logreg, hyperparameters_logit,\n",
    "                          cv=kfold,\n",
    "                          n_jobs=-1,\n",
    "                          verbose=200, return_train_score=True)"
   ]
  },
  {
   "cell_type": "markdown",
   "id": "28a2bb3d",
   "metadata": {},
   "source": [
    "# MultiOutput Classifier"
   ]
  },
  {
   "cell_type": "code",
   "execution_count": null,
   "id": "de1acd37",
   "metadata": {},
   "outputs": [],
   "source": [
    "clf = MultiOutputClassifier(grid)\n",
    "clf.fit(X_train_tfidf, y_train)"
   ]
  },
  {
   "cell_type": "markdown",
   "id": "2237dfec",
   "metadata": {},
   "source": [
    "## fit logistic regression model"
   ]
  },
  {
   "cell_type": "code",
   "execution_count": null,
   "id": "e798ca73",
   "metadata": {},
   "outputs": [],
   "source": [
    "# Learning Curve\n",
    "train_sizes, train_scores, test_scores, fit_times, _ = learning_curve(\n",
    "    clf,\n",
    "    X_train_tfidf,\n",
    "    y_train,\n",
    "    return_times=True)"
   ]
  },
  {
   "cell_type": "code",
   "execution_count": null,
   "id": "51782223",
   "metadata": {},
   "outputs": [],
   "source": [
    "data = train_sizes, train_scores, test_scores, fit_times\n",
    "pd.DataFrame(data)\n",
    "\n",
    "train_sizes.shape, train_scores.shape, test_scores.shape, fit_times.shape"
   ]
  },
  {
   "cell_type": "code",
   "execution_count": null,
   "id": "1400453c",
   "metadata": {},
   "outputs": [],
   "source": [
    "train_mean = np.mean(train_scores, axis=1)\n",
    "train_std = np.std(train_scores, axis=1)\n",
    "test_mean = np.mean(test_scores, axis=1)\n",
    "test_std = np.std(test_scores, axis=1)\n",
    "\n",
    "plt.plot(train_sizes, train_mean, label = \"Training Score\")\n",
    "plt.plot(train_sizes, test_mean, label = \"Cross-Validation Score\")\n",
    "\n",
    "plt.fill_between(train_sizes, train_mean-train_std, train_mean+train_std, color=\"#DDDDDD\")\n",
    "plt.fill_between(train_sizes, test_mean-test_std, test_mean+test_std, color=\"#DDDDDD\")\n",
    "\n",
    "plt.title(\"Learning Curve\")\n",
    "plt.xlabel(\"Training Size\")\n",
    "plt.ylabel(\"Accuracy Score\")\n",
    "plt.legend()"
   ]
  },
  {
   "cell_type": "code",
   "execution_count": null,
   "id": "9eeb68ea",
   "metadata": {},
   "outputs": [],
   "source": [
    "clf"
   ]
  },
  {
   "cell_type": "markdown",
   "id": "d7f043b8",
   "metadata": {},
   "source": [
    "# Metrics Classification"
   ]
  },
  {
   "cell_type": "code",
   "execution_count": null,
   "id": "714cd8f0",
   "metadata": {},
   "outputs": [],
   "source": [
    "y_pred = clf.predict(X_test_tfidf)"
   ]
  },
  {
   "cell_type": "markdown",
   "id": "e92b3b9d",
   "metadata": {},
   "source": [
    "## classification report"
   ]
  },
  {
   "cell_type": "code",
   "execution_count": null,
   "id": "952feef9",
   "metadata": {},
   "outputs": [],
   "source": [
    "print(classification_report(y_test, y_pred,target_names=label_names))"
   ]
  },
  {
   "cell_type": "markdown",
   "id": "6cc0c150",
   "metadata": {},
   "source": [
    "## accuracy metrics"
   ]
  },
  {
   "cell_type": "code",
   "execution_count": null,
   "id": "c9d52903",
   "metadata": {},
   "outputs": [],
   "source": [
    "print(\"Accuracy Score Data Training\", clf.score(X_train_tfidf, y_train))\n",
    "print(\"Accuracy Score Data Testing\", clf.score(X_test_tfidf, y_test))"
   ]
  },
  {
   "cell_type": "code",
   "execution_count": null,
   "id": "e4a534cd",
   "metadata": {},
   "outputs": [],
   "source": [
    "score_lr = accuracy_score(y_pred, y_test)\n",
    "print(score_lr)"
   ]
  },
  {
   "cell_type": "code",
   "execution_count": null,
   "id": "f908b8b8",
   "metadata": {},
   "outputs": [],
   "source": [
    "clf.estimators_"
   ]
  },
  {
   "cell_type": "code",
   "execution_count": null,
   "id": "748e86a0",
   "metadata": {
    "scrolled": true
   },
   "outputs": [],
   "source": [
    "from sklearn.neighbors import KNeighborsClassifier\n",
    "\n",
    "knn = KNeighborsClassifier()\n",
    "\n",
    "# Hyperparameter Tuning\n",
    "\n",
    "n_neighbors = range(1, 51, 2)\n",
    "weights = ['uniform', 'distance']\n",
    "\n",
    "hyperparameters_knn = dict(n_neighbors=n_neighbors,\n",
    "                           weights=weights)\n",
    "\n",
    "grid_knn = RandomizedSearchCV(knn,\n",
    "                    hyperparameters_knn,\n",
    "                    cv=kfold,\n",
    "                    n_jobs=-1,\n",
    "                    verbose=200)\n",
    "\n",
    "clf_knn = MultiOutputClassifier(grid_knn).fit(X_train_tfidf, y_train)\n",
    "\n",
    "y_pred = clf_knn.predict(X_test_tfidf)"
   ]
  },
  {
   "cell_type": "code",
   "execution_count": null,
   "id": "4a4b6e29",
   "metadata": {},
   "outputs": [],
   "source": []
  },
  {
   "cell_type": "code",
   "execution_count": null,
   "id": "2988da62",
   "metadata": {},
   "outputs": [],
   "source": []
  },
  {
   "cell_type": "code",
   "execution_count": null,
   "id": "155c794b",
   "metadata": {},
   "outputs": [],
   "source": [
    "print(classification_report(y_test, y_pred,target_names=label_names))"
   ]
  },
  {
   "cell_type": "code",
   "execution_count": null,
   "id": "0950aa54",
   "metadata": {},
   "outputs": [],
   "source": [
    "print(\"Accuracy Score Data Training\", clf_knn.score(X_train_tfidf, y_train))\n",
    "print(\"Accuracy Score Data Testing\", clf_knn.score(X_test_tfidf, y_test))"
   ]
  },
  {
   "cell_type": "code",
   "execution_count": null,
   "id": "864ce09f",
   "metadata": {},
   "outputs": [],
   "source": []
  },
  {
   "cell_type": "markdown",
   "id": "06dce7d7",
   "metadata": {},
   "source": [
    "# Save Model"
   ]
  },
  {
   "cell_type": "code",
   "execution_count": null,
   "id": "eb0906e7",
   "metadata": {},
   "outputs": [],
   "source": [
    "model_path = \"/home/dadandw/scrispy/build_model/skripsi/model/algo_model/model_logreg.jlib\""
   ]
  },
  {
   "cell_type": "code",
   "execution_count": null,
   "id": "e5da68d4",
   "metadata": {},
   "outputs": [],
   "source": [
    "joblib.dump(clf, model_path)"
   ]
  },
  {
   "cell_type": "code",
   "execution_count": null,
   "id": "ae292276",
   "metadata": {},
   "outputs": [],
   "source": []
  },
  {
   "cell_type": "code",
   "execution_count": null,
   "id": "cc7dae1a",
   "metadata": {},
   "outputs": [],
   "source": []
  }
 ],
 "metadata": {
  "kernelspec": {
   "display_name": "env_scrispy",
   "language": "python",
   "name": "env_scrispy"
  },
  "language_info": {
   "codemirror_mode": {
    "name": "ipython",
    "version": 3
   },
   "file_extension": ".py",
   "mimetype": "text/x-python",
   "name": "python",
   "nbconvert_exporter": "python",
   "pygments_lexer": "ipython3",
   "version": "3.9.12"
  },
  "toc": {
   "base_numbering": 1,
   "nav_menu": {},
   "number_sections": true,
   "sideBar": true,
   "skip_h1_title": false,
   "title_cell": "Table of Contents",
   "title_sidebar": "Contents",
   "toc_cell": false,
   "toc_position": {
    "height": "calc(100% - 180px)",
    "left": "10px",
    "top": "150px",
    "width": "273.2px"
   },
   "toc_section_display": true,
   "toc_window_display": false
  },
  "varInspector": {
   "cols": {
    "lenName": 16,
    "lenType": 16,
    "lenVar": 40
   },
   "kernels_config": {
    "python": {
     "delete_cmd_postfix": "",
     "delete_cmd_prefix": "del ",
     "library": "var_list.py",
     "varRefreshCmd": "print(var_dic_list())"
    },
    "r": {
     "delete_cmd_postfix": ") ",
     "delete_cmd_prefix": "rm(",
     "library": "var_list.r",
     "varRefreshCmd": "cat(var_dic_list()) "
    }
   },
   "types_to_exclude": [
    "module",
    "function",
    "builtin_function_or_method",
    "instance",
    "_Feature"
   ],
   "window_display": false
  }
 },
 "nbformat": 4,
 "nbformat_minor": 5
}
