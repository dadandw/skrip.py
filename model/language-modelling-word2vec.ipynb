{
 "cells": [
  {
   "cell_type": "code",
   "execution_count": null,
   "id": "672f1b1f",
   "metadata": {},
   "outputs": [],
   "source": [
    "#  !pip install umap-learn"
   ]
  },
  {
   "cell_type": "code",
   "execution_count": null,
   "id": "9b5ee534",
   "metadata": {
    "ExecuteTime": {
     "end_time": "2022-01-14T12:40:34.261460Z",
     "start_time": "2022-01-14T12:38:37.847317Z"
    }
   },
   "outputs": [],
   "source": [
    "# Import Library\n",
    "\n",
    "import numpy as np\n",
    "import pandas as pd\n",
    "import plotly.express as px\n",
    "import joblib\n",
    "\n",
    "import gensim\n",
    "from umap import UMAP\n",
    "from gensim.models import FastText, KeyedVectors\n",
    "from gensim.models import Word2Vec as w2v\n",
    "from nltk.tokenize import word_tokenize\n",
    "\n",
    "from luwiji.word_vector import illustration\n",
    "from sklearn.feature_extraction.text import TfidfVectorizer\n",
    "from sklearn.metrics.pairwise import cosine_similarity\n",
    "\n",
    "import warnings\n",
    "warnings.filterwarnings('ignore')"
   ]
  },
  {
   "cell_type": "code",
   "execution_count": null,
   "id": "7cb806a0",
   "metadata": {
    "ExecuteTime": {
     "end_time": "2022-01-14T12:40:38.521804Z",
     "start_time": "2022-01-14T12:40:34.459141Z"
    }
   },
   "outputs": [],
   "source": [
    "# Load Dataset\n",
    "\n",
    "data = pd.read_csv('../dataset/data_modelling.csv', index_col=None)\n",
    "data.head()"
   ]
  },
  {
   "cell_type": "code",
   "execution_count": null,
   "id": "06fbf854",
   "metadata": {
    "ExecuteTime": {
     "end_time": "2022-01-14T12:40:39.858502Z",
     "start_time": "2022-01-14T12:40:39.422719Z"
    }
   },
   "outputs": [],
   "source": [
    "sentences = [word_tokenize(Tweet.lower()) for Tweet in data.Tweet.astype(str)]\n",
    "sentences[:5]"
   ]
  },
  {
   "cell_type": "code",
   "execution_count": null,
   "id": "58ee44fc",
   "metadata": {},
   "outputs": [],
   "source": []
  },
  {
   "cell_type": "markdown",
   "id": "fb11a58a",
   "metadata": {},
   "source": [
    "# Word2Vec"
   ]
  },
  {
   "cell_type": "code",
   "execution_count": null,
   "id": "6e9a14b6",
   "metadata": {
    "ExecuteTime": {
     "end_time": "2021-12-27T03:46:55.140189Z",
     "start_time": "2021-12-27T03:46:55.117505Z"
    }
   },
   "outputs": [],
   "source": [
    "illustration.cbow_vs_skipgram"
   ]
  },
  {
   "cell_type": "code",
   "execution_count": null,
   "id": "a6930392",
   "metadata": {
    "ExecuteTime": {
     "end_time": "2021-12-27T03:46:55.247906Z",
     "start_time": "2021-12-27T03:46:55.155472Z"
    }
   },
   "outputs": [],
   "source": [
    "illustration.word2vec"
   ]
  },
  {
   "cell_type": "code",
   "execution_count": null,
   "id": "269d8ad5",
   "metadata": {
    "ExecuteTime": {
     "end_time": "2021-12-27T03:46:55.337162Z",
     "start_time": "2021-12-27T03:46:55.253033Z"
    }
   },
   "outputs": [],
   "source": [
    "# model = gensim.models.Word2Vec.load(\"/home/dadandw/scrispy/build_model/model/lang_model/idwiki_word2vec_200_new_lower.model\")"
   ]
  },
  {
   "cell_type": "code",
   "execution_count": null,
   "id": "1e5b42b1",
   "metadata": {
    "ExecuteTime": {
     "end_time": "2021-12-26T15:24:04.639909Z",
     "start_time": "2021-12-26T15:24:03.598977Z"
    }
   },
   "outputs": [],
   "source": [
    "# build model sendiri\n",
    "\n",
    "model_w2v = w2v(sentences=sentences, vector_size=128, window=7, min_count=3, sg=1)"
   ]
  },
  {
   "cell_type": "code",
   "execution_count": null,
   "id": "3fd9fd1b",
   "metadata": {
    "ExecuteTime": {
     "end_time": "2021-12-26T15:24:04.653402Z",
     "start_time": "2021-12-26T15:24:04.653354Z"
    }
   },
   "outputs": [],
   "source": [
    "# training ulang model\n",
    "\n",
    "model_w2v.train(sentences,\n",
    "            total_examples=model_w2v.corpus_count,\n",
    "            epochs=100,\n",
    "            report_delay=100)"
   ]
  },
  {
   "cell_type": "code",
   "execution_count": null,
   "id": "23458053",
   "metadata": {
    "ExecuteTime": {
     "end_time": "2021-12-27T03:47:32.545138Z",
     "start_time": "2021-12-27T03:47:16.628587Z"
    }
   },
   "outputs": [],
   "source": [
    "# model = KeyedVectors.load(model_path)"
   ]
  },
  {
   "cell_type": "code",
   "execution_count": null,
   "id": "6af7e67b",
   "metadata": {
    "ExecuteTime": {
     "end_time": "2021-12-27T03:47:32.964563Z",
     "start_time": "2021-12-27T03:47:32.761886Z"
    }
   },
   "outputs": [],
   "source": [
    "# model.init_sims(replace=True)"
   ]
  },
  {
   "cell_type": "code",
   "execution_count": null,
   "id": "35260f3a",
   "metadata": {
    "ExecuteTime": {
     "end_time": "2021-12-27T03:47:33.638049Z",
     "start_time": "2021-12-27T03:47:32.967904Z"
    }
   },
   "outputs": [],
   "source": [
    "print(model_w2v)"
   ]
  },
  {
   "cell_type": "code",
   "execution_count": null,
   "id": "ba3f1389",
   "metadata": {
    "ExecuteTime": {
     "end_time": "2021-12-26T15:12:08.504243Z",
     "start_time": "2021-12-26T15:12:08.495369Z"
    }
   },
   "outputs": [],
   "source": []
  },
  {
   "cell_type": "code",
   "execution_count": null,
   "id": "6808d477",
   "metadata": {
    "ExecuteTime": {
     "end_time": "2021-12-27T03:47:42.017756Z",
     "start_time": "2021-12-27T03:47:42.005607Z"
    }
   },
   "outputs": [],
   "source": [
    "print(\"Jumlah epocs:\", model_w2v.epochs)\n",
    "print(\"Jumlah corpus:\", model_w2v.corpus_count)\n",
    "print(\"Dimensi vektor:\", model_w2v.vector_size)"
   ]
  },
  {
   "cell_type": "code",
   "execution_count": null,
   "id": "59f46eae",
   "metadata": {
    "ExecuteTime": {
     "end_time": "2021-12-27T03:48:39.168847Z",
     "start_time": "2021-12-27T03:47:45.900559Z"
    }
   },
   "outputs": [],
   "source": [
    "# Visualization higher order\n",
    "\n",
    "X = UMAP().fit_transform(model_w2v.wv.vectors)\n",
    "df = pd.DataFrame(X, columns=['umap1', 'umap2'])\n",
    "df['Tweet'] = model_w2v.wv.index_to_key\n",
    "df"
   ]
  },
  {
   "cell_type": "code",
   "execution_count": null,
   "id": "7644b69f",
   "metadata": {
    "ExecuteTime": {
     "end_time": "2021-12-27T03:48:53.852220Z",
     "start_time": "2021-12-27T03:48:39.172830Z"
    }
   },
   "outputs": [],
   "source": [
    "fig = px.scatter(df,\n",
    "                 x='umap1',\n",
    "                 y='umap2',\n",
    "                 text='Tweet')\n",
    "fig.update_traces(textposition='top center')\n",
    "fig.update_layout(height=800,\n",
    "                 title_text='Reduced Word2Vec Visualization')\n",
    "\n",
    "fig.show()"
   ]
  },
  {
   "cell_type": "markdown",
   "id": "9dd0acbb",
   "metadata": {},
   "source": [
    "## Cosine similarities"
   ]
  },
  {
   "cell_type": "code",
   "execution_count": null,
   "id": "cd4d7b5e",
   "metadata": {},
   "outputs": [],
   "source": [
    " model_w2v.wv['bangsa']"
   ]
  },
  {
   "cell_type": "code",
   "execution_count": null,
   "id": "2e484592",
   "metadata": {
    "ExecuteTime": {
     "end_time": "2021-12-27T03:50:10.282742Z",
     "start_time": "2021-12-27T03:50:09.221171Z"
    }
   },
   "outputs": [],
   "source": [
    "model_w2v.wv.most_similar('bangsa', topn=10)"
   ]
  },
  {
   "cell_type": "code",
   "execution_count": null,
   "id": "b76cac6f",
   "metadata": {},
   "outputs": [],
   "source": []
  },
  {
   "cell_type": "code",
   "execution_count": null,
   "id": "999441d3",
   "metadata": {},
   "outputs": [],
   "source": [
    " model_w2v.wv['bangsat']"
   ]
  },
  {
   "cell_type": "code",
   "execution_count": null,
   "id": "040e2037",
   "metadata": {
    "ExecuteTime": {
     "end_time": "2021-12-27T03:50:12.665369Z",
     "start_time": "2021-12-27T03:50:12.578104Z"
    }
   },
   "outputs": [],
   "source": [
    "model_w2v.wv.most_similar(\"bangsat\", topn=10)"
   ]
  },
  {
   "cell_type": "code",
   "execution_count": null,
   "id": "64f6ef46",
   "metadata": {},
   "outputs": [],
   "source": []
  },
  {
   "cell_type": "code",
   "execution_count": null,
   "id": "93dd6050",
   "metadata": {
    "ExecuteTime": {
     "end_time": "2021-12-27T03:50:13.405168Z",
     "start_time": "2021-12-27T03:50:13.391767Z"
    }
   },
   "outputs": [],
   "source": [
    "model_w2v.wv['prabowo']"
   ]
  },
  {
   "cell_type": "code",
   "execution_count": null,
   "id": "b0592eca",
   "metadata": {
    "ExecuteTime": {
     "end_time": "2021-12-27T03:50:20.788991Z",
     "start_time": "2021-12-27T03:50:20.765194Z"
    }
   },
   "outputs": [],
   "source": [
    "model_w2v.wv.most_similar(\"prabowo\", topn=10)"
   ]
  },
  {
   "cell_type": "code",
   "execution_count": null,
   "id": "c08bb1d8",
   "metadata": {
    "ExecuteTime": {
     "end_time": "2021-12-27T03:50:24.822230Z",
     "start_time": "2021-12-27T03:50:24.802103Z"
    }
   },
   "outputs": [],
   "source": [
    "model_w2v.wv.similarity('jokowi', 'prabowo')"
   ]
  },
  {
   "cell_type": "code",
   "execution_count": null,
   "id": "1fdf0908",
   "metadata": {
    "ExecuteTime": {
     "end_time": "2021-12-27T03:50:27.857048Z",
     "start_time": "2021-12-27T03:50:27.833399Z"
    }
   },
   "outputs": [],
   "source": [
    "model_w2v.wv.most_similar(positive=['cerdas', 'pintar'], negative=['tolol'])"
   ]
  },
  {
   "cell_type": "code",
   "execution_count": null,
   "id": "0e6c3efa",
   "metadata": {
    "ExecuteTime": {
     "end_time": "2021-12-27T03:46:55.425639Z",
     "start_time": "2021-12-27T03:46:55.348341Z"
    }
   },
   "outputs": [],
   "source": [
    "model_path = '/home/dadandw/scrispy/build_model/skripsi/model/lang_model/my_model/vector_word2vec.w2v'"
   ]
  },
  {
   "cell_type": "code",
   "execution_count": null,
   "id": "9b3a887a",
   "metadata": {
    "ExecuteTime": {
     "end_time": "2021-12-26T15:24:04.647187Z",
     "start_time": "2021-12-26T15:24:04.647141Z"
    }
   },
   "outputs": [],
   "source": [
    "model_w2v.save(model_path)"
   ]
  },
  {
   "cell_type": "markdown",
   "id": "98f7737d",
   "metadata": {},
   "source": [
    "## sent2vec"
   ]
  },
  {
   "cell_type": "code",
   "execution_count": null,
   "id": "b693c857",
   "metadata": {
    "ExecuteTime": {
     "end_time": "2021-12-27T04:14:16.666601Z",
     "start_time": "2021-12-27T04:14:16.207780Z"
    }
   },
   "outputs": [],
   "source": [
    "tweets = data['Tweet'].apply(str)\n",
    "tweets"
   ]
  },
  {
   "cell_type": "code",
   "execution_count": null,
   "id": "abe284bc",
   "metadata": {
    "ExecuteTime": {
     "end_time": "2021-12-27T04:14:22.173375Z",
     "start_time": "2021-12-27T04:14:22.026626Z"
    }
   },
   "outputs": [],
   "source": [
    "# # sentence to vector\n",
    "\n",
    "# def sent_vector(sentence, w2v_model):\n",
    "#     vecs = [w2v_model[word.lower()] for word in word_tokenize(sentence)]\n",
    "#     sent_vec = np.mean(vecs, axis = 0)\n",
    "#     return sent_vec\n",
    "\n",
    "# def norm_sent_vector(sentence, w2v_model):\n",
    "#     vecs = [w2v_model for word in word_tokenize(sentence)]    \n",
    "#     norm_vecs = [vec / np.linalg.norm(vec) for vec in vecs if np.linalg.norm(vec) > 0]    \n",
    "#     sent_vec = np.mean(norm_vecs, axis = 0)\n",
    "#     return sent_vec"
   ]
  },
  {
   "cell_type": "code",
   "execution_count": null,
   "id": "584fc6ae",
   "metadata": {
    "ExecuteTime": {
     "end_time": "2021-12-27T04:14:23.924972Z",
     "start_time": "2021-12-27T04:14:23.906405Z"
    }
   },
   "outputs": [],
   "source": [
    "# data.shape"
   ]
  },
  {
   "cell_type": "code",
   "execution_count": null,
   "id": "a4c3f064",
   "metadata": {
    "ExecuteTime": {
     "end_time": "2021-12-27T04:27:04.961336Z",
     "start_time": "2021-12-27T04:21:45.597064Z"
    }
   },
   "outputs": [],
   "source": [
    "# vecs = [sent_vector(sentence, model_w2v.wv) for sentence in tweets]\n",
    "# vecs = np.array(vecs)\n",
    "# vecs"
   ]
  },
  {
   "cell_type": "code",
   "execution_count": null,
   "id": "f00fc06b",
   "metadata": {
    "ExecuteTime": {
     "end_time": "2021-12-27T04:27:35.595983Z",
     "start_time": "2021-12-27T04:27:35.467130Z"
    }
   },
   "outputs": [],
   "source": [
    "vecs.shape"
   ]
  },
  {
   "cell_type": "code",
   "execution_count": null,
   "id": "a0473139",
   "metadata": {},
   "outputs": [],
   "source": []
  }
 ],
 "metadata": {
  "kernelspec": {
   "display_name": "env_scrispy",
   "language": "python",
   "name": "env_scrispy"
  },
  "language_info": {
   "codemirror_mode": {
    "name": "ipython",
    "version": 3
   },
   "file_extension": ".py",
   "mimetype": "text/x-python",
   "name": "python",
   "nbconvert_exporter": "python",
   "pygments_lexer": "ipython3",
   "version": "3.9.12"
  },
  "toc": {
   "base_numbering": 1,
   "nav_menu": {},
   "number_sections": true,
   "sideBar": true,
   "skip_h1_title": false,
   "title_cell": "Table of Contents",
   "title_sidebar": "Contents",
   "toc_cell": false,
   "toc_position": {},
   "toc_section_display": true,
   "toc_window_display": true
  },
  "varInspector": {
   "cols": {
    "lenName": 16,
    "lenType": 16,
    "lenVar": 40
   },
   "kernels_config": {
    "python": {
     "delete_cmd_postfix": "",
     "delete_cmd_prefix": "del ",
     "library": "var_list.py",
     "varRefreshCmd": "print(var_dic_list())"
    },
    "r": {
     "delete_cmd_postfix": ") ",
     "delete_cmd_prefix": "rm(",
     "library": "var_list.r",
     "varRefreshCmd": "cat(var_dic_list()) "
    }
   },
   "types_to_exclude": [
    "module",
    "function",
    "builtin_function_or_method",
    "instance",
    "_Feature"
   ],
   "window_display": false
  }
 },
 "nbformat": 4,
 "nbformat_minor": 5
}
